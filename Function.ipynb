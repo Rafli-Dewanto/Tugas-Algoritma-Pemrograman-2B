{
 "cells": [
  {
   "cell_type": "markdown",
   "id": "28cd0628",
   "metadata": {},
   "source": [
    "# <font color='SteelBlue'>Python Function</font>"
   ]
  },
  {
   "cell_type": "markdown",
   "id": "ec286f58",
   "metadata": {},
   "source": [
    "Fungsi adalah blok kode yang hanya berjalan ketika dipanggil.\n",
    "\n",
    "Anda dapat memasukkan data, yang dikenal sebagai parameter, ke dalam suatu fungsi.\n",
    "\n",
    "Sebuah fungsi dapat mengembalikan data sebagai hasilnya."
   ]
  },
  {
   "cell_type": "markdown",
   "id": "48ef2d00",
   "metadata": {},
   "source": [
    "Dalam Python, sebuah fungsi didefinisikan menggunakan kata kunci def:"
   ]
  },
  {
   "cell_type": "code",
   "execution_count": 4,
   "id": "0aef6d76",
   "metadata": {},
   "outputs": [],
   "source": [
    "def fun():\n",
    "    print(\"Halo\")"
   ]
  },
  {
   "cell_type": "code",
   "execution_count": 3,
   "id": "cd0dedca",
   "metadata": {},
   "outputs": [
    {
     "name": "stdout",
     "output_type": "stream",
     "text": [
      "Halo\n"
     ]
    }
   ],
   "source": [
    "fun() # memmanggil sebuah function."
   ]
  },
  {
   "cell_type": "markdown",
   "id": "107f9d45",
   "metadata": {},
   "source": [
    "### Argumen  \n",
    "Informasi dapat diteruskan ke fungsi sebagai argumen.\n",
    "\n",
    "Argumen ditentukan setelah nama fungsi, di dalam tanda kurung. Kita dapat menambahkan argumen sebanyak yang Anda inginkan, cukup pisahkan dengan koma.\n",
    "\n",
    "Contoh berikut memiliki fungsi dengan satu argumen (fname). Saat fungsi dipanggil, saya memberikan nama depan, yang digunakan di dalam fungsi untuk mencetak nama lengkap:"
   ]
  },
  {
   "cell_type": "code",
   "execution_count": 7,
   "id": "09fd0ad3",
   "metadata": {},
   "outputs": [
    {
     "name": "stdout",
     "output_type": "stream",
     "text": [
      "Jason Xaverius\n",
      "Rob Xaverius\n",
      "Michael Xaverius\n"
     ]
    }
   ],
   "source": [
    "def fun(fname):\n",
    "    print(fname + \" Xaverius\")\n",
    "\n",
    "fun(\"Jason\")\n",
    "fun(\"Rob\")\n",
    "fun(\"Michael\")"
   ]
  },
  {
   "cell_type": "markdown",
   "id": "e1be44ae",
   "metadata": {},
   "source": [
    "### Jumlah Argumen  \n",
    "Secara default, suatu fungsi harus dipanggil dengan jumlah argumen yang benar. Artinya jika fungsi Anda mengekspetasikan 2 argumen, Anda harus memanggil fungsi dengan 2 argumen, tidak lebih, dan tidak kurang."
   ]
  },
  {
   "cell_type": "code",
   "execution_count": 9,
   "id": "dc7bd295",
   "metadata": {},
   "outputs": [],
   "source": [
    "def fun(fname, lname):\n",
    "    print(fname + \" \" + lname)"
   ]
  },
  {
   "cell_type": "code",
   "execution_count": 10,
   "id": "606b1265",
   "metadata": {},
   "outputs": [
    {
     "name": "stdout",
     "output_type": "stream",
     "text": [
      "Rafli Dewanto\n"
     ]
    }
   ],
   "source": [
    "fun(\"Rafli\", \"Dewanto\")"
   ]
  },
  {
   "cell_type": "code",
   "execution_count": 11,
   "id": "f4e46e28",
   "metadata": {},
   "outputs": [
    {
     "ename": "TypeError",
     "evalue": "fun() missing 1 required positional argument: 'lname'",
     "output_type": "error",
     "traceback": [
      "\u001b[0;31m---------------------------------------------------------------------------\u001b[0m",
      "\u001b[0;31mTypeError\u001b[0m                                 Traceback (most recent call last)",
      "\u001b[0;32m/var/folders/vq/5zyclt6n1mn8qjx5k2gd86580000gn/T/ipykernel_4203/3693968582.py\u001b[0m in \u001b[0;36m<module>\u001b[0;34m\u001b[0m\n\u001b[0;32m----> 1\u001b[0;31m \u001b[0mfun\u001b[0m\u001b[0;34m(\u001b[0m\u001b[0;34m\"Rafli\"\u001b[0m\u001b[0;34m)\u001b[0m \u001b[0;31m# akan error karena program mengekspetasikan 2 argumen tetapi hanya ad 1.\u001b[0m\u001b[0;34m\u001b[0m\u001b[0;34m\u001b[0m\u001b[0m\n\u001b[0m",
      "\u001b[0;31mTypeError\u001b[0m: fun() missing 1 required positional argument: 'lname'"
     ]
    }
   ],
   "source": [
    "fun(\"Rafli\") # akan error karena program mengekspetasikan 2 argumen tetapi hanya ad 1."
   ]
  },
  {
   "cell_type": "markdown",
   "id": "4c3a28e9",
   "metadata": {},
   "source": [
    "### Argumen arbitrary, *args  \n",
    "Jika kita tidak tahu berapa banyak argumen yang akan diteruskan ke fungsi Anda, tambahkan * sebelum nama parameter dalam definisi fungsi.\n",
    "\n",
    "Dengan cara ini fungsi akan menerima argumen tuple, dan dapat mengakses item yang sesuai:"
   ]
  },
  {
   "cell_type": "code",
   "execution_count": 26,
   "id": "70ef8f34",
   "metadata": {},
   "outputs": [
    {
     "name": "stdout",
     "output_type": "stream",
     "text": [
      "Elon\n"
     ]
    }
   ],
   "source": [
    "def fun(*orang):\n",
    "    print(orang[2])\n",
    "\n",
    "fun(\"Jeff\", \"Bill\", \"Elon\")"
   ]
  },
  {
   "cell_type": "markdown",
   "id": "8fed32f1",
   "metadata": {},
   "source": [
    "### Keyword Arguments \n",
    "Kita juga dapat mengirim argumen dengan sintaks key = value.\n",
    "\n",
    "Dengan cara ini urutan argumen tidak menjadi masalah."
   ]
  },
  {
   "cell_type": "code",
   "execution_count": 16,
   "id": "983d41e8",
   "metadata": {},
   "outputs": [
    {
     "name": "stdout",
     "output_type": "stream",
     "text": [
      "87\n"
     ]
    }
   ],
   "source": [
    "def fun(nilai3, nilai2, nilai1):\n",
    "    print(nilai2)\n",
    "\n",
    "fun(nilai1 = 90, nilai2 = 87, nilai3 = 96)"
   ]
  },
  {
   "cell_type": "markdown",
   "id": "6413096c",
   "metadata": {},
   "source": [
    "### Arbitrary Keyword Arguments, **kwargs  \n",
    "Jika Anda tidak tahu berapa banyak argumen kata kunci yang akan diteruskan ke fungsi Anda, tambahkan dua tanda bintang: ** sebelum nama parameter dalam definisi fungsi.\n",
    "\n",
    "Dengan cara ini fungsi akan menerima kamus argumen, dan dapat mengakses item yang sesuai:"
   ]
  },
  {
   "cell_type": "code",
   "execution_count": 17,
   "id": "25dbe27b",
   "metadata": {},
   "outputs": [
    {
     "name": "stdout",
     "output_type": "stream",
     "text": [
      "90\n"
     ]
    }
   ],
   "source": [
    "def fun(**nilai):\n",
    "    print(nilai[\"nilai1\"])\n",
    "\n",
    "fun(nilai1 = 90, nilai2 = 95)"
   ]
  },
  {
   "cell_type": "markdown",
   "id": "8a9386c8",
   "metadata": {},
   "source": [
    "### Nilai Parameter Default  \n",
    "Contoh berikut menunjukkan cara menggunakan nilai parameter default.\n",
    "\n",
    "Jika kita memanggil fungsi tanpa argumen, ia menggunakan nilai default:"
   ]
  },
  {
   "cell_type": "code",
   "execution_count": 18,
   "id": "a60aeb46",
   "metadata": {},
   "outputs": [
    {
     "name": "stdout",
     "output_type": "stream",
     "text": [
      "Saya warga negara Swedia\n",
      "Saya warga negara India\n",
      "Saya warga negara Indonesia\n",
      "Saya warga negara Brazil\n"
     ]
    }
   ],
   "source": [
    "def fun(Negara = \"Indonesia\"):\n",
    "    print(\"Saya warga negara \" + Negara)\n",
    "\n",
    "fun(\"Swedia\")\n",
    "fun(\"India\")\n",
    "fun()\n",
    "fun(\"Brazil\")"
   ]
  },
  {
   "cell_type": "code",
   "execution_count": null,
   "id": "6ab3310b",
   "metadata": {},
   "outputs": [],
   "source": [
    "def tambah_kurang(a,b):\n",
    "    return a+b, a-b\n",
    "\n",
    "tambah, kurang = tambah_kurang(4,2)\n",
    "print(f\"{tambah}, {kurang}\")"
   ]
  },
  {
   "cell_type": "code",
   "execution_count": null,
   "id": "5e6a541d",
   "metadata": {
    "scrolled": true
   },
   "outputs": [],
   "source": [
    "def pos_arg(kata, frekuensi = 1, jumlah = 0): # <- optional argument\n",
    "    print(kata * (frekuensi + jumlah))\n",
    "    \n",
    "pos_arg(\"Halo\")"
   ]
  },
  {
   "cell_type": "code",
   "execution_count": null,
   "id": "51526910",
   "metadata": {
    "scrolled": true
   },
   "outputs": [],
   "source": [
    "def jumlah(*args):\n",
    "    hasil = 0\n",
    "    for i in args:\n",
    "        hasil += i\n",
    "    return hasil\n",
    "\n",
    "print(jumlah(1, 2, 3))"
   ]
  },
  {
   "cell_type": "code",
   "execution_count": null,
   "id": "e48b5107",
   "metadata": {},
   "outputs": [],
   "source": [
    "def jumlah(*bilangan):\n",
    "    jumlah = [hasil+5 for hasil in bilangan]\n",
    "    return jumlah\n",
    "\n",
    "print(jumlah(2,3,4))"
   ]
  },
  {
   "cell_type": "code",
   "execution_count": 25,
   "id": "70327187",
   "metadata": {},
   "outputs": [
    {
     "name": "stdout",
     "output_type": "stream",
     "text": [
      "laptop\n",
      "pensil\n",
      "tas\n"
     ]
    }
   ],
   "source": [
    "def fun(barang):\n",
    "    for x in barang:\n",
    "        print(x)\n",
    "\n",
    "barang = [\"laptop\", \"pensil\", \"tas\"]\n",
    "\n",
    "fun(barang) # passing argumen dalam bentuk list"
   ]
  },
  {
   "cell_type": "code",
   "execution_count": 22,
   "id": "ec76510b",
   "metadata": {},
   "outputs": [
    {
     "name": "stdout",
     "output_type": "stream",
     "text": [
      "15\n"
     ]
    }
   ],
   "source": [
    "def fungsi(a, b, c):\n",
    "    print(a + b * c)\n",
    "\n",
    "lst = [3, 4, 3]\n",
    "# unpack list\n",
    "fungsi(*lst)"
   ]
  },
  {
   "cell_type": "code",
   "execution_count": null,
   "id": "8f2b79ba",
   "metadata": {},
   "outputs": [],
   "source": [
    "def fungsi(arg1=None, arg2=None, arg3=None):\n",
    "    print(arg1, arg2, arg3)\n",
    "    \n",
    "kwargs = {\"arg2\":1, \"arg3\":2, \"arg1\":3}\n",
    "fungsi(**kwargs)"
   ]
  },
  {
   "cell_type": "code",
   "execution_count": null,
   "id": "2b8e46c6",
   "metadata": {
    "scrolled": true
   },
   "outputs": [],
   "source": [
    "def biodata(**data):\n",
    "    for key,value in data.items():\n",
    "        print(key,value)\n",
    "\n",
    "biodata(Nama=\": Rafli\", NPM=\": 51421208\", Jurusan=\": Teknik Informatika\")"
   ]
  },
  {
   "cell_type": "code",
   "execution_count": null,
   "id": "10b8727e",
   "metadata": {},
   "outputs": [],
   "source": [
    "def karyawan(Nama, Posisi, Gaji): \n",
    "    return Nama, Posisi, Gaji\n",
    "\n",
    "Nama, Posisi, Gaji = karyawan(\"Ucup\",\"Product Manager\", 9000000)\n",
    "\n",
    "print(f\"Nama: {Nama}\\nPosisi: {Posisi}\\nGaji: Rp {Gaji:,.2f}\")"
   ]
  },
  {
   "cell_type": "code",
   "execution_count": null,
   "id": "eac53001",
   "metadata": {},
   "outputs": [],
   "source": [
    "def max_num(num1, num2, num3):\n",
    "    if num1 > num2 and num1 > num3:\n",
    "        return num1\n",
    "    elif num1 < num2 and num2 > num3:\n",
    "        return num2\n",
    "    else:\n",
    "        return num3\n",
    "\n",
    "def main():\n",
    "    num1 = int(input(\"masukkan angka pertama : \"))\n",
    "    num2 = int(input(\"masukkan angka kedua : \"))\n",
    "    num3 = int(input(\"masukkan angka ketiga : \"))\n",
    "    angka_terbesar = max_num(num1, num2, num3)\n",
    "    print(f'angka terbesar = {angka_terbesar}')\n",
    "main()"
   ]
  },
  {
   "cell_type": "markdown",
   "id": "33aab829",
   "metadata": {},
   "source": [
    "### <Font color=\"\">Recursive Function</font>\n",
    "\n",
    "<font color=\"DeepPink\">Recursive</font> adalah ketika suatu fungsi memanggil dirinya sendiri dalam bloknya, sehingga berulang kali mengeksekusi instruksi yang ada di dalamnya.   \n",
    "\n",
    "<font color=\"Indigo\">Iterative</font> adalah ketika sebuah loop berulang kali mengeksekusi set instruksi seperti loop \"for\" dan loop \"while\"."
   ]
  },
  {
   "cell_type": "code",
   "execution_count": null,
   "id": "f3a52e35",
   "metadata": {},
   "outputs": [],
   "source": [
    "# iterative\n",
    "def sum():\n",
    "    user_input = int(input(\"➤ \"))\n",
    "    jumlah = 0\n",
    "    for i in range(1,1 + user_input):\n",
    "        jumlah += i\n",
    "    print(f'jumlah seluruh bilangan sampai {user_input} adalah {jumlah}')\n",
    "sum()"
   ]
  },
  {
   "cell_type": "code",
   "execution_count": null,
   "id": "0fd49666",
   "metadata": {
    "scrolled": true
   },
   "outputs": [],
   "source": [
    "# recursive\n",
    "def jumlah(angka):\n",
    "    if angka < 0:\n",
    "        raise ValueError(\"Bilangan harus positif\")\n",
    "    elif angka:\n",
    "        return angka + jumlah(angka-1)\n",
    "    else:\n",
    "        return 0\n",
    "\n",
    "input_angka = int(input(\"➤ \"))   \n",
    "print(f\"Jumlah seluruh bilangan sampai {input_angka} adalah {jumlah(input_angka)}\")"
   ]
  },
  {
   "cell_type": "markdown",
   "id": "edd5d3b4",
   "metadata": {},
   "source": [
    "angka + jumlah ( angka - 1 )    \n",
    "\n",
    "3 + jumlah ( 3 - 1 )    \n",
    "\n",
    "3 + 2 + jumlah ( 2 - 1 )   \n",
    "\n",
    "3 + 2 + 1 jumlah ( 1 - 1 )    \n",
    "\n",
    "3 + 2 + 1 + 0"
   ]
  },
  {
   "cell_type": "code",
   "execution_count": null,
   "id": "71784bd9",
   "metadata": {},
   "outputs": [],
   "source": [
    "def faktorial(angka):\n",
    "    if angka < 0:\n",
    "        raise ValueError(\"Bilangan harus positif!\")\n",
    "    elif angka == 0 or angka == 1:\n",
    "        return 1\n",
    "    else:\n",
    "        return angka * faktorial(angka - 1)\n",
    "    \n",
    "    \n",
    "input_angka = int(input(\"➤ \"))   \n",
    "print(f\" Faktorial dari {input_angka} = {faktorial(input_angka)}\")"
   ]
  },
  {
   "cell_type": "markdown",
   "id": "33b99f2a",
   "metadata": {},
   "source": [
    "3  *  faktorial ( 3 - 1 )  \n",
    "\n",
    "3  *  2  *  faktorial ( 2 - 1 )  \n",
    "\n",
    "3 *  2  *  1 = 6"
   ]
  },
  {
   "cell_type": "code",
   "execution_count": null,
   "id": "4b9e827d",
   "metadata": {
    "scrolled": true
   },
   "outputs": [],
   "source": [
    "import time\n",
    "\n",
    "mulai = time.time()\n",
    "def fibonacci(n):\n",
    "    if n == 1 or n == 2:\n",
    "        return 1\n",
    "    elif n > 2:\n",
    "        return fibonacci(n-1) + fibonacci(n-2)\n",
    "\n",
    "for n in range (1,11):\n",
    "    print(f\"bilangan fibonacci ke-{n} = {fibonacci(n)}\")\n",
    "\n",
    "akhir = time.time()\n",
    "print(f\"Waktu yang diperlukan = {akhir-mulai:.2f} detik\") "
   ]
  },
  {
   "cell_type": "markdown",
   "id": "86ed6107",
   "metadata": {},
   "source": [
    "fibonacci ( n - 1 ) + fibonacci ( n - 2 )  \n",
    "fibonacci ( 4 )    \n",
    "fibonacci ( 3 ) + fibonacci ( 2 )      \n",
    "fibonacci ( 2 ) + fibonacci ( 1 ) + 1  \n",
    "1 + 1 + 1   \n",
    "3"
   ]
  },
  {
   "cell_type": "markdown",
   "id": "6b8f3db7",
   "metadata": {},
   "source": [
    "### <font color=\"#8479E1\">Memoisasi</font>\n",
    "Memoisasi adalah metode yang digunakan untuk menyimpan hasil pemanggilan fungsi sebelumnya untuk mempercepat perhitungan di masa mendatang. Jika panggilan fungsi berulang dilakukan dengan parameter yang sama, kita dapat menyimpan nilai sebelumnya alih-alih mengulangi perhitungan yang tidak perlu."
   ]
  },
  {
   "cell_type": "code",
   "execution_count": null,
   "id": "5df29c63",
   "metadata": {},
   "outputs": [],
   "source": [
    "import time\n",
    "from functools import lru_cache\n",
    "\n",
    "mulai = time.time()\n",
    "\n",
    "# @lru_cache(maxsize=10)    # lru -> least recenly used cache\n",
    "def expensive_func(n):    # Expensive function -> pemanggilan suatu fungsi dalam jumlah besar\n",
    "    print(f\"Menghitung kuadrat dari {n}...\")\n",
    "    time.sleep(1)\n",
    "    hasil = n * n\n",
    "    return hasil\n",
    "\n",
    "print(expensive_func(4))#1\n",
    "print(expensive_func(4))#2\n",
    "print(expensive_func(4))#3\n",
    "print(expensive_func(4))#4\n",
    "print(expensive_func(4))#5\n",
    "print(expensive_func(4))#6\n",
    "print(expensive_func(4))#7\n",
    "akhir = time.time()\n",
    "print(f\"Waktu yang diperlukan = {akhir-mulai:.2f} detik\") "
   ]
  },
  {
   "cell_type": "code",
   "execution_count": null,
   "id": "6f3a2daf",
   "metadata": {},
   "outputs": [],
   "source": [
    "import time\n",
    "from functools import lru_cache\n",
    "\n",
    "mulai = time.time()\n",
    "@lru_cache(maxsize = 1000)     \n",
    "def fibo(n):    \n",
    "    if n == 1 or n == 2:\n",
    "        return 1\n",
    "    elif n > 2:\n",
    "        return fibo(n-1) + fibo(n-2)\n",
    "        \n",
    "\n",
    "for n in range (1,1001):\n",
    "    print(f\"bilangan fibonacci ke-{n} = {fibo(n)}\")\n",
    "\n",
    "\n",
    "akhir = time.time()\n",
    "print(f\"Waktu yang diperlukan = {akhir-mulai:.10f} detik\")"
   ]
  },
  {
   "cell_type": "code",
   "execution_count": null,
   "id": "8e8f31f3",
   "metadata": {
    "scrolled": true
   },
   "outputs": [],
   "source": [
    "# import sys\n",
    "\n",
    "# sys.setrecursionlimit(500)\n",
    "# batas = sys.getrecursionlimit()\n",
    "\n",
    "# try:\n",
    "counter = 0\n",
    "def halo():\n",
    "    global counter\n",
    "    counter += 1\n",
    "    print(\"halo\", counter)\n",
    "    halo()\n",
    "halo()\n",
    "# except RecursionError:\n",
    "#     print(\"loop rekursif melebihi batas!\\n\")\n",
    "\n",
    "# print(f\"Batas loop rekursif adalah {batas}\")"
   ]
  },
  {
   "cell_type": "markdown",
   "id": "94736858",
   "metadata": {},
   "source": [
    "### <font color=\"RosyBrown\">Anonymous Function / Lambda</font>"
   ]
  },
  {
   "cell_type": "markdown",
   "id": "5cf8afa8",
   "metadata": {},
   "source": [
    "Anonymous function adalah fungsi yang didefinisikan tanpa nama.\n",
    "\n",
    "Fungsi normal didefinisikan menggunakan kata kunci <font color='LightSeaGreen'>def</font> dalam Python,   \n",
    "sedangkan anonymous function didefinisikan menggunakan kata kunci <font color='MediumPurple'>lambda</font>\n",
    "\n",
    "Oleh karena itu, anonymous function juga disebut lambda."
   ]
  },
  {
   "cell_type": "code",
   "execution_count": null,
   "id": "48292d57",
   "metadata": {},
   "outputs": [],
   "source": [
    "(lambda x: x + 1)(1)"
   ]
  },
  {
   "cell_type": "code",
   "execution_count": null,
   "id": "bcd5ed80",
   "metadata": {},
   "outputs": [],
   "source": [
    "hasil = lambda x : x + 1\n",
    "hasil(1)"
   ]
  },
  {
   "cell_type": "code",
   "execution_count": null,
   "id": "9e093b1f",
   "metadata": {},
   "outputs": [],
   "source": [
    "def nilai(y):\n",
    "    return lambda x : x + y\n",
    "\n",
    "jumlah = nilai(3)\n",
    "print(jumlah(5)) # 5 menyimpan nilai pada variable x"
   ]
  },
  {
   "cell_type": "code",
   "execution_count": null,
   "id": "95b13edb",
   "metadata": {},
   "outputs": [],
   "source": [
    "(lambda x, y, z: x + y * z)(2, 3, 9)"
   ]
  },
  {
   "cell_type": "code",
   "execution_count": null,
   "id": "7cc78769",
   "metadata": {},
   "outputs": [],
   "source": [
    "(lambda nama_depan, nama_belakang: f'Nama: {nama_depan.capitalize()} {nama_belakang.capitalize()}')('rafli', 'dewanto')\n"
   ]
  },
  {
   "cell_type": "code",
   "execution_count": null,
   "id": "6aa1cd49",
   "metadata": {
    "scrolled": true
   },
   "outputs": [],
   "source": [
    "(lambda x, y: x if x > y else y)(4,5)"
   ]
  },
  {
   "cell_type": "code",
   "execution_count": null,
   "id": "266c558d",
   "metadata": {},
   "outputs": [],
   "source": [
    "daftar = [1,2,3,4,5,6,7,8,9]\n",
    "daftar_bilangan = map(lambda x: x * x, daftar)\n",
    "print(list(daftar_bilangan))\n",
    "# iterable = [a1,a2,a3.....an]\n",
    "# map(function,iterable)\n",
    "# function(a1)\n",
    "# function(a2)\n",
    "# function(a3)....function(an)"
   ]
  },
  {
   "cell_type": "code",
   "execution_count": null,
   "id": "055f7179",
   "metadata": {
    "scrolled": true
   },
   "outputs": [],
   "source": [
    "daftar = [1,2,3,4,5,6,7,8,9]\n",
    "print(tuple(filter(lambda x: x % 2 == 0, daftar)))"
   ]
  },
  {
   "cell_type": "code",
   "execution_count": null,
   "id": "c110e217",
   "metadata": {},
   "outputs": [],
   "source": [
    "import statistics as st\n",
    "\n",
    "list_nilai = [97,80,87,84,74,93,100,60,87,50,80,40,100,97,87,67,32,56]\n",
    "rata_rata = st.mean(list_nilai)\n",
    "print(f\"Rata-rata = {round(rata_rata,2)}\")\n",
    "print(\"Nilai yang kurang dari rata-rata: \",end=\"\")\n",
    "print(list(filter(lambda x: x < rata_rata, list_nilai)))\n",
    "\n",
    "modus = st.mode(list_nilai)\n",
    "median = st.median(list_nilai)\n",
    "print(f\"Modus dari list nilai = {modus}\")\n",
    "print(f\"Median dari list nilai = {median}\")"
   ]
  },
  {
   "cell_type": "code",
   "execution_count": null,
   "id": "8fc8da9f",
   "metadata": {},
   "outputs": [],
   "source": [
    "fungsi_tingkat_tinggi = lambda konstanta, fungsi: konstanta + fungsi(konstanta)\n",
    "fungsi = fungsi_tingkat_tinggi(2, lambda x: x * 3)\n",
    "# 2 + 2 * 3\n",
    "print(f'{fungsi}')"
   ]
  },
  {
   "cell_type": "code",
   "execution_count": null,
   "id": "9c632420",
   "metadata": {},
   "outputs": [],
   "source": [
    "class Orang:\n",
    "    # ! __init__ merupakan constructor yang akan meng-inisialisasi sebuah method/fungsi\n",
    "    def __init__(self, nama_depan, nama_belekang, npm, jurusan): \n",
    "        self.nama_depan = nama_depan\n",
    "        self.nama_belakang = nama_belekang\n",
    "        self.npm = npm\n",
    "        self.jurusan = jurusan\n",
    "    \n",
    "    def print_nama(self):\n",
    "        print(f\"Nama : {self.nama_depan} {self.nama_belakang}\")\n",
    "        print(f\"NPM : {self.npm}\")\n",
    "        print(f\"Jurusan : {self.jurusan}\")\n",
    "    \n",
    "class Mahasiswa (Orang):\n",
    "    def belajar(self):\n",
    "        print(f\"{self.nama_depan} sedang belajar fungsi python🤓\")\n",
    "\n",
    "# // ini 👇🏻 namanya objek, \"x\" merupakan instance dari class Mahasiswa \\\\ #\n",
    "x = Mahasiswa('Rafli', 'Dewanto', 51421208, \"Informatika\") \n",
    "# // ini 👇🏻 namanya field karena sebuah data terikat pada sebuah objek \\\\ #\n",
    "x.print_nama()\n",
    "x.belajar()"
   ]
  }
 ],
 "metadata": {
  "kernelspec": {
   "display_name": "Python 3 (ipykernel)",
   "language": "python",
   "name": "python3"
  },
  "language_info": {
   "codemirror_mode": {
    "name": "ipython",
    "version": 3
   },
   "file_extension": ".py",
   "mimetype": "text/x-python",
   "name": "python",
   "nbconvert_exporter": "python",
   "pygments_lexer": "ipython3",
   "version": "3.9.7"
  }
 },
 "nbformat": 4,
 "nbformat_minor": 5
}
