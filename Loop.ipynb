{
 "cells": [
  {
   "cell_type": "markdown",
   "id": "3008c343",
   "metadata": {},
   "source": [
    "# Perulangan\n",
    "Python memiliki dua perintah loop primitif:  \n",
    "❥ while loop  \n",
    "❥ for loop"
   ]
  },
  {
   "cell_type": "markdown",
   "id": "99175487",
   "metadata": {},
   "source": [
    "## While Loop  \n",
    "Ini adalah loop yang akan terus berulang sampai kondisi while menjadi false."
   ]
  },
  {
   "cell_type": "code",
   "execution_count": 8,
   "id": "6d360629",
   "metadata": {},
   "outputs": [
    {
     "name": "stdout",
     "output_type": "stream",
     "text": [
      "1\n",
      "2\n",
      "3\n",
      "4\n",
      "5\n",
      "6\n",
      "7\n",
      "8\n",
      "9\n",
      "10\n"
     ]
    }
   ],
   "source": [
    "n = 0\n",
    "while n < 10: \n",
    "    n += 1\n",
    "    print(n)"
   ]
  },
  {
   "cell_type": "markdown",
   "id": "d85cd9b3",
   "metadata": {},
   "source": [
    "### break statement  \n",
    "Dengan pernyataan break kita dapat menghentikan perulangan meskipun kondisi while benar:"
   ]
  },
  {
   "cell_type": "code",
   "execution_count": 9,
   "id": "2fa2eb5f",
   "metadata": {},
   "outputs": [
    {
     "name": "stdout",
     "output_type": "stream",
     "text": [
      "1\n",
      "2\n",
      "3\n"
     ]
    }
   ],
   "source": [
    "i = 1\n",
    "while i < 6:\n",
    "    print(i)\n",
    "    if i == 3:\n",
    "        break\n",
    "    i += 1"
   ]
  },
  {
   "cell_type": "markdown",
   "id": "a1058a21",
   "metadata": {},
   "source": [
    "### Continue Statement  \n",
    "Dengan pernyataan continue kita dapat menghentikan iterasi saat ini, dan melanjutkan dengan yang berikutnya:"
   ]
  },
  {
   "cell_type": "code",
   "execution_count": 11,
   "id": "89ac3488",
   "metadata": {},
   "outputs": [
    {
     "name": "stdout",
     "output_type": "stream",
     "text": [
      "1\n",
      "2\n",
      "4\n",
      "5\n",
      "6\n"
     ]
    }
   ],
   "source": [
    "i = 0\n",
    "while i < 6:\n",
    "    i += 1\n",
    "    if i == 3: # akan skip perintah print jika nilai i = 3\n",
    "        continue\n",
    "    print(i)"
   ]
  },
  {
   "cell_type": "markdown",
   "id": "5a504a83",
   "metadata": {},
   "source": [
    "### Else Statement  \n",
    "Dengan pernyataan else kita dapat menjalankan blok kode satu kali ketika kondisinya tidak lagi benar:"
   ]
  },
  {
   "cell_type": "code",
   "execution_count": 14,
   "id": "a483d8ce",
   "metadata": {},
   "outputs": [
    {
     "name": "stdout",
     "output_type": "stream",
     "text": [
      "1\n",
      "2\n",
      "3\n",
      "4\n",
      "5\n",
      "nilai i sudah tidak kurang dari 6\n"
     ]
    }
   ],
   "source": [
    "i = 1\n",
    "while i < 6:\n",
    "    print(i)\n",
    "    i += 1\n",
    "else:\n",
    "    print(\"nilai i sudah tidak kurang dari 6\")"
   ]
  },
  {
   "cell_type": "markdown",
   "id": "c6e36324",
   "metadata": {},
   "source": [
    "### Infinite loop"
   ]
  },
  {
   "cell_type": "code",
   "execution_count": null,
   "id": "abd0dffd",
   "metadata": {},
   "outputs": [],
   "source": [
    "while 0<1:print(\"infinite loop!\")"
   ]
  },
  {
   "cell_type": "markdown",
   "id": "ebe1b976",
   "metadata": {},
   "source": [
    "## For Loop\n",
    "For loop memberi Anda lebih banyak kontrol daripada loop sementara. Kita dapat mengulang apa pun yang dapat diubah. misalnya range, list, dictionary atau tuple."
   ]
  },
  {
   "cell_type": "code",
   "execution_count": 16,
   "id": "1735bc69",
   "metadata": {},
   "outputs": [
    {
     "name": "stdout",
     "output_type": "stream",
     "text": [
      "apel\n",
      "pisang\n",
      "jeruk\n"
     ]
    }
   ],
   "source": [
    "daftar_buah = [\"apel\",\"pisang\", \"jeruk\"]\n",
    "for buah in daftar_buah: print(buah)"
   ]
  },
  {
   "cell_type": "code",
   "execution_count": 18,
   "id": "af0616f0",
   "metadata": {},
   "outputs": [
    {
     "name": "stdout",
     "output_type": "stream",
     "text": [
      "p\n",
      "y\n",
      "t\n",
      "h\n",
      "o\n",
      "n\n"
     ]
    }
   ],
   "source": [
    "for x in \"python\": print(x) # Looping Melalui String"
   ]
  },
  {
   "cell_type": "markdown",
   "id": "8df621de",
   "metadata": {},
   "source": [
    "### kata kunci break    \n",
    "Dengan pernyataan break, kita dapat menghentikan loop sebelum loop melewati semua item:"
   ]
  },
  {
   "cell_type": "code",
   "execution_count": 28,
   "id": "2a4aaaed",
   "metadata": {},
   "outputs": [
    {
     "name": "stdout",
     "output_type": "stream",
     "text": [
      "78\n",
      "80\n",
      "Invalid\n"
     ]
    }
   ],
   "source": [
    "scores = [78, 80, 111]\n",
    "for s in scores: \n",
    "    if s > 100: \n",
    "        print(\"Invalid\")\n",
    "        break # memberhentikan loop jika nilai s lebih dari 100\n",
    "    print(s)"
   ]
  },
  {
   "cell_type": "markdown",
   "id": "21f5f5d2",
   "metadata": {},
   "source": [
    "### Continue   \n",
    "Kata kunci ini memungkinkan kita untuk melewati iterasi perulangan ini dan pergi ke perulangan berikutnya. Loop akan tetap berlanjut, tetap akan dimulai dari atas"
   ]
  },
  {
   "cell_type": "code",
   "execution_count": 35,
   "id": "c1e17da0",
   "metadata": {},
   "outputs": [
    {
     "name": "stdout",
     "output_type": "stream",
     "text": [
      "1\n",
      "3\n",
      "5\n",
      "7\n",
      "9\n"
     ]
    }
   ],
   "source": [
    "n = 0\n",
    "while n < 10:\n",
    "    n +=1\n",
    "    if n % 2 == 0:\n",
    "        continue\n",
    "    print(n)# mencetak angka ganjil dari 1 sampai 10"
   ]
  },
  {
   "cell_type": "markdown",
   "id": "9a3eabac",
   "metadata": {},
   "source": [
    "### Range\n",
    "Untuk mengulang satu set kode beberapa kali, kita dapat menggunakan fungsi range() ,\n",
    "Fungsi range() mengembalikan urutan angka, mulai dari 0 secara default, dan bertambah 1 (secara default), dan berakhir pada angka yang ditentukan."
   ]
  },
  {
   "cell_type": "code",
   "execution_count": 37,
   "id": "c9aab828",
   "metadata": {},
   "outputs": [
    {
     "name": "stdout",
     "output_type": "stream",
     "text": [
      "0\n",
      "1\n",
      "2\n",
      "3\n",
      "4\n",
      "5\n",
      "6\n",
      "7\n",
      "8\n",
      "9\n"
     ]
    }
   ],
   "source": [
    "for x in range(10):\n",
    "    print(x)"
   ]
  },
  {
   "cell_type": "code",
   "execution_count": 38,
   "id": "03b481e1",
   "metadata": {},
   "outputs": [
    {
     "name": "stdout",
     "output_type": "stream",
     "text": [
      "2\n",
      "3\n",
      "4\n",
      "5\n"
     ]
    }
   ],
   "source": [
    "for x in range(2, 6): # mulai dari angka 2 dan berhenti di angka sebelum 6\n",
    "    print(x)"
   ]
  },
  {
   "cell_type": "code",
   "execution_count": 39,
   "id": "36b396a3",
   "metadata": {},
   "outputs": [
    {
     "name": "stdout",
     "output_type": "stream",
     "text": [
      "2\n",
      "5\n",
      "8\n",
      "11\n",
      "14\n",
      "17\n",
      "20\n",
      "23\n",
      "26\n",
      "29\n"
     ]
    }
   ],
   "source": [
    "for x in range(2, 30, 3): # mulai dari angka 2 sampai 29 dan ditambah 3 setiap loop\n",
    "    print(x)"
   ]
  },
  {
   "cell_type": "markdown",
   "id": "c4d50898",
   "metadata": {},
   "source": [
    "### Kata kunci else dalam for loop\n",
    "Kata kunci else dalam for loop menentukan blok kode yang akan dieksekusi ketika loop selesai:"
   ]
  },
  {
   "cell_type": "code",
   "execution_count": 41,
   "id": "1c413753",
   "metadata": {},
   "outputs": [
    {
     "name": "stdout",
     "output_type": "stream",
     "text": [
      "1\n",
      "2\n",
      "3\n",
      "4\n",
      "5\n",
      "6\n",
      "7\n",
      "8\n",
      "9\n",
      "10\n",
      "Loop berhenti.\n"
     ]
    }
   ],
   "source": [
    "for x in range(1,11):\n",
    "    print(x)\n",
    "else:\n",
    "    print(\"Loop berhenti.\")"
   ]
  },
  {
   "cell_type": "code",
   "execution_count": 48,
   "id": "002aefd4",
   "metadata": {},
   "outputs": [
    {
     "name": "stdout",
     "output_type": "stream",
     "text": [
      "0\n",
      "1\n",
      "2\n"
     ]
    }
   ],
   "source": [
    "for x in range(6):\n",
    "    if x == 3: break\n",
    "    print(x)\n",
    "else:\n",
    "    print(\"Loop berhenti\") # statement else tidak akan dieksekusi jika loop sudah dibreak."
   ]
  },
  {
   "cell_type": "markdown",
   "id": "636d8b77",
   "metadata": {},
   "source": [
    "### Nested loop  \n",
    "Loop bersarang adalah loop di dalam loop.\n",
    "\n",
    "\"inner loop\" akan dieksekusi satu kali untuk setiap iterasi \"outer loop\":"
   ]
  },
  {
   "cell_type": "code",
   "execution_count": 52,
   "id": "cb747924",
   "metadata": {},
   "outputs": [
    {
     "name": "stdout",
     "output_type": "stream",
     "text": [
      "0 0\n",
      "0 1\n",
      "0 2\n",
      "1 0\n",
      "1 1\n",
      "1 2\n",
      "2 0\n",
      "2 1\n",
      "2 2\n"
     ]
    }
   ],
   "source": [
    "for i in range(3):\n",
    "    for j in range(3):\n",
    "        print(i,j)"
   ]
  },
  {
   "cell_type": "code",
   "execution_count": null,
   "id": "02668bce",
   "metadata": {
    "scrolled": true
   },
   "outputs": [],
   "source": [
    "for i in range(5,0,-1):\n",
    "    print(\"🙂\"*i)"
   ]
  },
  {
   "cell_type": "code",
   "execution_count": null,
   "id": "fd3c8149",
   "metadata": {},
   "outputs": [],
   "source": [
    "x = 0\n",
    "list_angka = []\n",
    "while x < 20:\n",
    "    x += 2\n",
    "    list_angka.append(str(x))\n",
    "print(', '.join(list_angka))"
   ]
  },
  {
   "cell_type": "code",
   "execution_count": 2,
   "id": "67940b3e",
   "metadata": {},
   "outputs": [
    {
     "name": "stdout",
     "output_type": "stream",
     "text": [
      "1 2 4 5 6 7 8 9 10 "
     ]
    }
   ],
   "source": [
    "i = 0\n",
    "while i < 10:\n",
    "  i += 1\n",
    "  if i == 3:\n",
    "    continue\n",
    "  print(i, end=\" \")"
   ]
  },
  {
   "cell_type": "code",
   "execution_count": 36,
   "id": "e910dcc8",
   "metadata": {},
   "outputs": [
    {
     "name": "stdout",
     "output_type": "stream",
     "text": [
      "1 2 3 4 5 6 7 8 9 \n",
      "\"angka\" tidak kurang dari 10 yang menyebabkan value boolean menjadi False dan loop berhenti. \n"
     ]
    }
   ],
   "source": [
    "angka = 1\n",
    "while angka < 10:\n",
    "  print(angka, end=\" \")\n",
    "  angka += 1\n",
    "else:\n",
    "  print(\"\\n\\\"angka\\\" tidak kurang dari 10 yang menyebabkan value boolean menjadi False dan loop berhenti. \")"
   ]
  },
  {
   "cell_type": "code",
   "execution_count": null,
   "id": "631f10ba",
   "metadata": {},
   "outputs": [],
   "source": [
    "user_input = int(input(\"Masukkan range angka yang ingin dipangkatkan : \"))\n",
    "\n",
    "for i in range (1,user_input+1):\n",
    "    hasil = i ** 2\n",
    "    print(hasil)"
   ]
  },
  {
   "cell_type": "code",
   "execution_count": null,
   "id": "b6ef08fd",
   "metadata": {},
   "outputs": [],
   "source": [
    "list_angka = [10, 20, 30, 40, 50, 60, 70, 80, 90, 100]\n",
    "# loop angka dalam list dimulai dengan indeks 1 step 2\n",
    "for i in my_list[1::2]:\n",
    "    print(i, end=\" \")"
   ]
  },
  {
   "cell_type": "markdown",
   "id": "533228af",
   "metadata": {},
   "source": [
    "### Tebak angka"
   ]
  },
  {
   "cell_type": "code",
   "execution_count": null,
   "id": "708a57d6",
   "metadata": {},
   "outputs": [],
   "source": [
    "jumlah_tebakan = 0\n",
    "batas_tebakan = 3\n",
    "while jumlah_tebakan < batas_tebakan:\n",
    "   Tebak = int(input(\"Tebak angka : \"))\n",
    "   jumlah_tebakan += 1\n",
    "   if Tebak == 9:\n",
    "     print(\"Tebakan Anda benar!\")\n",
    "      break\n",
    "else:\n",
    "   print(\"Tebakan Anda salah\")"
   ]
  },
  {
   "cell_type": "markdown",
   "id": "de0767a6",
   "metadata": {},
   "source": [
    "### Mencari barang pada list menggunakan for loop dan enumerate"
   ]
  },
  {
   "cell_type": "code",
   "execution_count": null,
   "id": "5dd7eb6c",
   "metadata": {},
   "outputs": [],
   "source": [
    "listbarang = [\"Buku\", \"Pensil\", \"Pulpen\", \"Rautan\", \"Penghapus\"]\n",
    "\n",
    "user_input = input(\"Input barang yang ingin dicari : \").lower().strip()\n",
    "\n",
    "for indeks, barang in enumerate (listbarang):\n",
    "    if user_input == barang.lower().strip():\n",
    "        print(f\"{barang} terdapat pada indeks ke-{indeks}.\")\n",
    "    break\n",
    "else:\n",
    "    print(\"Buah yang Anda cari tidak ada.\")"
   ]
  },
  {
   "cell_type": "markdown",
   "id": "61c39cad",
   "metadata": {},
   "source": [
    "### Generator Password"
   ]
  },
  {
   "cell_type": "code",
   "execution_count": null,
   "id": "8b54fcdb",
   "metadata": {
    "scrolled": true
   },
   "outputs": [],
   "source": [
    "import random\n",
    "huruf = ['a', 'b', 'c', 'd', 'e', 'f', 'g', 'h', 'i', 'j', 'k', 'l', 'm', 'n', 'o', 'p', 'q', 'r', 's', 't', 'u', 'v', 'w', 'x', 'y', 'z', 'A', 'B', 'C', 'D', 'E', 'F', 'G', 'H', 'I', 'J', 'K', 'L', 'M', 'N', 'O', 'P', 'Q', 'R', 'S', 'T', 'U', 'V', 'W', 'X', 'Y', 'Z']\n",
    "angka = ['0', '1', '2', '3', '4', '5', '6', '7', '8', '9']\n",
    "simbol = ['!', '#', '$', '%', '&', '(', ')', '*', '+']\n",
    "\n",
    "n_huruf = int(input(\"Masukkan banyaknya huruf:\\n\")) \n",
    "n_simbol = int(input(f\"Masukkan banyaknya simbol:\\n\"))\n",
    "n_angka = int(input(f\"Masukkan banyaknya angka:\\n\"))\n",
    "\n",
    "password_list = []\n",
    "\n",
    "for char in range(0, n_huruf):\n",
    "    password_list.append(random.choice(huruf))\n",
    "\n",
    "for char in range(0, n_angka):\n",
    "    password_list.append(random.choice(angka))\n",
    "\n",
    "for char in range(0, n_simbol):\n",
    "    password_list.append(random.choice(simbol))\n",
    "\n",
    "random.shuffle(password_list)\n",
    "\n",
    "password = ''\n",
    "\n",
    "for char in password_list:\n",
    "    password += char\n",
    "print(f\"Password Anda : {password}\")     "
   ]
  },
  {
   "cell_type": "markdown",
   "id": "fe776bda",
   "metadata": {},
   "source": [
    "### Mencari Nilai terbesar dalam sebuah list"
   ]
  },
  {
   "cell_type": "code",
   "execution_count": null,
   "id": "a057e38f",
   "metadata": {},
   "outputs": [],
   "source": [
    "Nilai_siswa = input(\"Masukkan daftar nilai siswa: \").split()\n",
    "for n in range(0, len(Nilai_siswa)):\n",
    "  Nilai_siswa[n] = int(Nilai_siswa[n])\n",
    "print(Nilai_siswa)\n",
    "\n",
    "nilai_terbesar = Nilai_siswa[n]\n",
    "\n",
    "for angka in Nilai_siswa:\n",
    "    if angka > nilai_terbesar:\n",
    "        nilai_terbesar = angka\n",
    "\n",
    "print(f'Nilai Terbesar = {nilai_terbesar}')"
   ]
  },
  {
   "cell_type": "markdown",
   "id": "1b199708",
   "metadata": {},
   "source": [
    "### Mencari tinggi rata-rata"
   ]
  },
  {
   "cell_type": "code",
   "execution_count": null,
   "id": "e009ed80",
   "metadata": {},
   "outputs": [],
   "source": [
    "n_tinggi_badan = input(\"Masukkan daftar tinggi badan siswa: \").split()\n",
    "for n in range(0, len(n_tinggi_badan)):\n",
    "  n_tinggi_badan[n] = int(n_tinggi_badan[n])\n",
    "\n",
    "total_tinggi = 0\n",
    "for i in n_tinggi_badan:\n",
    "    total_tinggi += i\n",
    "\n",
    "\n",
    "jumlah = 0\n",
    "for i in n_tinggi_badan:\n",
    "    jumlah += 1\n",
    "\n",
    "\n",
    "avg = total_tinggi/jumlah\n",
    "print(f'Tinggi rata-rata siswa: {round(avg)}')"
   ]
  }
 ],
 "metadata": {
  "kernelspec": {
   "display_name": "Python 3 (ipykernel)",
   "language": "python",
   "name": "python3"
  },
  "language_info": {
   "codemirror_mode": {
    "name": "ipython",
    "version": 3
   },
   "file_extension": ".py",
   "mimetype": "text/x-python",
   "name": "python",
   "nbconvert_exporter": "python",
   "pygments_lexer": "ipython3",
   "version": "3.9.7"
  }
 },
 "nbformat": 4,
 "nbformat_minor": 5
}
