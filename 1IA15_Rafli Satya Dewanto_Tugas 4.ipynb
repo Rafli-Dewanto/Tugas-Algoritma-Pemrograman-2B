{
 "cells": [
  {
   "cell_type": "markdown",
   "id": "6a410180",
   "metadata": {},
   "source": [
    "## Manipulasi String \n",
    "### Tanggal 31 Maret 2022"
   ]
  },
  {
   "cell_type": "markdown",
   "id": "dd716cd5",
   "metadata": {},
   "source": [
    "### Penggabungan string dan mengganti kata spesifik"
   ]
  },
  {
   "cell_type": "code",
   "execution_count": 16,
   "id": "90d3d864",
   "metadata": {},
   "outputs": [
    {
     "name": "stdout",
     "output_type": "stream",
     "text": [
      "Rafli Dewanto\n",
      "<class 'str'> 13\n"
     ]
    }
   ],
   "source": [
    "kata1 = \"Rafli\"\n",
    "kata2 = \"Dewanto\"\n",
    "kata_gabung = kata1 + \" \" + kata2\n",
    "print(kata_gabung)\n",
    "print(type(kata_gabung), len(kata_gabung))"
   ]
  },
  {
   "cell_type": "code",
   "execution_count": 17,
   "id": "5b3ff78a",
   "metadata": {},
   "outputs": [
    {
     "name": "stdout",
     "output_type": "stream",
     "text": [
      "Rafli Satya\n"
     ]
    }
   ],
   "source": [
    "# replace kata pada string\n",
    "kata_gabung2 = kata_gabung.replace(\"Dewanto\", \"Satya\")\n",
    "print(kata_gabung2)"
   ]
  },
  {
   "cell_type": "code",
   "execution_count": 18,
   "id": "fb6f3d9c",
   "metadata": {},
   "outputs": [
    {
     "name": "stdout",
     "output_type": "stream",
     "text": [
      "3\n"
     ]
    }
   ],
   "source": [
    "# Menghitung jumlah huruf pada string\n",
    "print(kata_gabung2.count(\"a\"))"
   ]
  },
  {
   "cell_type": "markdown",
   "id": "9f3b5aad",
   "metadata": {},
   "source": [
    "### Mengulang kata"
   ]
  },
  {
   "cell_type": "code",
   "execution_count": 15,
   "id": "4e8135cd",
   "metadata": {
    "scrolled": true
   },
   "outputs": [
    {
     "name": "stdout",
     "output_type": "stream",
     "text": [
      "<class 'str'> pythonpythonpython\n"
     ]
    }
   ],
   "source": [
    "# mengulang kata\n",
    "py = \"python\"\n",
    "print(type(py),py * 3) # mengulang kata sebanya nilai n"
   ]
  },
  {
   "cell_type": "markdown",
   "id": "ab1f0ca2",
   "metadata": {},
   "source": [
    "### Memisahkan string per-kata"
   ]
  },
  {
   "cell_type": "code",
   "execution_count": 14,
   "id": "3817e36b",
   "metadata": {},
   "outputs": [
    {
     "name": "stdout",
     "output_type": "stream",
     "text": [
      "Saya sedang belajar manipulasi string\n",
      "['Saya', 'sedang', 'belajar', 'manipulasi', 'string']\n",
      "<class 'list'> \n",
      "\n",
      "indeks :0, value: Saya\n",
      "indeks :1, value: sedang\n",
      "indeks :2, value: belajar\n",
      "indeks :3, value: manipulasi\n",
      "indeks :4, value: string\n"
     ]
    }
   ],
   "source": [
    "kalimat = \"Saya sedang belajar manipulasi string\"\n",
    "print(kalimat)\n",
    "# Mengubah sebuah string menjadi list dengan built-in function split()\n",
    "kalimat_pisah = kalimat.split()\n",
    "print(kalimat_pisah)\n",
    "print(type(kalimat_pisah),'\\n')\n",
    "\n",
    "for i,kata in enumerate (kalimat_pisah):\n",
    "    print(f\"indeks :{i}, value: {kata}\")"
   ]
  },
  {
   "cell_type": "markdown",
   "id": "5680f589",
   "metadata": {},
   "source": [
    "### Menghapus karakter "
   ]
  },
  {
   "cell_type": "code",
   "execution_count": 9,
   "id": "c09b8b01",
   "metadata": {},
   "outputs": [],
   "source": [
    "kalimat = \"90*&^$7Bahasa Pemrograman Python&*%^$^&\""
   ]
  },
  {
   "cell_type": "code",
   "execution_count": 10,
   "id": "0df0b98e",
   "metadata": {},
   "outputs": [
    {
     "name": "stdout",
     "output_type": "stream",
     "text": [
      "90*&^$7Bahasa Pemrograman Python&*%^$^&\n",
      "Bahasa Pemrograman Python\n"
     ]
    }
   ],
   "source": [
    "# strip()digunakan untuk menghapus semua karakter awal dan akhir yang ada dalam argumen.\n",
    "clean_kalimat = kalimat.strip(\"90*&^$7&*%^$^&\")\n",
    "print(kalimat)\n",
    "print(clean_kalimat)"
   ]
  },
  {
   "cell_type": "code",
   "execution_count": 13,
   "id": "98b68876",
   "metadata": {},
   "outputs": [
    {
     "name": "stdout",
     "output_type": "stream",
     "text": [
      "Kata Pemrograman terdapat mulai dari indeks ke-7\n"
     ]
    }
   ],
   "source": [
    "# mencari kata yang spesifik menggunakan method find() dan ketikkan kata yang dicari pada argumen\n",
    "cari = clean_kalimat.find(\"Pemrograman\")\n",
    "print(f\"Kata Pemrograman terdapat mulai dari indeks ke-{cari}\")"
   ]
  },
  {
   "cell_type": "markdown",
   "id": "1ed5a960",
   "metadata": {},
   "source": [
    "### Metode Upper, lower, title, dan swapcase"
   ]
  },
  {
   "cell_type": "code",
   "execution_count": 1,
   "id": "eaf3e482",
   "metadata": {},
   "outputs": [],
   "source": [
    "kata = \"PytHoN\""
   ]
  },
  {
   "cell_type": "code",
   "execution_count": 2,
   "id": "e447bf6c",
   "metadata": {},
   "outputs": [
    {
     "name": "stdout",
     "output_type": "stream",
     "text": [
      "python\n"
     ]
    }
   ],
   "source": [
    "# lower() mengubah string menjadi lowercase.\n",
    "kata_lower = kata.lower()\n",
    "print(kata_lower)"
   ]
  },
  {
   "cell_type": "code",
   "execution_count": 3,
   "id": "659aa2e1",
   "metadata": {},
   "outputs": [
    {
     "name": "stdout",
     "output_type": "stream",
     "text": [
      "PYTHON\n"
     ]
    }
   ],
   "source": [
    "# upper() mengubah string mennjadi uppercase.\n",
    "kata_upper = kata.upper()\n",
    "print(kata_upper)"
   ]
  },
  {
   "cell_type": "code",
   "execution_count": 4,
   "id": "7b8fa3c1",
   "metadata": {},
   "outputs": [
    {
     "name": "stdout",
     "output_type": "stream",
     "text": [
      "Python\n"
     ]
    }
   ],
   "source": [
    "# title() mengubah string menjadi judul yang mana hanya huruf depan saja yang uppercase.\n",
    "kata_judul = kata.title()\n",
    "print(kata_judul)"
   ]
  },
  {
   "cell_type": "code",
   "execution_count": 5,
   "id": "669b3a09",
   "metadata": {},
   "outputs": [
    {
     "name": "stdout",
     "output_type": "stream",
     "text": [
      "Python\n"
     ]
    }
   ],
   "source": [
    "# Capitalize memiliki fungsi yang sama dengan title yaitu hanya mengubah huruf depan saja menjadi uppercase\n",
    "kata_kapital = kata.capitalize()\n",
    "print(kata_kapital)"
   ]
  },
  {
   "cell_type": "code",
   "execution_count": 6,
   "id": "ea1da2ca",
   "metadata": {},
   "outputs": [
    {
     "name": "stdout",
     "output_type": "stream",
     "text": [
      "pYThOn\n"
     ]
    }
   ],
   "source": [
    "# swapcase mengubah huruf yang uppercase menjadi lowercase dan sebaliknya.\n",
    "kata_swap = kata.swapcase()\n",
    "print(kata_swap)"
   ]
  },
  {
   "cell_type": "code",
   "execution_count": 7,
   "id": "a445a588",
   "metadata": {},
   "outputs": [
    {
     "name": "stdout",
     "output_type": "stream",
     "text": [
      "True\n",
      "False\n"
     ]
    }
   ],
   "source": [
    "# Kita bisa cek apakah sebuah string merupakan mengandung upper/lower case dengan function isupper()/islower()\n",
    "print(kata_upper.isupper())\n",
    "print(kata_upper.islower())"
   ]
  },
  {
   "cell_type": "markdown",
   "id": "d0649599",
   "metadata": {},
   "source": [
    "### Slicing"
   ]
  },
  {
   "cell_type": "code",
   "execution_count": null,
   "id": "3a9fe97a",
   "metadata": {
    "scrolled": false
   },
   "outputs": [],
   "source": [
    "String = 'Jupyter Notebook'\n",
    "print(String[0:5]) # output akan menghasilkan string dari indeks 0 sampai 4\n",
    "print(String[:3])\n",
    "print(String[1:5:2])\n",
    "print(String[-1:-7:-2])\n",
    "# reverse string dengan slicing\n",
    "print(String[::-1])"
   ]
  },
  {
   "cell_type": "markdown",
   "id": "c7f3288a",
   "metadata": {},
   "source": [
    "### Find() & Index() function"
   ]
  },
  {
   "cell_type": "code",
   "execution_count": null,
   "id": "735539df",
   "metadata": {},
   "outputs": [],
   "source": [
    "kalimat = \"Hello World\"\n",
    "print(\"Huruf H terdapat pada indeks ke\",kalimat.find(\"H\")) # Mencari huruf tertentu ada pada indeks keberapa\n",
    "print(\"Kata \\\"World\\\" ada mulai pada indeks ke\", kalimat.index(\"World\")) # mencari kata \"World\" mulai pada indeks keberapa dalam string"
   ]
  },
  {
   "cell_type": "markdown",
   "id": "6ca87a56",
   "metadata": {},
   "source": [
    "### Mengecek apakah suatu string dimulai dengan huruf tertentu"
   ]
  },
  {
   "cell_type": "code",
   "execution_count": 7,
   "id": "3ef25f98",
   "metadata": {},
   "outputs": [
    {
     "name": "stdout",
     "output_type": "stream",
     "text": [
      "True\n",
      "False\n",
      "True\n",
      "False\n"
     ]
    }
   ],
   "source": [
    "Kata = \"Rafli Dewanto\"\n",
    "\n",
    "print(Kata.startswith(\"R\"))\n",
    "print(Kata.startswith(\"A\"))\n",
    "print(Kata.endswith(\"o\"))\n",
    "print(Kata.endswith(\"w\"))\n"
   ]
  },
  {
   "cell_type": "markdown",
   "id": "db5c7d1b",
   "metadata": {},
   "source": [
    "### Join"
   ]
  },
  {
   "cell_type": "code",
   "execution_count": 12,
   "id": "bc8e5afc",
   "metadata": {},
   "outputs": [
    {
     "name": "stdout",
     "output_type": "stream",
     "text": [
      "H,a,l,o, ,D,u,n,i,a\n"
     ]
    }
   ],
   "source": [
    "kata = \"Halo Dunia\"\n",
    "print(\",\".join(kata)) # menambahkan \",\" di antarab setiap char"
   ]
  },
  {
   "cell_type": "markdown",
   "id": "443f0f42",
   "metadata": {},
   "source": [
    "### Reversing"
   ]
  },
  {
   "cell_type": "code",
   "execution_count": 20,
   "id": "4b9f7e83",
   "metadata": {
    "scrolled": false
   },
   "outputs": [
    {
     "name": "stdout",
     "output_type": "stream",
     "text": [
      "ainuD olaH\n",
      "ainuD olaH\n"
     ]
    }
   ],
   "source": [
    "string = \"Halo Dunia\"\n",
    "print(\"\".join(reversed(string)))\n",
    "\n",
    "print(string[::-1]) # atau bisa juga dengan index slicing"
   ]
  }
 ],
 "metadata": {
  "kernelspec": {
   "display_name": "Python 3 (ipykernel)",
   "language": "python",
   "name": "python3"
  },
  "language_info": {
   "codemirror_mode": {
    "name": "ipython",
    "version": 3
   },
   "file_extension": ".py",
   "mimetype": "text/x-python",
   "name": "python",
   "nbconvert_exporter": "python",
   "pygments_lexer": "ipython3",
   "version": "3.9.7"
  }
 },
 "nbformat": 4,
 "nbformat_minor": 5
}
