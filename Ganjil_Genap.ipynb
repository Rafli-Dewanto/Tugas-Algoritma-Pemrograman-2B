{
 "cells": [
  {
   "cell_type": "code",
   "execution_count": null,
   "id": "d554ec87",
   "metadata": {},
   "outputs": [],
   "source": [
    "from IPython.display import clear_output\n",
    "\n",
    "def cek_ganjil_genap(a):\n",
    "    if a % 2 == 0:\n",
    "        return f\"{a} merupakan angka genap.\"\n",
    "    else:\n",
    "        return f\"{a} merupakan angka ganjil.\"\n",
    "\n",
    "def main():\n",
    "    try:\n",
    "        bil = int(input(\"\\nMasukkan angka yang ingin dicek ganjil/genap🤔: \"))\n",
    "        print(cek_ganjil_genap(bil))\n",
    "        lanjut = input(\"Lakukan pengecekan kembali?(y/n): \").lower().strip()\n",
    "        while lanjut == 'y':\n",
    "            clear_output()\n",
    "            main()\n",
    "            break\n",
    "\n",
    "    except ValueError:\n",
    "        print(\"Tidak bisa cek ganjil genap pada floating point/yang Anda input bukan bilangan bulat.\")\n",
    "        lanjut = input(\"Lakukan pengecekan kembali?(y/n): \").lower().strip()\n",
    "        while lanjut == 'y':\n",
    "            clear_output()\n",
    "            main()\n",
    "            break\n",
    "main()"
   ]
  }
 ],
 "metadata": {
  "kernelspec": {
   "display_name": "Python 3 (ipykernel)",
   "language": "python",
   "name": "python3"
  },
  "language_info": {
   "codemirror_mode": {
    "name": "ipython",
    "version": 3
   },
   "file_extension": ".py",
   "mimetype": "text/x-python",
   "name": "python",
   "nbconvert_exporter": "python",
   "pygments_lexer": "ipython3",
   "version": "3.9.7"
  }
 },
 "nbformat": 4,
 "nbformat_minor": 5
}
