{
 "cells": [
  {
   "cell_type": "code",
   "execution_count": 1,
   "id": "c93dd701",
   "metadata": {},
   "outputs": [],
   "source": [
    "import pandas as pd "
   ]
  },
  {
   "cell_type": "markdown",
   "id": "60013ebb",
   "metadata": {},
   "source": [
    "## File Handling"
   ]
  },
  {
   "cell_type": "markdown",
   "id": "5269e573",
   "metadata": {},
   "source": [
    "Fungsi utama untuk bekerja dengan file dalam Python adalah fungsi open().\n",
    "\n",
    "Fungsi open() mengambil dua parameter; nama file, dan modus."
   ]
  },
  {
   "cell_type": "markdown",
   "id": "0f4532f4",
   "metadata": {},
   "source": [
    "Ada empat metode (modus) yang berbeda untuk membuka file:\n",
    "\n",
    "\"r\" - read - Nilai default. Membuka file untuk membaca, kesalahan jika file tidak ada\n",
    "\n",
    "\"a\" - append - Membuka file untuk ditambahkan, membuat file jika tidak ada\n",
    "\n",
    "\"w\" - write - Membuka file untuk ditulis, membuat file jika tidak ada\n",
    "\n",
    "\"x\" - create - Membuat file yang ditentukan, mengembalikan kesalahan jika file ada"
   ]
  },
  {
   "cell_type": "code",
   "execution_count": 93,
   "id": "2dbbed93",
   "metadata": {},
   "outputs": [
    {
     "name": "stdout",
     "output_type": "stream",
     "text": [
      "Input nama file yang ingin dibuka: test.txt\n",
      "Isi file \"test.txt\":\n",
      "Halo! nama saya Rafli\n",
      "Mode file: r\n"
     ]
    }
   ],
   "source": [
    "nama_file = input(\"Input nama file yang ingin dibuka: \")\n",
    "f = open(f\"/Users/raflidewanto/Desktop/{nama_file}\", \"r\") # gunakan \n",
    "print(f\"Isi file \\\"test.txt\\\":\\n{f.read()}\")\n",
    "print(f\"Mode file: {f.mode}\")\n",
    "f.close()"
   ]
  },
  {
   "cell_type": "code",
   "execution_count": 23,
   "id": "e482bba4",
   "metadata": {},
   "outputs": [
    {
     "name": "stdout",
     "output_type": "stream",
     "text": [
      "Input nama file yang ingin dibuka: test.txt\n",
      "Halo! nama saya Rafli\n"
     ]
    }
   ],
   "source": [
    "nama_file = input(\"Input nama file yang ingin dibuka: \")\n",
    "try:\n",
    "    f = open(f\"/Users/raflidewanto/Desktop/{nama_file}\", \"r\")\n",
    "    print(f.readline())\n",
    "except FileNotFoundError:\n",
    "    print(\"File tidak ada/ada kesalahan penulisan file\")"
   ]
  },
  {
   "cell_type": "code",
   "execution_count": 22,
   "id": "8cdc1505",
   "metadata": {
    "scrolled": true
   },
   "outputs": [
    {
     "name": "stdout",
     "output_type": "stream",
     "text": [
      "Date,Open,High,Low,Close,Volume,Adj Close\n",
      "8/19/2014,585.002622,587.342658,584.002627,586.862643,978600,586.862643\n",
      "8/18/2014,576.11258,584.512631,576.002598,582.162619,1284100,582.162619\n",
      "8/15/2014,577.862619,579.382595,570.522603,573.482626,1519100,573.482626\n",
      "8/14/2014,576.182596,577.902645,570.882599,574.652582,985400,574.652582\n",
      "8/13/2014,567.312567,575.002602,565.752564,574.782577,1439200,574.782577\n",
      "8/12/2014,564.522567,565.902572,560.882518,562.732562,1542000,562.732562\n",
      "8/11/2014,569.992585,570.492553,566.002578,567.882551,1214700,567.882551\n",
      "8/8/2014,563.562536,570.252576,560.352561,568.772565,1494700,568.772565\n",
      "8/7/2014,568.00257,569.89258,561.102543,563.362525,1110900,563.362525\n",
      "8/6/2014,561.782569,570.702601,560.002541,566.376589,1334300,566.376589\n",
      "8/5/2014,570.052564,571.982601,562.612543,565.072537,1551200,565.072537\n",
      "8/4/2014,569.042592,575.352622,564.102531,573.152619,1427300,573.152619\n",
      "8/1/2014,570.402584,575.962633,562.85252,566.072533,1955200,566.072533\n",
      "7/31/2014,580.602616,583.652668,570.002561,571.602592,2102700,571.602592\n",
      "7/30/2014,586.55265,589.502696,584.002627,587.42265,1016400,587.42265\n",
      "7/29/2014,588.752653,589.702646,583.517654,585.612633,1349800,585.612633\n",
      "7/28/2014,588.072688,592.502683,584.755668,590.602697,986800,590.602697\n",
      "7/25/2014,590.402686,591.862684,587.032665,589.022681,932400,589.022681\n",
      "7/24/2014,596.452725,599.502716,591.772654,593.352671,1035100,593.352671\n",
      "7/23/2014,593.232713,597.852683,592.502683,595.982686,1233100,595.982686\n",
      "\n"
     ]
    }
   ],
   "source": [
    "file = open('/Users/raflidewanto/Downloads/Google Stock Market Data.csv', 'r')\n",
    "print (file.read(1485))"
   ]
  },
  {
   "cell_type": "code",
   "execution_count": 69,
   "id": "4f62baf4",
   "metadata": {},
   "outputs": [
    {
     "data": {
      "text/html": [
       "<div>\n",
       "<style scoped>\n",
       "    .dataframe tbody tr th:only-of-type {\n",
       "        vertical-align: middle;\n",
       "    }\n",
       "\n",
       "    .dataframe tbody tr th {\n",
       "        vertical-align: top;\n",
       "    }\n",
       "\n",
       "    .dataframe thead th {\n",
       "        text-align: right;\n",
       "    }\n",
       "</style>\n",
       "<table border=\"1\" class=\"dataframe\">\n",
       "  <thead>\n",
       "    <tr style=\"text-align: right;\">\n",
       "      <th></th>\n",
       "      <th>NPM</th>\n",
       "      <th>Nama</th>\n",
       "      <th>Kelas</th>\n",
       "      <th>Jurusan</th>\n",
       "    </tr>\n",
       "  </thead>\n",
       "  <tbody>\n",
       "    <tr>\n",
       "      <th>0</th>\n",
       "      <td>50420482</td>\n",
       "      <td>Abdul Rifai Natanegara</td>\n",
       "      <td>2IA08</td>\n",
       "      <td>S1 - Teknik Informatika</td>\n",
       "    </tr>\n",
       "    <tr>\n",
       "      <th>1</th>\n",
       "      <td>11521492</td>\n",
       "      <td>Nurdin Hasjim Johanes</td>\n",
       "      <td>1PA23</td>\n",
       "      <td>S1 - Psikologi</td>\n",
       "    </tr>\n",
       "    <tr>\n",
       "      <th>2</th>\n",
       "      <td>39119382</td>\n",
       "      <td>Amelia Kurniawan</td>\n",
       "      <td>3MI01</td>\n",
       "      <td>D3 - Manajemen Informatika</td>\n",
       "    </tr>\n",
       "    <tr>\n",
       "      <th>3</th>\n",
       "      <td>46920482</td>\n",
       "      <td>Eddy Handoko</td>\n",
       "      <td>2KD03</td>\n",
       "      <td>S1 - Kedokteran</td>\n",
       "    </tr>\n",
       "    <tr>\n",
       "      <th>4</th>\n",
       "      <td>52812103</td>\n",
       "      <td>Farhan Zainal Ramadan</td>\n",
       "      <td>1IK01</td>\n",
       "      <td>S1 - Ilmu Komputer</td>\n",
       "    </tr>\n",
       "    <tr>\n",
       "      <th>5</th>\n",
       "      <td>51419202</td>\n",
       "      <td>Giovani Maria Ekaputra Suhari</td>\n",
       "      <td>4IA02</td>\n",
       "      <td>S1 - Teknik Informatika</td>\n",
       "    </tr>\n",
       "    <tr>\n",
       "      <th>6</th>\n",
       "      <td>29219492</td>\n",
       "      <td>Christian Iskandar</td>\n",
       "      <td>4TM03</td>\n",
       "      <td>S1 - Teknik Mesin</td>\n",
       "    </tr>\n",
       "    <tr>\n",
       "      <th>7</th>\n",
       "      <td>49219314</td>\n",
       "      <td>Brian Prasetyo</td>\n",
       "      <td>3DB16</td>\n",
       "      <td>S1 - Teknik Industri</td>\n",
       "    </tr>\n",
       "    <tr>\n",
       "      <th>8</th>\n",
       "      <td>11249302</td>\n",
       "      <td>Cassandra Elly Lestari</td>\n",
       "      <td>1KA22</td>\n",
       "      <td>S2 - Sistem Informasi</td>\n",
       "    </tr>\n",
       "    <tr>\n",
       "      <th>9</th>\n",
       "      <td>29421390</td>\n",
       "      <td>Arif Setiawan</td>\n",
       "      <td>2MT10</td>\n",
       "      <td>S1 - Matematika</td>\n",
       "    </tr>\n",
       "  </tbody>\n",
       "</table>\n",
       "</div>"
      ],
      "text/plain": [
       "        NPM                           Nama  Kelas                     Jurusan\n",
       "0  50420482         Abdul Rifai Natanegara  2IA08     S1 - Teknik Informatika\n",
       "1  11521492          Nurdin Hasjim Johanes  1PA23              S1 - Psikologi\n",
       "2  39119382               Amelia Kurniawan  3MI01  D3 - Manajemen Informatika\n",
       "3  46920482                   Eddy Handoko  2KD03             S1 - Kedokteran\n",
       "4  52812103          Farhan Zainal Ramadan  1IK01          S1 - Ilmu Komputer\n",
       "5  51419202  Giovani Maria Ekaputra Suhari  4IA02     S1 - Teknik Informatika\n",
       "6  29219492             Christian Iskandar  4TM03           S1 - Teknik Mesin\n",
       "7  49219314                 Brian Prasetyo  3DB16        S1 - Teknik Industri\n",
       "8  11249302         Cassandra Elly Lestari  1KA22       S2 - Sistem Informasi\n",
       "9  29421390                  Arif Setiawan  2MT10             S1 - Matematika"
      ]
     },
     "execution_count": 69,
     "metadata": {},
     "output_type": "execute_result"
    }
   ],
   "source": [
    "filename = \"/Users/raflidewanto/Downloads/Data mahasiswa.xlsx\"\n",
    "df = pd.read_excel(filename, sheet_name = \"Sheet1\", engine='openpyxl')\n",
    "df.head(10)"
   ]
  },
  {
   "cell_type": "code",
   "execution_count": 30,
   "id": "d82e0eca",
   "metadata": {},
   "outputs": [],
   "source": [
    "df = pd.read_excel (r'/Users/raflidewanto/Downloads/gajikaryawan.xlsx')"
   ]
  },
  {
   "cell_type": "code",
   "execution_count": 34,
   "id": "39ed0730",
   "metadata": {
    "scrolled": false
   },
   "outputs": [
    {
     "data": {
      "text/html": [
       "<div>\n",
       "<style scoped>\n",
       "    .dataframe tbody tr th:only-of-type {\n",
       "        vertical-align: middle;\n",
       "    }\n",
       "\n",
       "    .dataframe tbody tr th {\n",
       "        vertical-align: top;\n",
       "    }\n",
       "\n",
       "    .dataframe thead th {\n",
       "        text-align: right;\n",
       "    }\n",
       "</style>\n",
       "<table border=\"1\" class=\"dataframe\">\n",
       "  <thead>\n",
       "    <tr style=\"text-align: right;\">\n",
       "      <th></th>\n",
       "      <th>No</th>\n",
       "      <th>Nama</th>\n",
       "      <th>Golongan</th>\n",
       "      <th>Masa Kerja (Tahun)</th>\n",
       "      <th>Status Pernikahan</th>\n",
       "      <th>Gaji Pokok</th>\n",
       "    </tr>\n",
       "  </thead>\n",
       "  <tbody>\n",
       "    <tr>\n",
       "      <th>0</th>\n",
       "      <td>1</td>\n",
       "      <td>Agustinus Wibowo</td>\n",
       "      <td>A</td>\n",
       "      <td>10</td>\n",
       "      <td>Menikah</td>\n",
       "      <td>7000000</td>\n",
       "    </tr>\n",
       "    <tr>\n",
       "      <th>1</th>\n",
       "      <td>2</td>\n",
       "      <td>Rahmat Effendi</td>\n",
       "      <td>A</td>\n",
       "      <td>8</td>\n",
       "      <td>Menikah</td>\n",
       "      <td>7000000</td>\n",
       "    </tr>\n",
       "    <tr>\n",
       "      <th>2</th>\n",
       "      <td>3</td>\n",
       "      <td>Faisal Agung</td>\n",
       "      <td>A</td>\n",
       "      <td>9</td>\n",
       "      <td>Belum Menikah</td>\n",
       "      <td>7000000</td>\n",
       "    </tr>\n",
       "    <tr>\n",
       "      <th>3</th>\n",
       "      <td>4</td>\n",
       "      <td>Meidina Silfia</td>\n",
       "      <td>B</td>\n",
       "      <td>5</td>\n",
       "      <td>Menikah</td>\n",
       "      <td>5000000</td>\n",
       "    </tr>\n",
       "    <tr>\n",
       "      <th>4</th>\n",
       "      <td>5</td>\n",
       "      <td>Cantika Wardani</td>\n",
       "      <td>B</td>\n",
       "      <td>6</td>\n",
       "      <td>Menikah</td>\n",
       "      <td>5000000</td>\n",
       "    </tr>\n",
       "    <tr>\n",
       "      <th>5</th>\n",
       "      <td>6</td>\n",
       "      <td>Dita Saraswati</td>\n",
       "      <td>B</td>\n",
       "      <td>5</td>\n",
       "      <td>Belum Menikah</td>\n",
       "      <td>5000000</td>\n",
       "    </tr>\n",
       "    <tr>\n",
       "      <th>6</th>\n",
       "      <td>7</td>\n",
       "      <td>Denis Juliasari</td>\n",
       "      <td>B</td>\n",
       "      <td>4</td>\n",
       "      <td>Belum Menikah</td>\n",
       "      <td>5000000</td>\n",
       "    </tr>\n",
       "    <tr>\n",
       "      <th>7</th>\n",
       "      <td>8</td>\n",
       "      <td>Fajar Sentoro</td>\n",
       "      <td>B</td>\n",
       "      <td>6</td>\n",
       "      <td>Menikah</td>\n",
       "      <td>5000000</td>\n",
       "    </tr>\n",
       "    <tr>\n",
       "      <th>8</th>\n",
       "      <td>9</td>\n",
       "      <td>Hermawan Wijayanto</td>\n",
       "      <td>C</td>\n",
       "      <td>2</td>\n",
       "      <td>Belum Menikah</td>\n",
       "      <td>4500000</td>\n",
       "    </tr>\n",
       "    <tr>\n",
       "      <th>9</th>\n",
       "      <td>10</td>\n",
       "      <td>Berliana Wahyuni</td>\n",
       "      <td>C</td>\n",
       "      <td>3</td>\n",
       "      <td>Belum Menikah</td>\n",
       "      <td>4500000</td>\n",
       "    </tr>\n",
       "    <tr>\n",
       "      <th>10</th>\n",
       "      <td>11</td>\n",
       "      <td>Nur Faisal</td>\n",
       "      <td>C</td>\n",
       "      <td>1</td>\n",
       "      <td>Menikah</td>\n",
       "      <td>4500000</td>\n",
       "    </tr>\n",
       "    <tr>\n",
       "      <th>11</th>\n",
       "      <td>12</td>\n",
       "      <td>Fajriani Arif</td>\n",
       "      <td>C</td>\n",
       "      <td>2</td>\n",
       "      <td>Belum Menikah</td>\n",
       "      <td>4500000</td>\n",
       "    </tr>\n",
       "    <tr>\n",
       "      <th>12</th>\n",
       "      <td>13</td>\n",
       "      <td>Maya Larasati</td>\n",
       "      <td>C</td>\n",
       "      <td>3</td>\n",
       "      <td>Menikah</td>\n",
       "      <td>4500000</td>\n",
       "    </tr>\n",
       "    <tr>\n",
       "      <th>13</th>\n",
       "      <td>14</td>\n",
       "      <td>Muhammad Adnan</td>\n",
       "      <td>C</td>\n",
       "      <td>1</td>\n",
       "      <td>Belum Menikah</td>\n",
       "      <td>4500000</td>\n",
       "    </tr>\n",
       "    <tr>\n",
       "      <th>14</th>\n",
       "      <td>15</td>\n",
       "      <td>Ahmad Agung</td>\n",
       "      <td>C</td>\n",
       "      <td>2</td>\n",
       "      <td>Belum Menikah</td>\n",
       "      <td>4500000</td>\n",
       "    </tr>\n",
       "  </tbody>\n",
       "</table>\n",
       "</div>"
      ],
      "text/plain": [
       "    No                Nama Golongan  Masa Kerja (Tahun) Status Pernikahan  \\\n",
       "0    1    Agustinus Wibowo        A                  10           Menikah   \n",
       "1    2      Rahmat Effendi        A                   8           Menikah   \n",
       "2    3        Faisal Agung        A                   9     Belum Menikah   \n",
       "3    4      Meidina Silfia        B                   5           Menikah   \n",
       "4    5     Cantika Wardani        B                   6           Menikah   \n",
       "5    6      Dita Saraswati        B                   5     Belum Menikah   \n",
       "6    7     Denis Juliasari        B                   4     Belum Menikah   \n",
       "7    8       Fajar Sentoro        B                   6           Menikah   \n",
       "8    9  Hermawan Wijayanto        C                   2     Belum Menikah   \n",
       "9   10    Berliana Wahyuni        C                   3     Belum Menikah   \n",
       "10  11          Nur Faisal        C                   1           Menikah   \n",
       "11  12       Fajriani Arif        C                   2     Belum Menikah   \n",
       "12  13       Maya Larasati        C                   3           Menikah   \n",
       "13  14      Muhammad Adnan        C                   1     Belum Menikah   \n",
       "14  15         Ahmad Agung        C                   2     Belum Menikah   \n",
       "\n",
       "    Gaji Pokok  \n",
       "0      7000000  \n",
       "1      7000000  \n",
       "2      7000000  \n",
       "3      5000000  \n",
       "4      5000000  \n",
       "5      5000000  \n",
       "6      5000000  \n",
       "7      5000000  \n",
       "8      4500000  \n",
       "9      4500000  \n",
       "10     4500000  \n",
       "11     4500000  \n",
       "12     4500000  \n",
       "13     4500000  \n",
       "14     4500000  "
      ]
     },
     "execution_count": 34,
     "metadata": {},
     "output_type": "execute_result"
    }
   ],
   "source": [
    "df.head(15)"
   ]
  },
  {
   "cell_type": "code",
   "execution_count": 92,
   "id": "1d703a49",
   "metadata": {
    "scrolled": true
   },
   "outputs": [
    {
     "name": "stdout",
     "output_type": "stream",
     "text": [
      "Halo! nama saya Rafli\n"
     ]
    }
   ],
   "source": [
    "with open(f\"/Users/raflidewanto/Desktop/test.txt\", \"r\") as f:\n",
    "    print(f.read())    "
   ]
  },
  {
   "cell_type": "code",
   "execution_count": 36,
   "id": "e320554f",
   "metadata": {
    "scrolled": true
   },
   "outputs": [
    {
     "name": "stdout",
     "output_type": "stream",
     "text": [
      "Rafli sedang belajar.\n"
     ]
    }
   ],
   "source": [
    "f = open('/Users/raflidewanto/Desktop/test2.txt', 'r')\n",
    "print(f.read())"
   ]
  },
  {
   "cell_type": "markdown",
   "id": "1fe11e67",
   "metadata": {},
   "source": [
    "### Menggunakan modus \"a\" untuk menambahkan data pada file"
   ]
  },
  {
   "cell_type": "code",
   "execution_count": 3,
   "id": "8de7953d",
   "metadata": {},
   "outputs": [
    {
     "name": "stdout",
     "output_type": "stream",
     "text": [
      "File handling.\n"
     ]
    }
   ],
   "source": [
    "# Membuat file baru dengan ekstensi .txt\n",
    "f = open(\"/Users/raflidewanto/Desktop/test3.txt\", \"a\")\n",
    "f.write(\"File handling.\")\n",
    "f.close()\n",
    "\n",
    "f = open('/Users/raflidewanto/Desktop/test3.txt', 'r')\n",
    "print(f.read())"
   ]
  },
  {
   "cell_type": "code",
   "execution_count": 4,
   "id": "4dd7c821",
   "metadata": {},
   "outputs": [
    {
     "name": "stdout",
     "output_type": "stream",
     "text": [
      "Rafli sedang belajar. file handling python.\n"
     ]
    }
   ],
   "source": [
    "f = open(\"/Users/raflidewanto/Desktop/test2.txt\", \"a\")\n",
    "f.write(\" file handling python.\") # menambahakan text pada file text2.txt\n",
    "f.close()\n",
    "\n",
    "f = open(\"/Users/raflidewanto/Desktop/test2.txt\", \"r\")\n",
    "print(f.read())"
   ]
  },
  {
   "cell_type": "markdown",
   "id": "109be56a",
   "metadata": {},
   "source": [
    "### Modus \"w\" untuk overwrite data pada file"
   ]
  },
  {
   "cell_type": "code",
   "execution_count": 9,
   "id": "52a66d9a",
   "metadata": {},
   "outputs": [
    {
     "name": "stdout",
     "output_type": "stream",
     "text": [
      "test overwrite file.txt\n"
     ]
    }
   ],
   "source": [
    "f = open(\"/Users/raflidewanto/Desktop/demofile.txt\", \"w\") # akan membuat file baru karena file dengan nama tersebut\n",
    "f.write(\"test overwrite file.txt\")                        # tidak ada.\n",
    "f.close()\n",
    "\n",
    "#open and read the file after the appending:\n",
    "f = open(\"/Users/raflidewanto/Desktop/demofile.txt\", \"r\")\n",
    "print(f.read())"
   ]
  },
  {
   "cell_type": "code",
   "execution_count": 4,
   "id": "69fbbbd9",
   "metadata": {},
   "outputs": [],
   "source": [
    "f = open(\"/Users/raflidewanto/Desktop/demofile2.txt\", \"x\") # membuat file .txt dengan isi kosong."
   ]
  },
  {
   "cell_type": "markdown",
   "id": "2a1f5c56",
   "metadata": {},
   "source": [
    "### Menghapus file"
   ]
  },
  {
   "cell_type": "code",
   "execution_count": 8,
   "id": "ba922043",
   "metadata": {},
   "outputs": [
    {
     "ename": "FileNotFoundError",
     "evalue": "[Errno 2] No such file or directory: 'jupyter.txt'",
     "output_type": "error",
     "traceback": [
      "\u001b[0;31m---------------------------------------------------------------------------\u001b[0m",
      "\u001b[0;31mFileNotFoundError\u001b[0m                         Traceback (most recent call last)",
      "\u001b[0;32m/var/folders/vq/5zyclt6n1mn8qjx5k2gd86580000gn/T/ipykernel_4182/1569132912.py\u001b[0m in \u001b[0;36m<module>\u001b[0;34m\u001b[0m\n\u001b[1;32m      1\u001b[0m \u001b[0;32mimport\u001b[0m \u001b[0mos\u001b[0m\u001b[0;34m\u001b[0m\u001b[0;34m\u001b[0m\u001b[0m\n\u001b[0;32m----> 2\u001b[0;31m \u001b[0mos\u001b[0m\u001b[0;34m.\u001b[0m\u001b[0mremove\u001b[0m\u001b[0;34m(\u001b[0m\u001b[0;34m\"jupyter.txt\"\u001b[0m\u001b[0;34m)\u001b[0m\u001b[0;34m\u001b[0m\u001b[0;34m\u001b[0m\u001b[0m\n\u001b[0m",
      "\u001b[0;31mFileNotFoundError\u001b[0m: [Errno 2] No such file or directory: 'jupyter.txt'"
     ]
    }
   ],
   "source": [
    "import os\n",
    "os.remove(\"jupyter.txt\") # akan muncul FileNotFoundError karena file pada directory ini tidak ada."
   ]
  },
  {
   "cell_type": "code",
   "execution_count": 7,
   "id": "9f7d1541",
   "metadata": {},
   "outputs": [
    {
     "name": "stdout",
     "output_type": "stream",
     "text": [
      "File tidak ditemukan.\n"
     ]
    }
   ],
   "source": [
    "import os\n",
    "if os.path.exists(\"python.txt\"):\n",
    "    os.remove(\"python.txt\")\n",
    "else:\n",
    "    print(\"File tidak ditemukan.\")"
   ]
  },
  {
   "cell_type": "markdown",
   "id": "57737e25",
   "metadata": {},
   "source": [
    "## Exception Handling\n",
    "memungkinkan untuk menulis program yang menangani eksepsi yang dipilih. "
   ]
  },
  {
   "cell_type": "code",
   "execution_count": null,
   "id": "4121f7ff",
   "metadata": {},
   "outputs": [],
   "source": [
    "while True:\n",
    "    try:\n",
    "        x = int(input(\"Masukkan bilangan bulat: \"))\n",
    "        break\n",
    "    except ValueError:\n",
    "        print(\"Input invalid.\")"
   ]
  },
  {
   "cell_type": "code",
   "execution_count": 55,
   "id": "becb0f63",
   "metadata": {},
   "outputs": [
    {
     "name": "stdout",
     "output_type": "stream",
     "text": [
      "Masukkan bilangan positif: -1\n"
     ]
    },
    {
     "ename": "ValueError",
     "evalue": "Bilangan harus positif!",
     "output_type": "error",
     "traceback": [
      "\u001b[0;31m---------------------------------------------------------------------------\u001b[0m",
      "\u001b[0;31mValueError\u001b[0m                                Traceback (most recent call last)",
      "\u001b[0;32m/var/folders/vq/5zyclt6n1mn8qjx5k2gd86580000gn/T/ipykernel_63408/408151937.py\u001b[0m in \u001b[0;36m<module>\u001b[0;34m\u001b[0m\n\u001b[1;32m      2\u001b[0m \u001b[0;34m\u001b[0m\u001b[0m\n\u001b[1;32m      3\u001b[0m \u001b[0;32mif\u001b[0m \u001b[0mbil_user\u001b[0m \u001b[0;34m<\u001b[0m \u001b[0;36m0\u001b[0m\u001b[0;34m:\u001b[0m\u001b[0;34m\u001b[0m\u001b[0;34m\u001b[0m\u001b[0m\n\u001b[0;32m----> 4\u001b[0;31m     \u001b[0;32mraise\u001b[0m \u001b[0mValueError\u001b[0m\u001b[0;34m(\u001b[0m\u001b[0;34m\"Bilangan harus positif!\"\u001b[0m\u001b[0;34m)\u001b[0m\u001b[0;34m\u001b[0m\u001b[0;34m\u001b[0m\u001b[0m\n\u001b[0m\u001b[1;32m      5\u001b[0m \u001b[0;32melse\u001b[0m\u001b[0;34m:\u001b[0m\u001b[0;34m\u001b[0m\u001b[0;34m\u001b[0m\u001b[0m\n\u001b[1;32m      6\u001b[0m     \u001b[0mprint\u001b[0m\u001b[0;34m(\u001b[0m\u001b[0mbil_user\u001b[0m\u001b[0;34m)\u001b[0m\u001b[0;34m\u001b[0m\u001b[0;34m\u001b[0m\u001b[0m\n",
      "\u001b[0;31mValueError\u001b[0m: Bilangan harus positif!"
     ]
    }
   ],
   "source": [
    "bil_user = int(input(\"Masukkan bilangan positif: \"))\n",
    "\n",
    "if bil_user < 0:\n",
    "    raise ValueError(\"Bilangan harus positif!\")\n",
    "else:\n",
    "    print(bil_user)"
   ]
  },
  {
   "cell_type": "code",
   "execution_count": 44,
   "id": "f33861a0",
   "metadata": {},
   "outputs": [
    {
     "data": {
      "text/plain": [
       "4"
      ]
     },
     "execution_count": 44,
     "metadata": {},
     "output_type": "execute_result"
    }
   ],
   "source": [
    "def kuadrat(x):\n",
    "    assert x>=0, 'Input harus bilangan positif!' # mengecek apakah x>=0 jika false akan raise AssertionError\n",
    "    return x*x\n",
    "\n",
    "kuadrat(2) "
   ]
  }
 ],
 "metadata": {
  "kernelspec": {
   "display_name": "Python 3 (ipykernel)",
   "language": "python",
   "name": "python3"
  },
  "language_info": {
   "codemirror_mode": {
    "name": "ipython",
    "version": 3
   },
   "file_extension": ".py",
   "mimetype": "text/x-python",
   "name": "python",
   "nbconvert_exporter": "python",
   "pygments_lexer": "ipython3",
   "version": "3.9.7"
  }
 },
 "nbformat": 4,
 "nbformat_minor": 5
}
