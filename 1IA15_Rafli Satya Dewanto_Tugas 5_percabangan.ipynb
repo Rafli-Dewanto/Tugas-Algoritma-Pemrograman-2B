{
 "cells": [
  {
   "cell_type": "markdown",
   "id": "5a5460b5",
   "metadata": {},
   "source": [
    "# Percabangan"
   ]
  },
  {
   "cell_type": "markdown",
   "id": "0eb7a454",
   "metadata": {},
   "source": [
    "Python mendukung kondisi logis matematika seperti:\n",
    "\n",
    "Sama dengan: a == b  \n",
    "Tidak Sama dengan: a != b  \n",
    "Kurang dari: a < b  \n",
    "Kurang dari atau sama dengan: a <= b  \n",
    "Lebih besar dari: a > b  \n",
    "Lebih besar dari atau sama dengan: a >= b  \n",
    "Kondisi ini dapat digunakan dalam beberapa cara, paling umum dalam \"pernyataan if\" dan loop.\n",
    "  \n",
    "Sebuah \"pernyataan if\" ditulis dengan menggunakan kata kunci if."
   ]
  },
  {
   "cell_type": "code",
   "execution_count": 1,
   "id": "d2643142",
   "metadata": {},
   "outputs": [
    {
     "name": "stdout",
     "output_type": "stream",
     "text": [
      "b lebih besar dari a\n"
     ]
    }
   ],
   "source": [
    "a = 24\n",
    "b = 213\n",
    "if b > a:\n",
    "    print(\"b lebih besar dari a\")"
   ]
  },
  {
   "cell_type": "markdown",
   "id": "b46f97c6",
   "metadata": {},
   "source": [
    "Kata kunci elif adalah cara python untuk mengatakan \"jika kondisi sebelumnya tidak benar, maka coba kondisi ini\".  \n",
    "Contoh:"
   ]
  },
  {
   "cell_type": "code",
   "execution_count": 2,
   "id": "baed71d6",
   "metadata": {},
   "outputs": [
    {
     "name": "stdout",
     "output_type": "stream",
     "text": [
      "a dan b sama besar\n"
     ]
    }
   ],
   "source": [
    "a = 33\n",
    "b = 33\n",
    "if b > a:\n",
    "    print(\"b lebih besar dari  a\")\n",
    "elif a == b:\n",
    "    print(\"a dan b sama besar\")"
   ]
  },
  {
   "cell_type": "markdown",
   "id": "79437743",
   "metadata": {},
   "source": [
    "Kata kunci else menangkap apa pun yang tidak ditangkap oleh kondisi sebelumnya."
   ]
  },
  {
   "cell_type": "code",
   "execution_count": 4,
   "id": "ed36074d",
   "metadata": {},
   "outputs": [
    {
     "name": "stdout",
     "output_type": "stream",
     "text": [
      "a lebih besar dari b\n"
     ]
    }
   ],
   "source": [
    "a = 200\n",
    "b = 33\n",
    "if b > a :\n",
    "    print(\"b lebih besar dari a\")\n",
    "elif a == b:\n",
    "    print(\"a dan b sama\")\n",
    "else:\n",
    "    print(\"a lebih besar dari b\")"
   ]
  },
  {
   "cell_type": "markdown",
   "id": "71c79814",
   "metadata": {},
   "source": [
    "## Short Hand If  \n",
    "Jika Anda hanya memiliki satu pernyataan untuk dieksekusi, Anda dapat meletakkannya di baris yang sama dengan pernyataan if."
   ]
  },
  {
   "cell_type": "code",
   "execution_count": 5,
   "id": "e6f77046",
   "metadata": {},
   "outputs": [
    {
     "name": "stdout",
     "output_type": "stream",
     "text": [
      "a lebih besar dari b\n"
     ]
    }
   ],
   "source": [
    "if a > b: print(\"a lebih besar dari b\")"
   ]
  },
  {
   "cell_type": "markdown",
   "id": "bc79c960",
   "metadata": {},
   "source": [
    "Atau bisa juga digabung dengan  statement if-else seperti contoh di bawah:"
   ]
  },
  {
   "cell_type": "code",
   "execution_count": 7,
   "id": "97ee0d54",
   "metadata": {},
   "outputs": [
    {
     "name": "stdout",
     "output_type": "stream",
     "text": [
      "a\n"
     ]
    }
   ],
   "source": [
    "a = 24\n",
    "b = 23\n",
    "print(\"a\") if a > b else print(\"b\")"
   ]
  },
  {
   "cell_type": "markdown",
   "id": "48afd793",
   "metadata": {},
   "source": [
    "Contoh short hand if dengan 3 kondisi"
   ]
  },
  {
   "cell_type": "code",
   "execution_count": 8,
   "id": "40049656",
   "metadata": {},
   "outputs": [
    {
     "name": "stdout",
     "output_type": "stream",
     "text": [
      "=\n"
     ]
    }
   ],
   "source": [
    "a = 20\n",
    "b = 20\n",
    "print(\"a\") if a > b else print(\"=\") if a == b else print(\"b\")"
   ]
  },
  {
   "cell_type": "markdown",
   "id": "22c361bf",
   "metadata": {},
   "source": [
    "### AND \n",
    "Kata kunci \"and\" adalah operator logika, dan digunakan untuk menggabungkan pernyataan bersyarat:"
   ]
  },
  {
   "cell_type": "code",
   "execution_count": 10,
   "id": "c3a29f47",
   "metadata": {},
   "outputs": [
    {
     "name": "stdout",
     "output_type": "stream",
     "text": [
      "Nilai Anda C\n"
     ]
    }
   ],
   "source": [
    "s = 58\n",
    "if s < 60 and s > 50:\n",
    "    print(\"Nilai Anda C\")"
   ]
  },
  {
   "cell_type": "markdown",
   "id": "0fc7ba5f",
   "metadata": {},
   "source": [
    "### OR\n",
    "Kata kunci or adalah operator logika, dan digunakan untuk menggabungkan pernyataan kondisional:"
   ]
  },
  {
   "cell_type": "code",
   "execution_count": 15,
   "id": "118d5349",
   "metadata": {},
   "outputs": [
    {
     "name": "stdout",
     "output_type": "stream",
     "text": [
      "Statement ini akan ter-print jika setidaknya salah satu syaratnya Benar\n"
     ]
    }
   ],
   "source": [
    "a = 200\n",
    "b = 33\n",
    "c = 500\n",
    "if a > b or a > c :\n",
    "    print(\"Statement ini akan ter-print jika setidaknya salah satu syaratnya Benar\")\n",
    "else:\n",
    "    pass"
   ]
  },
  {
   "cell_type": "markdown",
   "id": "ed07dc38",
   "metadata": {},
   "source": [
    "### NESTED IF\n",
    "Kita dapat memiliki pernyataan if di dalam pernyataan if, ini disebut pernyataan nested if(if bersarang)."
   ]
  },
  {
   "cell_type": "code",
   "execution_count": 19,
   "id": "27b2a62a",
   "metadata": {},
   "outputs": [
    {
     "name": "stdout",
     "output_type": "stream",
     "text": [
      "Lebih dari 10,\n",
      "tetapi tidak lebih dari 20.\n"
     ]
    }
   ],
   "source": [
    "x = 12\n",
    "\n",
    "if x > 10:\n",
    "    print(\"Lebih dari 10,\")\n",
    "    if x > 20:\n",
    "        print(\"dan juga lebih dari 20!\")\n",
    "    else:\n",
    "        print(\"tetapi tidak lebih dari 20.\")"
   ]
  },
  {
   "cell_type": "markdown",
   "id": "6aada275",
   "metadata": {},
   "source": [
    "### NOT\n",
    "Ini akan membalik hasil asli dari kondisi tersebut. misalnya jika itu benar maka sekarang salah"
   ]
  },
  {
   "cell_type": "code",
   "execution_count": 21,
   "id": "f83b5024",
   "metadata": {},
   "outputs": [],
   "source": [
    "if not 3 > 1:print(\"something\") # program tidak akan mencetak apapun karena nilai bernilai false."
   ]
  },
  {
   "cell_type": "markdown",
   "id": "5987633c",
   "metadata": {},
   "source": [
    "### PASS\n",
    "if statemant tidak boleh kosong, tetapi jika Anda karena alasan tertentu memiliki pernyataan if tanpa isi, masukkan pernyataan pass untuk menghindari error."
   ]
  },
  {
   "cell_type": "code",
   "execution_count": 24,
   "id": "655e4975",
   "metadata": {},
   "outputs": [],
   "source": [
    "a = 1\n",
    "b = 2\n",
    "\n",
    "if b > a: # Tidak akan mencetak apapun.\n",
    "  pass"
   ]
  },
  {
   "cell_type": "markdown",
   "id": "7bd919df",
   "metadata": {},
   "source": [
    "### Mengecek apakah angka inputan user merupakan angka ganjil/genap"
   ]
  },
  {
   "cell_type": "code",
   "execution_count": null,
   "id": "85fd9b2b",
   "metadata": {},
   "outputs": [],
   "source": [
    "angka = int(input(\"Masukkan angka :\"))\n",
    "\n",
    "if angka % 2 == 0:\n",
    "    print(f\"{angka} merupakan angka genap\")\n",
    "else:\n",
    "    print(f\"{angka} merupakan angka ganjil\")"
   ]
  },
  {
   "cell_type": "markdown",
   "id": "0bdd7952",
   "metadata": {},
   "source": [
    "### Menentukan Jenis Segitiga"
   ]
  },
  {
   "cell_type": "code",
   "execution_count": null,
   "id": "92dff1f7",
   "metadata": {},
   "outputs": [],
   "source": [
    "print(\"Masukkan sisi segitiga : \")\n",
    "x = int(input(\"sisi 1: \"))\n",
    "y = int(input(\"sisi 2: \"))\n",
    "z = int(input(\"sisi 3: \"))\n",
    "\n",
    "if x == y == z:\n",
    "\tprint(\"Segitiga sama sisi\")\n",
    "elif x==y or y==z or z==x:\n",
    "\tprint(\"Segitiga sama kaki\")\n",
    "else:\n",
    "\tprint(\"Segitiga siku-siku\")\n"
   ]
  },
  {
   "cell_type": "markdown",
   "id": "8f167c23",
   "metadata": {},
   "source": [
    "### Wahana"
   ]
  },
  {
   "cell_type": "code",
   "execution_count": null,
   "id": "0e13e14c",
   "metadata": {},
   "outputs": [],
   "source": [
    "tinggi = int(input(\"Berapa tinggi Anda? (cm)\"))\n",
    "if tinggi >= 120:\n",
    "    print(\"Anda bisa menaiki wahana!\")\n",
    "    usia = int(input(\"Berapa usia Anda?\"))\n",
    "    if usia < 12:\n",
    "        print(\"Anda harus membayar Rp50,000\")\n",
    "    elif usia <= 18:\n",
    "        print(\"Anda harus membayar Rp60,000\")\n",
    "    else:\n",
    "        print(\"Anda harus membayar Rp70,000\")\n",
    "else:\n",
    "    print(\"Anda tidak bisa menaiki wahana.\")"
   ]
  },
  {
   "cell_type": "markdown",
   "id": "2c927b56",
   "metadata": {},
   "source": [
    "### Mencari nilai terbesar"
   ]
  },
  {
   "cell_type": "code",
   "execution_count": null,
   "id": "c767c448",
   "metadata": {},
   "outputs": [],
   "source": [
    "a = int(input(\"Masukkan angka pertama : \"))  \n",
    "b = int(input(\"Masukkan angka kedua : \"))  \n",
    "c = int(input(\"Masukkan angka ketiga : \"))  \n",
    "\n",
    "if((a>b and a>c) and (a != b and a != c)):\n",
    "    print(a, \"adalah nilai terbesar!\")\n",
    "elif((b>a and b>c) and (b != a and b != c)):\n",
    "    print(b, \"adalah nilai terbesar!\")\n",
    "elif((c>a and c>b) and (c != a and c != b)):\n",
    "    print(c, \"adalah nilai terbesar!\")\n",
    "else:\n",
    "    print(\"Semua angka nilainya sama besar.\")"
   ]
  },
  {
   "cell_type": "markdown",
   "id": "0389fdb0",
   "metadata": {},
   "source": [
    "### ✊🏻kalkulator Indeks massa tubuh ✊🏻"
   ]
  },
  {
   "cell_type": "code",
   "execution_count": null,
   "id": "7c2cccf2",
   "metadata": {},
   "outputs": [],
   "source": [
    "while True:\n",
    "    # Meminta user untuk menginput tinggi dan berat badan.\n",
    "    tinggi = float(input(\"Masukkan tinggi badan (m) : \"))\n",
    "    berat = float(input(\"Masukkan berat badan (kg) : \"))\n",
    "    # rumus indeks massa tubuh = berat ÷ tinggi^2.\n",
    "    imt = berat/tinggi**2\n",
    "    # conditional statement untuk menentukan apakah seseorang kekurangan berat badan, normal, sedikit kelebihan berat badan atau obesitas.\n",
    "    if imt <= 18.5:\n",
    "        print(\"Indeks massa tubuh Anda \",round(imt), \", Anda kekurangan berat badan.\") \n",
    "    elif imt <= 25:\n",
    "        print(\"Indeks massa tubuh Anda \",round(imt), \", Anda memiliki berat badan normal\") \n",
    "    elif imt <= 30:\n",
    "        print(\"Indeks massa tubuh Anda \",round(imt), \", Anda sedikit kelebihan berat badan.\") \n",
    "    else:\n",
    "        print(\"Indeks massa tubuh Anda \",round(imt), \", Anda obesitas.\")\n",
    "    if input(\"Lakukan perhitungan kembali? (y/n): \") == 'n':\n",
    "        break"
   ]
  },
  {
   "cell_type": "markdown",
   "id": "a0273468",
   "metadata": {},
   "source": [
    "### 🗓Program untuk mengecek apakah suatu tahun merupakan tahun kabisat.🗓"
   ]
  },
  {
   "cell_type": "code",
   "execution_count": null,
   "id": "c4db65ee",
   "metadata": {},
   "outputs": [],
   "source": [
    "tahun = int(input(\"Tahun berapa yang ingin Anda periksa? \"))\n",
    "\n",
    "if tahun % 4 != 0:\n",
    "    print(f\"{tahun} bukan tahun kabisat.\")\n",
    "else:\n",
    "    if tahun % 100 != 0:\n",
    "        print(f\"{tahun} merupakan tahun kabisat.\")\n",
    "    else:\n",
    "        if tahun % 400 != 0:\n",
    "            print(f\"{tahun} bukan tahun kabisat.\")\n",
    "        else:\n",
    "            print(f\"{tahun} merupakan tahun kabisat.\")"
   ]
  },
  {
   "cell_type": "markdown",
   "id": "a822af2a",
   "metadata": {},
   "source": [
    "### 📓Program untuk mengecek nilai yang didapat"
   ]
  },
  {
   "cell_type": "code",
   "execution_count": null,
   "id": "881858c8",
   "metadata": {},
   "outputs": [],
   "source": [
    "nilai = int(input(\"Masukkan nilai Anda : \"))  \n",
    "if nilai > 90 and nilai <= 100:  \n",
    "   print(f\"Nilai Anda {nilai}, Anda dapat nilai A\")  \n",
    "elif nilai > 80 and nilai <= 90:  \n",
    "   print(f\"Nilai Anda {nilai}, Anda dapat nilai B\")  \n",
    "elif nilai > 70 and nilai <= 80:  \n",
    "   print(f\"Nilai Anda {nilai}, Anda dapat nilai C\")\n",
    "elif nilai > 60 and nilai <= 70:  \n",
    "   print(f\"Nilai Anda {nilai}, Anda dapat nilai D\")  \n",
    "else:  \n",
    "   print(f\"Nilai Anda {nilai}, Anda gagal\")  "
   ]
  },
  {
   "cell_type": "markdown",
   "id": "62429bb5",
   "metadata": {},
   "source": [
    "### 🤨 Mengecek inputan huruf user merupakan huruf vokal/konsonan"
   ]
  },
  {
   "cell_type": "code",
   "execution_count": null,
   "id": "2f6ff808",
   "metadata": {
    "scrolled": false
   },
   "outputs": [],
   "source": [
    "alfabet = 'ABCDEFGHIJKLMNOPQRSTUVWXYZ'\n",
    "list_alfabet = [str(i) for i in alfabet]\n",
    "\n",
    "vokal = ['A','I','U','E','O']\n",
    "\n",
    "cek_alfabet = input(\"masukkann huruf : \\n\").upper().strip()\n",
    "\n",
    "if cek_alfabet in vokal:\n",
    "    print(f\"{cek_alfabet} merupakan huruf vokal\")\n",
    "else:\n",
    "    print(f\"{cek_alfabet} merupakan konsonan\")"
   ]
  },
  {
   "cell_type": "code",
   "execution_count": 1,
   "id": "7bf01e3b",
   "metadata": {},
   "outputs": [
    {
     "name": "stdout",
     "output_type": "stream",
     "text": [
      "Masukkan banyak pembelian: 3\n",
      "Total = Rp.2,970,000.00\n",
      "lakukan kalkulasi kembali? (Y/N)\n",
      "n\n"
     ]
    }
   ],
   "source": [
    "def pembelian():\n",
    "    banyak_pembelian = int(input(\"Masukkan banyak pembelian: \"))\n",
    "    if banyak_pembelian > 0 and banyak_pembelian < 10:\n",
    "        total = banyak_pembelian * 990000\n",
    "        print(f\"Total = Rp.{total:,.2f}\")\n",
    "    \n",
    "    elif banyak_pembelian >= 10 and banyak_pembelian <= 19:\n",
    "        total = banyak_pembelian * 990000 * 0.8\n",
    "        diskon = banyak_pembelian * 990000 * 0.2\n",
    "        print(f\"Diskon = Rp.{diskon:,.2f}\")\n",
    "        print(f\"Total = Rp.{total:,.2f}\")\n",
    "    \n",
    "    elif banyak_pembelian >= 20 and banyak_pembelian <= 49:\n",
    "        total = banyak_pembelian * 990000 * 0.7\n",
    "        diskon = banyak_pembelian * 990000 * 0.3\n",
    "        print(f\"Diskon = Rp.{diskon:,.2f}\")\n",
    "        print(f\"Total = Rp.{total:,.2f}\")\n",
    "    \n",
    "    elif banyak_pembelian >= 50 and banyak_pembelian <= 99:\n",
    "        total = banyak_pembelian * 990000 * 0.6\n",
    "        diskon = banyak_pembelian * 990000 * 0.4\n",
    "        print(f\"Diskon = Rp.{diskon:,.2f}\")\n",
    "        print(f\"Total = Rp.{total:,.2f}\")\n",
    "    \n",
    "    elif banyak_pembelian >= 100:\n",
    "        total = banyak_pembelian * 990000 * 0.5\n",
    "        diskon = banyak_pembelian * 990000 * 0.5\n",
    "        print(f\"Diskon = Rp.{diskon:,.2f}\")\n",
    "        print(f\"Total = Rp.{total:,.2f}\")\n",
    "    \n",
    "    lanjut = input(\"lakukan kalkulasi kembali? (Y/N)\\n\").lower().strip()\n",
    "    \n",
    "    if lanjut == \"y\":\n",
    "        pembelian()\n",
    "    else:\n",
    "        quit()\n",
    "pembelian()"
   ]
  }
 ],
 "metadata": {
  "kernelspec": {
   "display_name": "Python 3 (ipykernel)",
   "language": "python",
   "name": "python3"
  },
  "language_info": {
   "codemirror_mode": {
    "name": "ipython",
    "version": 3
   },
   "file_extension": ".py",
   "mimetype": "text/x-python",
   "name": "python",
   "nbconvert_exporter": "python",
   "pygments_lexer": "ipython3",
   "version": "3.9.7"
  }
 },
 "nbformat": 4,
 "nbformat_minor": 5
}
