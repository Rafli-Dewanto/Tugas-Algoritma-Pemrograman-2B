{
 "cells": [
  {
   "cell_type": "markdown",
   "metadata": {},
   "source": [
    "# Nama: Rafli Satya Dewanto\n",
    "# Kelas: 1IA15\n",
    "# NPM: 51421208"
   ]
  },
  {
   "cell_type": "markdown",
   "metadata": {
    "tags": []
   },
   "source": [
    "# Belajar Type Data"
   ]
  },
  {
   "cell_type": "markdown",
   "metadata": {},
   "source": [
    "Dalam pemrograman, tipe data merupakan konsep penting.\n",
    "\n",
    "Variabel dapat menyimpan data dari tipe yang berbeda, dan tipe yang berbeda dapat melakukan hal yang berbeda.\n",
    "\n",
    "Python memiliki tipe data berikut bawaan secara default, beberapa contohhnya adalah seperti dibawah ini,"
   ]
  },
  {
   "cell_type": "markdown",
   "metadata": {},
   "source": [
    "<img src=\"tipedata.jpg\" width=\"500\" height=\"375\"/>"
   ]
  },
  {
   "cell_type": "markdown",
   "metadata": {},
   "source": [
    "## String \n",
    "String adalah rangkaian karakter. Itu dapat dideklarasikan dengan python dengan menggunakan tanda kutip ganda, contoh:"
   ]
  },
  {
   "cell_type": "code",
   "execution_count": 1,
   "metadata": {
    "scrolled": true
   },
   "outputs": [
    {
     "name": "stdout",
     "output_type": "stream",
     "text": [
      "Hari ini saya belajar python\n",
      "ini merupakan sebuah string\n",
      "\n",
      "Halo Dunia\n",
      "Terdapat 10 karakter dalam kalimat \"Halo Dunia.\"\n"
     ]
    }
   ],
   "source": [
    "print('Hari ini saya belajar python')\n",
    "a = 'ini merupakan sebuah string'\n",
    "print(a)\n",
    "print()\n",
    "\n",
    "# Penggabungan kata\n",
    "Kata1 = 'Halo'\n",
    "kata2 = 'Dunia'\n",
    "hasil = Kata1 + \" \" + kata2\n",
    "print(hasil)\n",
    "print(\"Terdapat\",len(hasil),'karakter dalam kalimat \"Halo Dunia.\"' )"
   ]
  },
  {
   "cell_type": "markdown",
   "metadata": {},
   "source": [
    "### Python Collections (Array)\n",
    "Ada empat jenis pengumpulan data dalam bahasa pemrograman Python:\n",
    "\n",
    "-> Lists adalah kumpulan yang teratur dan dapat diubah. Memungkinkan anggota diduplikat.\n",
    "\n",
    "-> Tuple adalah himpunan yang teratur dan tidak dapat diubah. Memungkinkan anggota duplikat.\n",
    "\n",
    "-> Set adalah koleksi yang tidak teratur, tidak dapat diubah, tidak berindeks dan tidak ada anggota duplikat.\n",
    "\n",
    "-> Dictionary adalah koleksi yang teratur dan dapat diubah tetapi tidak ada anggota duplikat."
   ]
  },
  {
   "cell_type": "markdown",
   "metadata": {},
   "source": [
    "### List\n",
    "List digunakan untuk menyimpan beberapa item dalam satu variabel.\n",
    "\n",
    "List adalah salah satu dari 4 tipe data bawaan dalam Python yang digunakan untuk menyimpan kumpulan data, 3 lainnya adalah Tuple, Set, dan Dictionary, semuanya dengan kualitas dan penggunaan yang berbeda.\n",
    "\n",
    "List dibuat menggunakan tanda kurung siku, '[ ]' contoh :"
   ]
  },
  {
   "cell_type": "code",
   "execution_count": 2,
   "metadata": {
    "scrolled": true
   },
   "outputs": [
    {
     "name": "stdout",
     "output_type": "stream",
     "text": [
      "['buku', 'pensil', 'penghapus', 'Rautan']\n",
      "Panjang list 'daftar' : 4\n",
      "['penggaris', 'pensil', 'penghapus', 'Rautan']\n",
      "4\n"
     ]
    }
   ],
   "source": [
    "daftar = [\"buku\", \"pensil\", \"penghapus\", \"Rautan\"]\n",
    "print(daftar)\n",
    "print(\"Panjang list 'daftar' :\" ,len(daftar))\n",
    "# Karena list mutable maka kita dapat mengubah elemen didalam list dengan cara seperti di bawah,\n",
    "daftar [0] = \"penggaris\"\n",
    "print(daftar)\n",
    "print(len(daftar))"
   ]
  },
  {
   "cell_type": "markdown",
   "metadata": {},
   "source": [
    "### Tuple\n",
    "Tuple adalah kumpulan objek Python seperti lists. Urutan nilai yang disimpan dalam tupel dapat berupa jenis apa pun, dan diindeks oleh integers.Nilai sebuah tuple secara sintaksis dipisahkan oleh 'koma'. Meskipun tidak perlu, lebih umum untuk mendefinisikan tupel dengan menutup urutan nilai dalam tanda kurung. Ini membantu dalam memahami tupel Python dengan lebih mudah, contoh :"
   ]
  },
  {
   "cell_type": "code",
   "execution_count": 3,
   "metadata": {},
   "outputs": [
    {
     "name": "stdout",
     "output_type": "stream",
     "text": [
      "<class 'tuple'> ((0, 1, 2, 3), ('jupyter', 'notebook'))\n",
      "\n",
      "Tuple dengan List: \n",
      "(1, 2, 4, 5, 6)\n"
     ]
    }
   ],
   "source": [
    "tuple1 = (0, 1, 2, 3)\n",
    "tuple2 = ('jupyter', 'notebook')\n",
    "tuple3 = (tuple1, tuple2)\n",
    "print(type(tuple3),tuple3)\n",
    "\n",
    "\n",
    "\n",
    "# Membuat tuple dengan lists\n",
    "list1 = [1, 2, 4, 5, 6]\n",
    "print(\"\\nTuple dengan List: \")\n",
    "print(tuple(list1))"
   ]
  },
  {
   "cell_type": "markdown",
   "metadata": {},
   "source": [
    "### Set\n",
    "Set digunakan untuk menyimpan beberapa item dalam satu variabel, contoh :"
   ]
  },
  {
   "cell_type": "code",
   "execution_count": 2,
   "metadata": {
    "scrolled": true
   },
   "outputs": [
    {
     "name": "stdout",
     "output_type": "stream",
     "text": [
      "{2, 3}\n",
      "Set setelah diubah (mutated):  {'Python', 2, 3, 4}\n"
     ]
    }
   ],
   "source": [
    "my_set = {2, 2, 3}\n",
    "print(my_set)\n",
    "# Karena set mutable jadi kita bisa memodifikasi anggota dari set, seperti menambahkan (.add(var)), \n",
    "# menghapus (.clear(var)),\n",
    "# Menghapus data secara spesifik (.discard(var))\n",
    "my_set.add(4)\n",
    "my_set.add(\"Python\")\n",
    "print('Set setelah diubah (mutated): ',my_set)"
   ]
  },
  {
   "cell_type": "code",
   "execution_count": null,
   "metadata": {},
   "outputs": [],
   "source": [
    "# pada variabel my_set terdapat anggota {2,2,3}, namun karena set tidak memungkinkan untuk ada anggota yang sama (duplikat),\n",
    "# Maka output dari my_set hanya 2 dan 3."
   ]
  },
  {
   "cell_type": "code",
   "execution_count": 94,
   "metadata": {},
   "outputs": [
    {
     "name": "stdout",
     "output_type": "stream",
     "text": [
      "Frozen Set :  frozenset({'P', 'Y', 'O', 'H', 'T', 'N'})\n",
      "The empty frozen set is: frozenset()\n"
     ]
    },
    {
     "ename": "AttributeError",
     "evalue": "'frozenset' object has no attribute 'add'",
     "output_type": "error",
     "traceback": [
      "\u001b[0;31m---------------------------------------------------------------------------\u001b[0m",
      "\u001b[0;31mAttributeError\u001b[0m                            Traceback (most recent call last)",
      "\u001b[0;32m/var/folders/vq/5zyclt6n1mn8qjx5k2gd86580000gn/T/ipykernel_9555/1540445172.py\u001b[0m in \u001b[0;36m<module>\u001b[0;34m\u001b[0m\n\u001b[1;32m      7\u001b[0m \u001b[0;34m\u001b[0m\u001b[0m\n\u001b[1;32m      8\u001b[0m \u001b[0;31m# frozensets are immutable\u001b[0m\u001b[0;34m\u001b[0m\u001b[0;34m\u001b[0m\u001b[0m\n\u001b[0;32m----> 9\u001b[0;31m \u001b[0mfSet\u001b[0m\u001b[0;34m.\u001b[0m\u001b[0madd\u001b[0m\u001b[0;34m(\u001b[0m\u001b[0;34m'v'\u001b[0m\u001b[0;34m)\u001b[0m\u001b[0;34m\u001b[0m\u001b[0;34m\u001b[0m\u001b[0m\n\u001b[0m",
      "\u001b[0;31mAttributeError\u001b[0m: 'frozenset' object has no attribute 'add'"
     ]
    }
   ],
   "source": [
    "python = ('P', 'Y', 'T', 'H', 'O' , 'N')\n",
    "\n",
    "fSet = frozenset(python)\n",
    "print('Frozen Set : ', fSet)\n",
    "\n",
    "# frozenset immutable jadi akan muncul error ketika kita melakukan perubahan pada frozenset.\n",
    "fSet.add('v')"
   ]
  },
  {
   "cell_type": "code",
   "execution_count": null,
   "metadata": {},
   "outputs": [],
   "source": [
    "# Karena set tidak terurut, jadi walaupun dalam set kita menuliskannya dengan urutan 'P','Y','T','H','O','N',\n",
    "# Pada output, yang muncul menjadi 'P', 'Y', 'O', 'H', 'T', 'N'"
   ]
  },
  {
   "cell_type": "markdown",
   "metadata": {},
   "source": [
    "### Dictionary\n",
    "\n",
    "Dictionary digunakan untuk menyimpan nilai data dalam pasangan key dan value.\n",
    "\n",
    "Dictionary adalah kumpulan data yang terurut, dapat diubah, dan tidak memungkinkan duplikat.\n",
    "\n",
    "Pada Python versi 3.7, dictionary terurut. Di Python 3.6 dan sebelumnya, dictionary tidak berurutan.\n",
    "\n",
    "Dictionary ditulis dalam kurung kurawal, dan memiliki kunci dan nilai:"
   ]
  },
  {
   "cell_type": "code",
   "execution_count": 33,
   "metadata": {},
   "outputs": [
    {
     "name": "stdout",
     "output_type": "stream",
     "text": [
      "Nama : Rafli\n",
      "Usia : 19\n",
      "Alamat : None\n"
     ]
    }
   ],
   "source": [
    "Biodata = {'nama': 'Rafli', 'usia': 19}\n",
    "\n",
    "print('Nama :',Biodata['nama'])\n",
    "print(\"Usia :\",Biodata.get('usia'))\n",
    "print(\"Alamat :\",Biodata.get('alamat'))"
   ]
  },
  {
   "cell_type": "code",
   "execution_count": null,
   "metadata": {},
   "outputs": [],
   "source": [
    "# output alamat menghasilkan \"None\", karena pada dictionary diatas tidak ada key dan value dari \"alamat\"."
   ]
  },
  {
   "cell_type": "markdown",
   "metadata": {},
   "source": [
    "### Range"
   ]
  },
  {
   "cell_type": "code",
   "execution_count": 13,
   "metadata": {},
   "outputs": [
    {
     "name": "stdout",
     "output_type": "stream",
     "text": [
      "[2, 0, -2, -4, -6, -8, -10, -12]\n",
      "<class 'type'>\n"
     ]
    }
   ],
   "source": [
    "start = 2\n",
    "stop = -14\n",
    "step = -2\n",
    "print(list(range(start, stop, step)))\n",
    "print(type(range))"
   ]
  },
  {
   "cell_type": "markdown",
   "metadata": {},
   "source": [
    "### Integer"
   ]
  },
  {
   "cell_type": "code",
   "execution_count": 5,
   "metadata": {},
   "outputs": [
    {
     "name": "stdout",
     "output_type": "stream",
     "text": [
      "masukkan panjang : 2\n",
      "masukkan lebar : 5\n",
      "luas persegi panjang:  10 cm\n"
     ]
    }
   ],
   "source": [
    "# Menghitung luas persegi panjang\n",
    "panjang = int(input(\"masukkan panjang : \"))\n",
    "lebar = int(input(\"masukkan lebar : \"))\n",
    "luas = panjang * lebar\n",
    "print(\"luas persegi panjang: \" ,luas, \"cm\")"
   ]
  },
  {
   "cell_type": "markdown",
   "metadata": {},
   "source": [
    "### Complex"
   ]
  },
  {
   "cell_type": "code",
   "execution_count": 12,
   "metadata": {},
   "outputs": [
    {
     "ename": "SyntaxError",
     "evalue": "invalid syntax (2686673439.py, line 8)",
     "output_type": "error",
     "traceback": [
      "\u001b[0;36m  File \u001b[0;32m\"/var/folders/vq/5zyclt6n1mn8qjx5k2gd86580000gn/T/ipykernel_7584/2686673439.py\"\u001b[0;36m, line \u001b[0;32m8\u001b[0m\n\u001b[0;31m    print(a '+' b '=' c)\u001b[0m\n\u001b[0m            ^\u001b[0m\n\u001b[0;31mSyntaxError\u001b[0m\u001b[0;31m:\u001b[0m invalid syntax\n"
     ]
    }
   ],
   "source": [
    "x = complex(1j)\n",
    "print(x)\n",
    "print(type(x)) \n",
    "print()\n",
    "a = 2j\n",
    "b = 6j\n",
    "c = a + b\n",
    "print(a '+' b '=' c)"
   ]
  },
  {
   "cell_type": "code",
   "execution_count": null,
   "metadata": {},
   "outputs": [],
   "source": [
    "# Untuk print statement dan variabel harus dipisahkan oleh tanda koma \",\"\n",
    "# Karena itulah program diatas terdapat error.\n",
    "# penulisan yang benar seharusnya :"
   ]
  },
  {
   "cell_type": "code",
   "execution_count": 63,
   "metadata": {},
   "outputs": [
    {
     "name": "stdout",
     "output_type": "stream",
     "text": [
      "2j + 6j = 8j\n"
     ]
    }
   ],
   "source": [
    "a = 2j\n",
    "b = 6j\n",
    "c = a + b\n",
    "print(a, '+',b, '=',c)"
   ]
  },
  {
   "cell_type": "markdown",
   "metadata": {},
   "source": [
    "### Float"
   ]
  },
  {
   "cell_type": "code",
   "execution_count": 13,
   "metadata": {},
   "outputs": [
    {
     "name": "stdout",
     "output_type": "stream",
     "text": [
      "masukkan alas segitiga :12\n",
      "masukkan tinggi segitiga: 5\n",
      "30.0\n"
     ]
    }
   ],
   "source": [
    "# luas segitiga\n",
    "alas = int(input(\"masukkan alas segitiga :\"))\n",
    "tinggi = int(input(\"masukkan tinggi segitiga: \"))\n",
    "luas = alas * tinggi * 0.5\n",
    "print(float(luas))"
   ]
  },
  {
   "cell_type": "code",
   "execution_count": 26,
   "metadata": {
    "scrolled": true
   },
   "outputs": [
    {
     "name": "stdout",
     "output_type": "stream",
     "text": [
      "Tipe data variabel jari-jari adalah <class 'int'>\n",
      "28.29\n"
     ]
    }
   ],
   "source": [
    "# luas lingkaran\n",
    "jari_jari = 3\n",
    "print(\"Tipe data variabel jari-jari adalah\",type(jari_jari))\n",
    "phi = 22/7\n",
    "luas_lingkaran = phi * jari_jari ** 2\n",
    "print('%.4g'% luas_lingkaran)"
   ]
  },
  {
   "cell_type": "markdown",
   "metadata": {},
   "source": [
    "### Boolean"
   ]
  },
  {
   "cell_type": "code",
   "execution_count": 29,
   "metadata": {
    "scrolled": true
   },
   "outputs": [
    {
     "name": "stdout",
     "output_type": "stream",
     "text": [
      "False\n",
      "True\n",
      "True\n"
     ]
    }
   ],
   "source": [
    "print(20>90)\n",
    "print(10==10)\n",
    "print(90<200)"
   ]
  },
  {
   "cell_type": "markdown",
   "metadata": {},
   "source": [
    "### Byte dan bytearray\n",
    "bytes() dapat mengubah objek menjadi objek byte, atau membuat objek byte kosong dengan ukuran yang ditentukan.\n",
    "bytearray() yaitu metode mengembalikan objek bytearray yang merupakan array dari byte yang diberikan. Ini memberikan urutan bilangan bulat yang bisa berubah dalam kisaran 0 <= x < 256.\n",
    "\n",
    "Perbedaan antara byte() dan bytearray() adalah bahwa byte() mengembalikan objek yang tidak dapat dimodifikasi, dan bytearray() mengembalikan objek yang dapat dimodifikasi. Dalam Python, objek string adalah serangkaian karakter yang membuat kata/kalimat. Dengan cara yang sama, objek byte adalah urutan bit/byte yang mewakili data. String dapat dibaca manusia sedangkan byte dapat dibaca oleh komputer. Data diubah menjadi bentuk byte sebelum disimpan di komputer."
   ]
  },
  {
   "cell_type": "code",
   "execution_count": 28,
   "metadata": {},
   "outputs": [
    {
     "name": "stdout",
     "output_type": "stream",
     "text": [
      "Konversi Byte tanpa sebuah argumen : b''\n",
      "b'\\x00\\x00\\x00\\x00'\n",
      "b'\\x01\\x02\\x03\\x04\\x05'\n",
      "bytearray(b'\\x05\\t\\x04\\x03')\n",
      "Jumlah Byte: 4\n"
     ]
    }
   ],
   "source": [
    "a = 4\n",
    "list1 = [1, 2, 3, 4, 5]\n",
    "print (\"Konversi Byte tanpa sebuah argumen : \" + str(bytes()))\n",
    "# Konversi ke byte\n",
    "print (str(bytes(a)))\n",
    "print (str(bytes(list1)))\n",
    "# ⏤⏤⏤⏤⏤⏤⏤⏤⏤⏤⏤⏤⏤⏤⏤⏤⏤⏤⏤⏤⏤⏤⏤⏤⏤⏤⏤⏤⏤⏤⏤⏤⏤ #\n",
    "list2 = [5, 9, 4, 3]\n",
    "array = bytearray(list2)\n",
    "\n",
    "print(array)\n",
    "print(\"Jumlah Byte:\", len(array))"
   ]
  },
  {
   "cell_type": "markdown",
   "metadata": {},
   "source": [
    "### Memory View\n",
    "Memory View objek memungkinkan kode python untuk mengakses data internal suatu objek yang mendukung \n",
    "protokol buffer tanpa menyalinnya.\n",
    "\n",
    "Fungsi memoryview memungkinkan pembacaan langsung dan akses tulis ke data berorientasi byte objek\n",
    "tanpa perlu menyalinnya terlebih dahulu yang mana bisa menghasilkan keuntungan kinerja yang besar saat \n",
    "beroperasi pada skala besar objek karena tidak membuat salinan saat Autople slicing"
   ]
  },
  {
   "cell_type": "code",
   "execution_count": 26,
   "metadata": {},
   "outputs": [
    {
     "name": "stdout",
     "output_type": "stream",
     "text": [
      "Nilai ASCII dari huruf A :  65\n",
      "b'AB'\n"
     ]
    }
   ],
   "source": [
    "random_byte_array = bytearray('ABC', 'utf-8')\n",
    "\n",
    "mv = memoryview(random_byte_array)\n",
    "\n",
    "# Menghasilkan nilai ASCII dari huruf 'A'\n",
    "print('Nilai ASCII dari huruf A : ',mv[0])\n",
    "\n",
    "# Mengonversi byte dari memory view\n",
    "print(bytes(mv[0:2]))"
   ]
  },
  {
   "cell_type": "markdown",
   "metadata": {},
   "source": [
    "### Konversi Tipe Data"
   ]
  },
  {
   "cell_type": "code",
   "execution_count": 16,
   "metadata": {},
   "outputs": [
    {
     "name": "stdout",
     "output_type": "stream",
     "text": [
      "Angka 10 merupakan tipe data :  <class 'int'>\n",
      "Tipe data variabel x setelah dikonversi menjadi <class 'str'>\n",
      "\n",
      "12 dalam bentuk heksadesimal yaitu : 0xc <class 'int'>\n"
     ]
    }
   ],
   "source": [
    "x = 10\n",
    "print(f\"Angka {x} merupakan tipe data : \",type(x))\n",
    "# Lakukan casting menjadi tipe data string pada variabel x\n",
    "y = str(x)\n",
    "print('Tipe data variabel x setelah dikonversi menjadi', type(y))\n",
    "print()\n",
    "# Mengkonversi tipe data integer, 12 (desimal) ke dalam bentuk bilangan heksadesimal.\n",
    "data = 12\n",
    "print(\"12 dalam bentuk heksadesimal yaitu :\",hex(data),type(data))\n"
   ]
  },
  {
   "cell_type": "markdown",
   "metadata": {},
   "source": [
    "## Manipulasi String \n",
    "### Tanggal 31 Maret 2022"
   ]
  },
  {
   "cell_type": "markdown",
   "metadata": {},
   "source": [
    "### Penggabungan string dan mengganti kata spesifik"
   ]
  },
  {
   "cell_type": "code",
   "execution_count": 16,
   "metadata": {},
   "outputs": [
    {
     "name": "stdout",
     "output_type": "stream",
     "text": [
      "Rafli Dewanto\n",
      "<class 'str'> 13\n"
     ]
    }
   ],
   "source": [
    "kata1 = \"Rafli\"\n",
    "kata2 = \"Dewanto\"\n",
    "kata_gabung = kata1 + \" \" + kata2\n",
    "print(kata_gabung)\n",
    "print(type(kata_gabung), len(kata_gabung))"
   ]
  },
  {
   "cell_type": "code",
   "execution_count": 17,
   "metadata": {},
   "outputs": [
    {
     "name": "stdout",
     "output_type": "stream",
     "text": [
      "Rafli Satya\n"
     ]
    }
   ],
   "source": [
    "# replace kata pada string\n",
    "kata_gabung2 = kata_gabung.replace(\"Dewanto\", \"Satya\")\n",
    "print(kata_gabung2)"
   ]
  },
  {
   "cell_type": "code",
   "execution_count": 18,
   "metadata": {},
   "outputs": [
    {
     "name": "stdout",
     "output_type": "stream",
     "text": [
      "3\n"
     ]
    }
   ],
   "source": [
    "# Menghitung jumlah huruf pada string\n",
    "print(kata_gabung2.count(\"a\"))"
   ]
  },
  {
   "cell_type": "markdown",
   "metadata": {},
   "source": [
    "### Mengulang kata"
   ]
  },
  {
   "cell_type": "code",
   "execution_count": 15,
   "metadata": {
    "scrolled": true
   },
   "outputs": [
    {
     "name": "stdout",
     "output_type": "stream",
     "text": [
      "<class 'str'> pythonpythonpython\n"
     ]
    }
   ],
   "source": [
    "# mengulang kata\n",
    "py = \"python\"\n",
    "print(type(py),py * 3) # mengulang kata sebanya nilai n"
   ]
  },
  {
   "cell_type": "markdown",
   "metadata": {},
   "source": [
    "### Memisahkan string per-kata"
   ]
  },
  {
   "cell_type": "code",
   "execution_count": 14,
   "metadata": {},
   "outputs": [
    {
     "name": "stdout",
     "output_type": "stream",
     "text": [
      "Saya sedang belajar manipulasi string\n",
      "['Saya', 'sedang', 'belajar', 'manipulasi', 'string']\n",
      "<class 'list'> \n",
      "\n",
      "indeks :0, value: Saya\n",
      "indeks :1, value: sedang\n",
      "indeks :2, value: belajar\n",
      "indeks :3, value: manipulasi\n",
      "indeks :4, value: string\n"
     ]
    }
   ],
   "source": [
    "kalimat = \"Saya sedang belajar manipulasi string\"\n",
    "print(kalimat)\n",
    "# Mengubah sebuah string menjadi list dengan built-in function split()\n",
    "kalimat_pisah = kalimat.split()\n",
    "print(kalimat_pisah)\n",
    "print(type(kalimat_pisah),'\\n')\n",
    "\n",
    "# gunakan enummerate untuk iterate indeks dan value pada iterable\n",
    "for i,kata in enumerate (kalimat_pisah):\n",
    "    print(f\"indeks :{i}, value: {kata}\")"
   ]
  },
  {
   "cell_type": "markdown",
   "metadata": {},
   "source": [
    "### Menghapus karakter "
   ]
  },
  {
   "cell_type": "code",
   "execution_count": 16,
   "metadata": {},
   "outputs": [],
   "source": [
    "kalimat = \"90*&^$7Bahasa Pemrograman Python&*%^$^&\""
   ]
  },
  {
   "cell_type": "code",
   "execution_count": 17,
   "metadata": {},
   "outputs": [
    {
     "name": "stdout",
     "output_type": "stream",
     "text": [
      "90*&^$7Bahasa Pemrograman Python&*%^$^&\n",
      "Bahasa Pemrograman Python\n"
     ]
    }
   ],
   "source": [
    "# strip()digunakan untuk menghapus semua karakter awal dan akhir yang ada dalam argumen.\n",
    "clean_kalimat = kalimat.strip(\"90*&^$7&*%^$^&\")\n",
    "print(kalimat)\n",
    "print(clean_kalimat)"
   ]
  },
  {
   "cell_type": "code",
   "execution_count": 13,
   "metadata": {},
   "outputs": [
    {
     "name": "stdout",
     "output_type": "stream",
     "text": [
      "Kata Pemrograman terdapat mulai dari indeks ke-7\n"
     ]
    }
   ],
   "source": [
    "# mencari kata yang spesifik menggunakan method find() dan ketikkan kata yang dicari pada argumen\n",
    "cari = clean_kalimat.find(\"Pemrograman\")\n",
    "print(f\"Kata Pemrograman terdapat mulai dari indeks ke-{cari}\")"
   ]
  },
  {
   "cell_type": "markdown",
   "metadata": {},
   "source": [
    "### Metode Upper, lower, title, dan swapcase"
   ]
  },
  {
   "cell_type": "code",
   "execution_count": 18,
   "metadata": {},
   "outputs": [],
   "source": [
    "kata = \"PytHoN jjhuh\""
   ]
  },
  {
   "cell_type": "code",
   "execution_count": 2,
   "metadata": {},
   "outputs": [
    {
     "name": "stdout",
     "output_type": "stream",
     "text": [
      "python\n"
     ]
    }
   ],
   "source": [
    "# lower() mengubah string menjadi lowercase.\n",
    "kata_lower = kata.lower()\n",
    "print(kata_lower)"
   ]
  },
  {
   "cell_type": "code",
   "execution_count": 3,
   "metadata": {},
   "outputs": [
    {
     "name": "stdout",
     "output_type": "stream",
     "text": [
      "PYTHON\n"
     ]
    }
   ],
   "source": [
    "# upper() mengubah string mennjadi uppercase.\n",
    "kata_upper = kata.upper()\n",
    "print(kata_upper)"
   ]
  },
  {
   "cell_type": "code",
   "execution_count": 20,
   "metadata": {},
   "outputs": [
    {
     "name": "stdout",
     "output_type": "stream",
     "text": [
      "Python Jjhuh\n"
     ]
    }
   ],
   "source": [
    "# title() mengubah string menjadi judul yang mana hanya huruf depan saja yang uppercase.\n",
    "kata_judul = kata.title()\n",
    "print(kata_judul)"
   ]
  },
  {
   "cell_type": "code",
   "execution_count": 19,
   "metadata": {},
   "outputs": [
    {
     "name": "stdout",
     "output_type": "stream",
     "text": [
      "Python jjhuh\n"
     ]
    }
   ],
   "source": [
    "# Capitalize memiliki fungsi yang sama dengan title yaitu hanya mengubah huruf depan saja menjadi uppercase\n",
    "kata_kapital = kata.capitalize()\n",
    "print(kata_kapital)"
   ]
  },
  {
   "cell_type": "code",
   "execution_count": 6,
   "metadata": {},
   "outputs": [
    {
     "name": "stdout",
     "output_type": "stream",
     "text": [
      "pYThOn\n"
     ]
    }
   ],
   "source": [
    "# swapcase mengubah huruf yang uppercase menjadi lowercase dan sebaliknya.\n",
    "kata_swap = kata.swapcase()\n",
    "print(kata_swap)"
   ]
  },
  {
   "cell_type": "code",
   "execution_count": 7,
   "metadata": {},
   "outputs": [
    {
     "name": "stdout",
     "output_type": "stream",
     "text": [
      "True\n",
      "False\n"
     ]
    }
   ],
   "source": [
    "# Kita bisa cek apakah sebuah string merupakan mengandung upper/lower case dengan function isupper()/islower()\n",
    "print(kata_upper.isupper())\n",
    "print(kata_upper.islower())"
   ]
  },
  {
   "cell_type": "markdown",
   "metadata": {},
   "source": [
    "### Slicing"
   ]
  },
  {
   "cell_type": "code",
   "execution_count": 1,
   "metadata": {},
   "outputs": [
    {
     "name": "stdout",
     "output_type": "stream",
     "text": [
      "Jupyt\n",
      "Jup\n",
      "uy\n",
      "koe\n",
      "koobetoN retypuJ\n"
     ]
    }
   ],
   "source": [
    "String = 'Jupyter Notebook'\n",
    "print(String[0:5]) # output akan menghasilkan string dari indeks 0 sampai 4\n",
    "print(String[:3])\n",
    "print(String[1:5:2])\n",
    "print(String[-1:-7:-2])\n",
    "# reverse string dengan slicing\n",
    "print(String[::-1])"
   ]
  },
  {
   "cell_type": "markdown",
   "metadata": {},
   "source": [
    "### Find() & Index() function"
   ]
  },
  {
   "cell_type": "code",
   "execution_count": 2,
   "metadata": {},
   "outputs": [
    {
     "name": "stdout",
     "output_type": "stream",
     "text": [
      "Huruf H terdapat pada indeks ke 0\n",
      "Kata \"World\" ada mulai pada indeks ke 6\n"
     ]
    }
   ],
   "source": [
    "kalimat = \"Hello World\"\n",
    "print(\"Huruf H terdapat pada indeks ke\",kalimat.find(\"H\")) # Mencari huruf tertentu ada pada indeks keberapa\n",
    "print(\"Kata \\\"World\\\" ada mulai pada indeks ke\", kalimat.index(\"World\")) # mencari kata \"World\" mulai pada indeks keberapa dalam string"
   ]
  },
  {
   "cell_type": "markdown",
   "metadata": {},
   "source": [
    "### Mengecek apakah suatu string dimulai/diakhiri dengan huruf tertentu"
   ]
  },
  {
   "cell_type": "code",
   "execution_count": 7,
   "metadata": {},
   "outputs": [
    {
     "name": "stdout",
     "output_type": "stream",
     "text": [
      "True\n",
      "False\n",
      "True\n",
      "False\n"
     ]
    }
   ],
   "source": [
    "Kata = \"Rafli Dewanto\"\n",
    "\n",
    "print(Kata.startswith(\"R\"))\n",
    "print(Kata.startswith(\"A\"))\n",
    "print(Kata.endswith(\"o\"))\n",
    "print(Kata.endswith(\"w\"))\n"
   ]
  },
  {
   "cell_type": "markdown",
   "metadata": {},
   "source": [
    "### Join"
   ]
  },
  {
   "cell_type": "code",
   "execution_count": 12,
   "metadata": {},
   "outputs": [
    {
     "name": "stdout",
     "output_type": "stream",
     "text": [
      "H,a,l,o, ,D,u,n,i,a\n"
     ]
    }
   ],
   "source": [
    "kata = \"Halo Dunia\"\n",
    "print(\",\".join(kata)) # menambahkan \",\" di antarab setiap char"
   ]
  },
  {
   "cell_type": "markdown",
   "metadata": {},
   "source": [
    "### Reversing"
   ]
  },
  {
   "cell_type": "code",
   "execution_count": 20,
   "metadata": {},
   "outputs": [
    {
     "name": "stdout",
     "output_type": "stream",
     "text": [
      "ainuD olaH\n",
      "ainuD olaH\n"
     ]
    }
   ],
   "source": [
    "string = \"Halo Dunia\"\n",
    "print(\"\".join(reversed(string)))\n",
    "\n",
    "print(string[::-1]) # atau bisa juga dengan index slicing"
   ]
  },
  {
   "cell_type": "markdown",
   "metadata": {},
   "source": [
    "# Percabangan"
   ]
  },
  {
   "cell_type": "markdown",
   "metadata": {},
   "source": [
    "Python mendukung kondisi logis matematika seperti:\n",
    "\n",
    "Sama dengan: a == b  \n",
    "Tidak Sama dengan: a != b  \n",
    "Kurang dari: a < b  \n",
    "Kurang dari atau sama dengan: a <= b  \n",
    "Lebih besar dari: a > b  \n",
    "Lebih besar dari atau sama dengan: a >= b  \n",
    "Kondisi ini dapat digunakan dalam beberapa cara, paling umum dalam \"pernyataan if\" dan loop.\n",
    "  \n",
    "Sebuah \"pernyataan if\" ditulis dengan menggunakan kata kunci if."
   ]
  },
  {
   "cell_type": "code",
   "execution_count": 1,
   "metadata": {},
   "outputs": [
    {
     "name": "stdout",
     "output_type": "stream",
     "text": [
      "b lebih besar dari a\n"
     ]
    }
   ],
   "source": [
    "a = 24\n",
    "b = 213\n",
    "if b > a:\n",
    "    print(\"b lebih besar dari a\")"
   ]
  },
  {
   "cell_type": "markdown",
   "metadata": {},
   "source": [
    "Kata kunci elif adalah cara python untuk mengatakan \"jika kondisi sebelumnya tidak benar, maka coba kondisi ini\".  \n",
    "Contoh:"
   ]
  },
  {
   "cell_type": "code",
   "execution_count": 2,
   "metadata": {},
   "outputs": [
    {
     "name": "stdout",
     "output_type": "stream",
     "text": [
      "a dan b sama besar\n"
     ]
    }
   ],
   "source": [
    "a = 33\n",
    "b = 33\n",
    "if b > a:\n",
    "    print(\"b lebih besar dari  a\")\n",
    "elif a == b:\n",
    "    print(\"a dan b sama besar\")"
   ]
  },
  {
   "cell_type": "markdown",
   "metadata": {},
   "source": [
    "Kata kunci else menangkap apa pun yang tidak ditangkap oleh kondisi sebelumnya."
   ]
  },
  {
   "cell_type": "code",
   "execution_count": 4,
   "metadata": {},
   "outputs": [
    {
     "name": "stdout",
     "output_type": "stream",
     "text": [
      "a lebih besar dari b\n"
     ]
    }
   ],
   "source": [
    "a = 200\n",
    "b = 33\n",
    "if b > a :\n",
    "    print(\"b lebih besar dari a\")\n",
    "elif a == b:\n",
    "    print(\"a dan b sama\")\n",
    "else:\n",
    "    print(\"a lebih besar dari b\")"
   ]
  },
  {
   "cell_type": "markdown",
   "metadata": {},
   "source": [
    "## Short Hand If  \n",
    "Jika Anda hanya memiliki satu pernyataan untuk dieksekusi, Anda dapat meletakkannya di baris yang sama dengan pernyataan if."
   ]
  },
  {
   "cell_type": "code",
   "execution_count": 5,
   "metadata": {},
   "outputs": [
    {
     "name": "stdout",
     "output_type": "stream",
     "text": [
      "a lebih besar dari b\n"
     ]
    }
   ],
   "source": [
    "if a > b: print(\"a lebih besar dari b\")"
   ]
  },
  {
   "cell_type": "markdown",
   "metadata": {},
   "source": [
    "Atau bisa juga digabung dengan  statement if-else seperti contoh di bawah:"
   ]
  },
  {
   "cell_type": "code",
   "execution_count": 7,
   "metadata": {},
   "outputs": [
    {
     "name": "stdout",
     "output_type": "stream",
     "text": [
      "a\n"
     ]
    }
   ],
   "source": [
    "a = 24\n",
    "b = 23\n",
    "print(\"a\") if a > b else print(\"b\")"
   ]
  },
  {
   "cell_type": "markdown",
   "metadata": {},
   "source": [
    "Contoh short hand if dengan 3 kondisi"
   ]
  },
  {
   "cell_type": "code",
   "execution_count": 8,
   "metadata": {},
   "outputs": [
    {
     "name": "stdout",
     "output_type": "stream",
     "text": [
      "=\n"
     ]
    }
   ],
   "source": [
    "a = 20\n",
    "b = 20\n",
    "print(\"a\") if a > b else print(\"=\") if a == b else print(\"b\")"
   ]
  },
  {
   "cell_type": "markdown",
   "metadata": {},
   "source": [
    "### AND \n",
    "Kata kunci \"and\" adalah operator logika, dan digunakan untuk menggabungkan pernyataan bersyarat:"
   ]
  },
  {
   "cell_type": "code",
   "execution_count": 10,
   "metadata": {},
   "outputs": [
    {
     "name": "stdout",
     "output_type": "stream",
     "text": [
      "Nilai Anda C\n"
     ]
    }
   ],
   "source": [
    "s = 58\n",
    "if s < 60 and s > 50:\n",
    "    print(\"Nilai Anda C\")"
   ]
  },
  {
   "cell_type": "markdown",
   "metadata": {},
   "source": [
    "### OR\n",
    "Kata kunci or adalah operator logika, dan digunakan untuk menggabungkan pernyataan kondisional:"
   ]
  },
  {
   "cell_type": "code",
   "execution_count": 15,
   "metadata": {},
   "outputs": [
    {
     "name": "stdout",
     "output_type": "stream",
     "text": [
      "Statement ini akan ter-print jika setidaknya salah satu syaratnya Benar\n"
     ]
    }
   ],
   "source": [
    "a = 200\n",
    "b = 33\n",
    "c = 500\n",
    "if a > b or a > c :\n",
    "    print(\"Statement ini akan ter-print jika setidaknya salah satu syaratnya Benar\")\n",
    "else:\n",
    "    pass"
   ]
  },
  {
   "cell_type": "markdown",
   "metadata": {},
   "source": [
    "### NESTED IF\n",
    "Kita dapat memiliki pernyataan if di dalam pernyataan if, ini disebut pernyataan nested if(if bersarang)."
   ]
  },
  {
   "cell_type": "code",
   "execution_count": 19,
   "metadata": {},
   "outputs": [
    {
     "name": "stdout",
     "output_type": "stream",
     "text": [
      "Lebih dari 10,\n",
      "tetapi tidak lebih dari 20.\n"
     ]
    }
   ],
   "source": [
    "x = 12\n",
    "\n",
    "if x > 10:\n",
    "    print(\"Lebih dari 10,\")\n",
    "    if x > 20:\n",
    "        print(\"dan juga lebih dari 20!\")\n",
    "    else:\n",
    "        print(\"tetapi tidak lebih dari 20.\")"
   ]
  },
  {
   "cell_type": "markdown",
   "metadata": {},
   "source": [
    "### NOT\n",
    "Ini akan membalik hasil asli dari kondisi tersebut. misalnya jika itu benar maka sekarang salah"
   ]
  },
  {
   "cell_type": "code",
   "execution_count": 2,
   "metadata": {},
   "outputs": [],
   "source": [
    "if not 3 > 1:print(\"something\") # program tidak akan mencetak apapun karena nilai bernilai false."
   ]
  },
  {
   "cell_type": "markdown",
   "metadata": {},
   "source": [
    "### PASS\n",
    "if statemant tidak boleh kosong, tetapi jika Anda karena alasan tertentu memiliki pernyataan if tanpa isi, masukkan pernyataan pass untuk menghindari error."
   ]
  },
  {
   "cell_type": "code",
   "execution_count": 24,
   "metadata": {},
   "outputs": [],
   "source": [
    "a = 1\n",
    "b = 2\n",
    "\n",
    "if b > a: # Tidak akan mencetak apapun.\n",
    "  pass"
   ]
  },
  {
   "cell_type": "markdown",
   "metadata": {},
   "source": [
    "### Mengecek apakah angka inputan user merupakan angka ganjil/genap"
   ]
  },
  {
   "cell_type": "code",
   "execution_count": 3,
   "metadata": {},
   "outputs": [
    {
     "name": "stdout",
     "output_type": "stream",
     "text": [
      "Masukkan angka : 23\n",
      "23 merupakan angka ganjil\n"
     ]
    }
   ],
   "source": [
    "angka = int(input(\"Masukkan angka :\"))\n",
    "\n",
    "if angka % 2 == 0:\n",
    "    print(f\"{angka} merupakan angka genap\")\n",
    "else:\n",
    "    print(f\"{angka} merupakan angka ganjil\")"
   ]
  },
  {
   "cell_type": "markdown",
   "metadata": {},
   "source": [
    "### Menentukan Jenis Segitiga"
   ]
  },
  {
   "cell_type": "code",
   "execution_count": 4,
   "metadata": {},
   "outputs": [
    {
     "name": "stdout",
     "output_type": "stream",
     "text": [
      "Masukkan sisi segitiga : \n",
      "sisi 1:  3\n",
      "sisi 2:  4\n",
      "sisi 3:  5\n",
      "Segitiga siku-siku\n"
     ]
    }
   ],
   "source": [
    "print(\"Masukkan sisi segitiga : \")\n",
    "x = int(input(\"sisi 1: \"))\n",
    "y = int(input(\"sisi 2: \"))\n",
    "z = int(input(\"sisi 3: \"))\n",
    "\n",
    "if x == y == z:\n",
    "\tprint(\"Segitiga sama sisi\")\n",
    "elif x==y or y==z or z==x:\n",
    "\tprint(\"Segitiga sama kaki\")\n",
    "else:\n",
    "\tprint(\"Segitiga siku-siku\")\n"
   ]
  },
  {
   "cell_type": "markdown",
   "metadata": {},
   "source": [
    "### Wahana"
   ]
  },
  {
   "cell_type": "code",
   "execution_count": 5,
   "metadata": {},
   "outputs": [
    {
     "name": "stdout",
     "output_type": "stream",
     "text": [
      "Berapa tinggi Anda? (cm) 180\n",
      "Anda bisa menaiki wahana!\n",
      "Berapa usia Anda? 19\n",
      "Anda harus membayar Rp70,000\n"
     ]
    }
   ],
   "source": [
    "tinggi = int(input(\"Berapa tinggi Anda? (cm)\"))\n",
    "if tinggi >= 120:\n",
    "    print(\"Anda bisa menaiki wahana!\")\n",
    "    usia = int(input(\"Berapa usia Anda?\"))\n",
    "    if usia < 12:\n",
    "        print(\"Anda harus membayar Rp50,000\")\n",
    "    elif usia <= 18:\n",
    "        print(\"Anda harus membayar Rp60,000\")\n",
    "    else:\n",
    "        print(\"Anda harus membayar Rp70,000\")\n",
    "else:\n",
    "    print(\"Anda tidak bisa menaiki wahana.\")"
   ]
  },
  {
   "cell_type": "markdown",
   "metadata": {},
   "source": [
    "### Mencari nilai terbesar"
   ]
  },
  {
   "cell_type": "code",
   "execution_count": 6,
   "metadata": {},
   "outputs": [
    {
     "name": "stdout",
     "output_type": "stream",
     "text": [
      "Masukkan angka pertama :  432\n",
      "Masukkan angka kedua :  535\n",
      "Masukkan angka ketiga :  23\n",
      "535 adalah nilai terbesar!\n"
     ]
    }
   ],
   "source": [
    "a = int(input(\"Masukkan angka pertama : \"))  \n",
    "b = int(input(\"Masukkan angka kedua : \"))  \n",
    "c = int(input(\"Masukkan angka ketiga : \"))  \n",
    "\n",
    "if((a>b and a>c) and (a != b and a != c)):\n",
    "    print(a, \"adalah nilai terbesar!\")\n",
    "elif((b>a and b>c) and (b != a and b != c)):\n",
    "    print(b, \"adalah nilai terbesar!\")\n",
    "elif((c>a and c>b) and (c != a and c != b)):\n",
    "    print(c, \"adalah nilai terbesar!\")\n",
    "else:\n",
    "    print(\"Semua angka nilainya sama besar.\")"
   ]
  },
  {
   "cell_type": "markdown",
   "metadata": {},
   "source": [
    "### ✊🏻kalkulator Indeks massa tubuh ✊🏻"
   ]
  },
  {
   "cell_type": "code",
   "execution_count": 10,
   "metadata": {},
   "outputs": [
    {
     "name": "stdout",
     "output_type": "stream",
     "text": [
      "Masukkan tinggi badan (m) :  1.79\n",
      "Masukkan berat badan (kg) :  60\n",
      "Indeks massa tubuh Anda  19 , Anda memiliki berat badan normal\n",
      "Lakukan perhitungan kembali? (y/n):  n\n"
     ]
    }
   ],
   "source": [
    "while True:\n",
    "    # Meminta user untuk menginput tinggi dan berat badan.\n",
    "    tinggi = float(input(\"Masukkan tinggi badan (m) : \"))\n",
    "    berat = float(input(\"Masukkan berat badan (kg) : \"))\n",
    "    # rumus indeks massa tubuh = berat ÷ tinggi^2.\n",
    "    imt = berat/(tinggi**2)\n",
    "    # conditional statement untuk menentukan apakah seseorang kekurangan berat badan, normal, sedikit kelebihan berat badan atau obesitas.\n",
    "    if imt <= 18.5:\n",
    "        print(\"Indeks massa tubuh Anda \",round(imt), \", Anda kekurangan berat badan.\") \n",
    "    elif imt <= 25:\n",
    "        print(\"Indeks massa tubuh Anda \",round(imt), \", Anda memiliki berat badan normal\") \n",
    "    elif imt <= 30:\n",
    "        print(\"Indeks massa tubuh Anda \",round(imt), \", Anda sedikit kelebihan berat badan.\") \n",
    "    else:\n",
    "        print(\"Indeks massa tubuh Anda \",round(imt), \", Anda obesitas.\")\n",
    "    if input(\"Lakukan perhitungan kembali? (y/n): \") == 'n':\n",
    "        break"
   ]
  },
  {
   "cell_type": "markdown",
   "metadata": {},
   "source": [
    "### 🗓Program untuk mengecek apakah suatu tahun merupakan tahun kabisat.🗓"
   ]
  },
  {
   "cell_type": "code",
   "execution_count": 11,
   "metadata": {},
   "outputs": [
    {
     "name": "stdout",
     "output_type": "stream",
     "text": [
      "Tahun berapa yang ingin Anda periksa?  2022\n",
      "2022 bukan tahun kabisat.\n"
     ]
    }
   ],
   "source": [
    "tahun = int(input(\"Tahun berapa yang ingin Anda periksa? \"))\n",
    "\n",
    "if tahun % 4 != 0:\n",
    "    print(f\"{tahun} bukan tahun kabisat.\")\n",
    "else:\n",
    "    if tahun % 100 != 0:\n",
    "        print(f\"{tahun} merupakan tahun kabisat.\")\n",
    "    else:\n",
    "        if tahun % 400 != 0:\n",
    "            print(f\"{tahun} bukan tahun kabisat.\")\n",
    "        else:\n",
    "            print(f\"{tahun} merupakan tahun kabisat.\")"
   ]
  },
  {
   "cell_type": "markdown",
   "metadata": {},
   "source": [
    "### 📓Program untuk mengecek nilai yang didapat"
   ]
  },
  {
   "cell_type": "code",
   "execution_count": 12,
   "metadata": {},
   "outputs": [
    {
     "name": "stdout",
     "output_type": "stream",
     "text": [
      "Masukkan nilai Anda :  90\n",
      "Nilai Anda 90, Anda dapat nilai B\n"
     ]
    }
   ],
   "source": [
    "nilai = int(input(\"Masukkan nilai Anda : \"))  \n",
    "if nilai > 90 and nilai <= 100:  \n",
    "   print(f\"Nilai Anda {nilai}, Anda dapat nilai A\")  \n",
    "elif nilai > 80 and nilai <= 90:  \n",
    "   print(f\"Nilai Anda {nilai}, Anda dapat nilai B\")  \n",
    "elif nilai > 70 and nilai <= 80:  \n",
    "   print(f\"Nilai Anda {nilai}, Anda dapat nilai C\")\n",
    "elif nilai > 60 and nilai <= 70:  \n",
    "   print(f\"Nilai Anda {nilai}, Anda dapat nilai D\")  \n",
    "else:  \n",
    "   print(f\"Nilai Anda {nilai}, Anda gagal\")  "
   ]
  },
  {
   "cell_type": "markdown",
   "metadata": {},
   "source": [
    "### 🤨 Mengecek inputan huruf user merupakan huruf vokal/konsonan"
   ]
  },
  {
   "cell_type": "code",
   "execution_count": 13,
   "metadata": {},
   "outputs": [
    {
     "name": "stdout",
     "output_type": "stream",
     "text": [
      "masukkann huruf : \n",
      " f\n",
      "F merupakan konsonan\n"
     ]
    }
   ],
   "source": [
    "alfabet = 'ABCDEFGHIJKLMNOPQRSTUVWXYZ'\n",
    "list_alfabet = [str(i) for i in alfabet]\n",
    "\n",
    "vokal = ['A','I','U','E','O']\n",
    "\n",
    "cek_alfabet = input(\"masukkann huruf : \\n\").upper().strip()\n",
    "\n",
    "if cek_alfabet in vokal:\n",
    "    print(f\"{cek_alfabet} merupakan huruf vokal\")\n",
    "else:\n",
    "    print(f\"{cek_alfabet} merupakan konsonan\")"
   ]
  },
  {
   "cell_type": "code",
   "execution_count": 1,
   "metadata": {},
   "outputs": [
    {
     "name": "stdout",
     "output_type": "stream",
     "text": [
      "Masukkan banyak pembelian: 3\n",
      "Total = Rp.2,970,000.00\n",
      "lakukan kalkulasi kembali? (Y/N)\n",
      "n\n"
     ]
    }
   ],
   "source": [
    "def pembelian():\n",
    "    banyak_pembelian = int(input(\"Masukkan banyak pembelian: \"))\n",
    "    if banyak_pembelian > 0 and banyak_pembelian < 10:\n",
    "        total = banyak_pembelian * 990000\n",
    "        print(f\"Total = Rp.{total:,.2f}\")\n",
    "    \n",
    "    elif banyak_pembelian >= 10 and banyak_pembelian <= 19:\n",
    "        total = banyak_pembelian * 990000 * 0.8\n",
    "        diskon = banyak_pembelian * 990000 * 0.2\n",
    "        print(f\"Diskon = Rp.{diskon:,.2f}\")\n",
    "        print(f\"Total = Rp.{total:,.2f}\")\n",
    "    \n",
    "    elif banyak_pembelian >= 20 and banyak_pembelian <= 49:\n",
    "        total = banyak_pembelian * 990000 * 0.7\n",
    "        diskon = banyak_pembelian * 990000 * 0.3\n",
    "        print(f\"Diskon = Rp.{diskon:,.2f}\")\n",
    "        print(f\"Total = Rp.{total:,.2f}\")\n",
    "    \n",
    "    elif banyak_pembelian >= 50 and banyak_pembelian <= 99:\n",
    "        total = banyak_pembelian * 990000 * 0.6\n",
    "        diskon = banyak_pembelian * 990000 * 0.4\n",
    "        print(f\"Diskon = Rp.{diskon:,.2f}\")\n",
    "        print(f\"Total = Rp.{total:,.2f}\")\n",
    "    \n",
    "    elif banyak_pembelian >= 100:\n",
    "        total = banyak_pembelian * 990000 * 0.5\n",
    "        diskon = banyak_pembelian * 990000 * 0.5\n",
    "        print(f\"Diskon = Rp.{diskon:,.2f}\")\n",
    "        print(f\"Total = Rp.{total:,.2f}\")\n",
    "    \n",
    "    lanjut = input(\"lakukan kalkulasi kembali? (Y/N)\\n\").lower().strip()\n",
    "    \n",
    "    if lanjut == \"y\":\n",
    "        pembelian()\n",
    "    else:\n",
    "        quit()\n",
    "pembelian()"
   ]
  },
  {
   "cell_type": "markdown",
   "metadata": {},
   "source": [
    "# Perulangan\n",
    "Python memiliki dua perintah loop primitif:  \n",
    "❥ while loop  \n",
    "❥ for loop"
   ]
  },
  {
   "cell_type": "markdown",
   "metadata": {},
   "source": [
    "## While Loop  \n",
    "Ini adalah loop yang akan terus berulang sampai kondisi while menjadi false."
   ]
  },
  {
   "cell_type": "code",
   "execution_count": 8,
   "metadata": {},
   "outputs": [
    {
     "name": "stdout",
     "output_type": "stream",
     "text": [
      "1\n",
      "2\n",
      "3\n",
      "4\n",
      "5\n",
      "6\n",
      "7\n",
      "8\n",
      "9\n",
      "10\n"
     ]
    }
   ],
   "source": [
    "n = 0\n",
    "while n < 10: \n",
    "    n += 1\n",
    "    print(n)"
   ]
  },
  {
   "cell_type": "markdown",
   "metadata": {},
   "source": [
    "### break statement  \n",
    "Dengan pernyataan break kita dapat menghentikan perulangan meskipun kondisi while benar:"
   ]
  },
  {
   "cell_type": "code",
   "execution_count": 9,
   "metadata": {},
   "outputs": [
    {
     "name": "stdout",
     "output_type": "stream",
     "text": [
      "1\n",
      "2\n",
      "3\n"
     ]
    }
   ],
   "source": [
    "i = 1\n",
    "while i < 6:\n",
    "    print(i)\n",
    "    if i == 3:\n",
    "        break\n",
    "    i += 1"
   ]
  },
  {
   "cell_type": "markdown",
   "metadata": {},
   "source": [
    "### Continue Statement  \n",
    "Dengan pernyataan continue kita dapat menghentikan iterasi saat ini, dan melanjutkan dengan yang berikutnya:"
   ]
  },
  {
   "cell_type": "code",
   "execution_count": 11,
   "metadata": {},
   "outputs": [
    {
     "name": "stdout",
     "output_type": "stream",
     "text": [
      "1\n",
      "2\n",
      "4\n",
      "5\n",
      "6\n"
     ]
    }
   ],
   "source": [
    "i = 0\n",
    "while i < 6:\n",
    "    i += 1\n",
    "    if i == 3: # akan skip perintah print jika nilai i = 3\n",
    "        continue\n",
    "    print(i)"
   ]
  },
  {
   "cell_type": "markdown",
   "metadata": {},
   "source": [
    "### Else Statement  \n",
    "Dengan pernyataan else kita dapat menjalankan blok kode satu kali ketika kondisinya tidak lagi benar:"
   ]
  },
  {
   "cell_type": "code",
   "execution_count": 14,
   "metadata": {},
   "outputs": [
    {
     "name": "stdout",
     "output_type": "stream",
     "text": [
      "1\n",
      "2\n",
      "3\n",
      "4\n",
      "5\n",
      "nilai i sudah tidak kurang dari 6\n"
     ]
    }
   ],
   "source": [
    "i = 1\n",
    "while i < 6:\n",
    "    print(i)\n",
    "    i += 1\n",
    "else:\n",
    "    print(\"nilai i sudah tidak kurang dari 6\")"
   ]
  },
  {
   "cell_type": "markdown",
   "metadata": {},
   "source": [
    "### Infinite loop"
   ]
  },
  {
   "cell_type": "code",
   "execution_count": null,
   "metadata": {},
   "outputs": [],
   "source": [
    "while 0<1:print(\"infinite loop!\")"
   ]
  },
  {
   "cell_type": "markdown",
   "metadata": {},
   "source": [
    "## For Loop\n",
    "For loop memberi Anda lebih banyak kontrol daripada loop sementara. Kita dapat mengulang apa pun yang dapat diubah. misalnya range, list, dictionary atau tuple."
   ]
  },
  {
   "cell_type": "code",
   "execution_count": 16,
   "metadata": {},
   "outputs": [
    {
     "name": "stdout",
     "output_type": "stream",
     "text": [
      "apel\n",
      "pisang\n",
      "jeruk\n"
     ]
    }
   ],
   "source": [
    "daftar_buah = [\"apel\",\"pisang\", \"jeruk\"]\n",
    "for buah in daftar_buah: print(buah)"
   ]
  },
  {
   "cell_type": "code",
   "execution_count": 18,
   "metadata": {},
   "outputs": [
    {
     "name": "stdout",
     "output_type": "stream",
     "text": [
      "p\n",
      "y\n",
      "t\n",
      "h\n",
      "o\n",
      "n\n"
     ]
    }
   ],
   "source": [
    "for x in \"python\": print(x) # Looping Melalui String"
   ]
  },
  {
   "cell_type": "markdown",
   "metadata": {},
   "source": [
    "### kata kunci break    \n",
    "Dengan pernyataan break, kita dapat menghentikan loop sebelum loop melewati semua item:"
   ]
  },
  {
   "cell_type": "code",
   "execution_count": 28,
   "metadata": {},
   "outputs": [
    {
     "name": "stdout",
     "output_type": "stream",
     "text": [
      "78\n",
      "80\n",
      "Invalid\n"
     ]
    }
   ],
   "source": [
    "scores = [78, 80, 111]\n",
    "for s in scores: \n",
    "    if s > 100: \n",
    "        print(\"Invalid\")\n",
    "        break # memberhentikan loop jika nilai s lebih dari 100\n",
    "    print(s)"
   ]
  },
  {
   "cell_type": "markdown",
   "metadata": {},
   "source": [
    "### Continue   \n",
    "Kata kunci ini memungkinkan kita untuk melewati iterasi perulangan ini dan pergi ke perulangan berikutnya. Loop akan tetap berlanjut, tetap akan dimulai dari atas"
   ]
  },
  {
   "cell_type": "code",
   "execution_count": 35,
   "metadata": {},
   "outputs": [
    {
     "name": "stdout",
     "output_type": "stream",
     "text": [
      "1\n",
      "3\n",
      "5\n",
      "7\n",
      "9\n"
     ]
    }
   ],
   "source": [
    "n = 0\n",
    "while n < 10:\n",
    "    n +=1\n",
    "    if n % 2 == 0:\n",
    "        continue\n",
    "    print(n)# mencetak angka ganjil dari 1 sampai 10"
   ]
  },
  {
   "cell_type": "markdown",
   "metadata": {},
   "source": [
    "### Range\n",
    "Untuk mengulang satu set kode beberapa kali, kita dapat menggunakan fungsi range() ,\n",
    "Fungsi range() mengembalikan urutan angka, mulai dari 0 secara default, dan bertambah 1 (secara default), dan berakhir pada angka yang ditentukan."
   ]
  },
  {
   "cell_type": "code",
   "execution_count": 37,
   "metadata": {},
   "outputs": [
    {
     "name": "stdout",
     "output_type": "stream",
     "text": [
      "0\n",
      "1\n",
      "2\n",
      "3\n",
      "4\n",
      "5\n",
      "6\n",
      "7\n",
      "8\n",
      "9\n"
     ]
    }
   ],
   "source": [
    "for x in range(10):\n",
    "    print(x)"
   ]
  },
  {
   "cell_type": "code",
   "execution_count": 38,
   "metadata": {},
   "outputs": [
    {
     "name": "stdout",
     "output_type": "stream",
     "text": [
      "2\n",
      "3\n",
      "4\n",
      "5\n"
     ]
    }
   ],
   "source": [
    "for x in range(2, 6): # mulai dari angka 2 dan berhenti di angka sebelum 6\n",
    "    print(x)"
   ]
  },
  {
   "cell_type": "code",
   "execution_count": 39,
   "metadata": {},
   "outputs": [
    {
     "name": "stdout",
     "output_type": "stream",
     "text": [
      "2\n",
      "5\n",
      "8\n",
      "11\n",
      "14\n",
      "17\n",
      "20\n",
      "23\n",
      "26\n",
      "29\n"
     ]
    }
   ],
   "source": [
    "for x in range(2, 30, 3): # mulai dari angka 2 sampai 29 dan ditambah 3 setiap loop\n",
    "    print(x)"
   ]
  },
  {
   "cell_type": "markdown",
   "metadata": {},
   "source": [
    "### Kata kunci else dalam for loop\n",
    "Kata kunci else dalam for loop menentukan blok kode yang akan dieksekusi ketika loop selesai:"
   ]
  },
  {
   "cell_type": "code",
   "execution_count": 41,
   "metadata": {},
   "outputs": [
    {
     "name": "stdout",
     "output_type": "stream",
     "text": [
      "1\n",
      "2\n",
      "3\n",
      "4\n",
      "5\n",
      "6\n",
      "7\n",
      "8\n",
      "9\n",
      "10\n",
      "Loop berhenti.\n"
     ]
    }
   ],
   "source": [
    "for x in range(1,11):\n",
    "    print(x)\n",
    "else:\n",
    "    print(\"Loop berhenti.\")"
   ]
  },
  {
   "cell_type": "code",
   "execution_count": 48,
   "metadata": {},
   "outputs": [
    {
     "name": "stdout",
     "output_type": "stream",
     "text": [
      "0\n",
      "1\n",
      "2\n"
     ]
    }
   ],
   "source": [
    "for x in range(6):\n",
    "    if x == 3: break\n",
    "    print(x)\n",
    "else:\n",
    "    print(\"Loop berhenti\") # statement else tidak akan dieksekusi jika loop sudah dibreak."
   ]
  },
  {
   "cell_type": "markdown",
   "metadata": {},
   "source": [
    "### Nested loop  \n",
    "Loop bersarang adalah loop di dalam loop.\n",
    "\n",
    "\"inner loop\" akan dieksekusi satu kali untuk setiap iterasi \"outer loop\":"
   ]
  },
  {
   "cell_type": "code",
   "execution_count": 52,
   "metadata": {},
   "outputs": [
    {
     "name": "stdout",
     "output_type": "stream",
     "text": [
      "0 0\n",
      "0 1\n",
      "0 2\n",
      "1 0\n",
      "1 1\n",
      "1 2\n",
      "2 0\n",
      "2 1\n",
      "2 2\n"
     ]
    }
   ],
   "source": [
    "for i in range(3):\n",
    "    for j in range(3):\n",
    "        print(i,j)"
   ]
  },
  {
   "cell_type": "code",
   "execution_count": 14,
   "metadata": {
    "scrolled": true
   },
   "outputs": [
    {
     "name": "stdout",
     "output_type": "stream",
     "text": [
      "🙂🙂🙂🙂🙂\n",
      "🙂🙂🙂🙂\n",
      "🙂🙂🙂\n",
      "🙂🙂\n",
      "🙂\n"
     ]
    }
   ],
   "source": [
    "for i in range(5,0,-1):\n",
    "    print(\"🙂\"*i)"
   ]
  },
  {
   "cell_type": "code",
   "execution_count": 15,
   "metadata": {},
   "outputs": [
    {
     "name": "stdout",
     "output_type": "stream",
     "text": [
      "2, 4, 6, 8, 10, 12, 14, 16, 18, 20\n"
     ]
    }
   ],
   "source": [
    "x = 0\n",
    "list_angka = []\n",
    "while x < 20:\n",
    "    x += 2\n",
    "    list_angka.append(str(x))\n",
    "print(', '.join(list_angka))"
   ]
  },
  {
   "cell_type": "code",
   "execution_count": 2,
   "metadata": {},
   "outputs": [
    {
     "name": "stdout",
     "output_type": "stream",
     "text": [
      "1 2 4 5 6 7 8 9 10 "
     ]
    }
   ],
   "source": [
    "i = 0\n",
    "while i < 10:\n",
    "  i += 1\n",
    "  if i == 3:\n",
    "    continue\n",
    "  print(i, end=\" \")"
   ]
  },
  {
   "cell_type": "code",
   "execution_count": 36,
   "metadata": {},
   "outputs": [
    {
     "name": "stdout",
     "output_type": "stream",
     "text": [
      "1 2 3 4 5 6 7 8 9 \n",
      "\"angka\" tidak kurang dari 10 yang menyebabkan value boolean menjadi False dan loop berhenti. \n"
     ]
    }
   ],
   "source": [
    "angka = 1\n",
    "while angka < 10:\n",
    "  print(angka, end=\" \")\n",
    "  angka += 1\n",
    "else:\n",
    "  print(\"\\n\\\"angka\\\" tidak kurang dari 10 yang menyebabkan value boolean menjadi False dan loop berhenti. \")"
   ]
  },
  {
   "cell_type": "code",
   "execution_count": 17,
   "metadata": {},
   "outputs": [
    {
     "name": "stdout",
     "output_type": "stream",
     "text": [
      "Masukkan range angka yang ingin dipangkatkan :  5\n",
      "1\n",
      "4\n",
      "9\n",
      "16\n",
      "25\n"
     ]
    }
   ],
   "source": [
    "user_input = int(input(\"Masukkan range angka yang ingin dipangkatkan : \"))\n",
    "\n",
    "for i in range (1,user_input+1):\n",
    "    hasil = i ** 2\n",
    "    print(hasil)"
   ]
  },
  {
   "cell_type": "code",
   "execution_count": 19,
   "metadata": {},
   "outputs": [
    {
     "name": "stdout",
     "output_type": "stream",
     "text": [
      "20 40 60 80 100 "
     ]
    }
   ],
   "source": [
    "list_angka = [10, 20, 30, 40, 50, 60, 70, 80, 90, 100]\n",
    "# loop angka dalam list dimulai dengan indeks 1 step 2\n",
    "for i in list_angka[1::2]:\n",
    "    print(i, end=\" \")"
   ]
  },
  {
   "cell_type": "markdown",
   "metadata": {},
   "source": [
    "### Tebak angka"
   ]
  },
  {
   "cell_type": "code",
   "execution_count": 21,
   "metadata": {},
   "outputs": [
    {
     "name": "stdout",
     "output_type": "stream",
     "text": [
      "Tebak angka :  23\n",
      "Tebak angka :  45\n",
      "Tebak angka :  43\n",
      "Tebakan Anda salah\n"
     ]
    }
   ],
   "source": [
    "jumlah_tebakan = 0\n",
    "batas_tebakan = 3\n",
    "while jumlah_tebakan < batas_tebakan:\n",
    "    Tebak = int(input(\"Tebak angka : \"))\n",
    "    jumlah_tebakan += 1\n",
    "    if Tebak == 9:\n",
    "        print(\"Tebakan Anda benar!\")\n",
    "        break\n",
    "else:\n",
    "   print(\"Tebakan Anda salah\")"
   ]
  },
  {
   "cell_type": "markdown",
   "metadata": {},
   "source": [
    "### Mencari barang pada list menggunakan for loop dan enumerate"
   ]
  },
  {
   "cell_type": "code",
   "execution_count": 32,
   "metadata": {},
   "outputs": [
    {
     "name": "stdout",
     "output_type": "stream",
     "text": [
      "Input barang yang ingin dicari :  pensil\n",
      "Pensil terdapat pada indeks ke-1.\n"
     ]
    }
   ],
   "source": [
    "listbarang = [\"Buku\", \"Pensil\", \"Pulpen\", \"Rautan\", \"Penghapus\"]\n",
    "\n",
    "user_input = input(\"Input barang yang ingin dicari : \").lower().strip()\n",
    "\n",
    "for indeks, barang in enumerate (listbarang):\n",
    "    if user_input.title() == barang:\n",
    "        print(f\"{barang} terdapat pada indeks ke-{indeks}.\")\n",
    "        break\n",
    "else:\n",
    "    print(\"Barang yang Anda cari tidak ada.\")"
   ]
  },
  {
   "cell_type": "markdown",
   "metadata": {},
   "source": [
    "### Generator Password"
   ]
  },
  {
   "cell_type": "code",
   "execution_count": 33,
   "metadata": {
    "scrolled": true
   },
   "outputs": [
    {
     "name": "stdout",
     "output_type": "stream",
     "text": [
      "Masukkan banyaknya huruf:\n",
      " 5\n",
      "Masukkan banyaknya simbol:\n",
      " 8\n",
      "Masukkan banyaknya angka:\n",
      " 4\n",
      "Password Anda : 6)#w4$0u$a&#a(i2#\n"
     ]
    }
   ],
   "source": [
    "import random\n",
    "huruf = ['a', 'b', 'c', 'd', 'e', 'f', 'g', 'h', 'i', 'j', 'k', 'l', 'm', 'n', 'o', 'p', 'q', 'r', 's', 't', 'u', 'v', 'w', 'x', 'y', 'z', 'A', 'B', 'C', 'D', 'E', 'F', 'G', 'H', 'I', 'J', 'K', 'L', 'M', 'N', 'O', 'P', 'Q', 'R', 'S', 'T', 'U', 'V', 'W', 'X', 'Y', 'Z']\n",
    "angka = ['0', '1', '2', '3', '4', '5', '6', '7', '8', '9']\n",
    "simbol = ['!', '#', '$', '%', '&', '(', ')', '*', '+']\n",
    "\n",
    "n_huruf = int(input(\"Masukkan banyaknya huruf:\\n\")) \n",
    "n_simbol = int(input(f\"Masukkan banyaknya simbol:\\n\"))\n",
    "n_angka = int(input(f\"Masukkan banyaknya angka:\\n\"))\n",
    "\n",
    "password_list = []\n",
    "\n",
    "for char in range(0, n_huruf):\n",
    "    password_list.append(random.choice(huruf))\n",
    "\n",
    "for char in range(0, n_angka):\n",
    "    password_list.append(random.choice(angka))\n",
    "\n",
    "for char in range(0, n_simbol):\n",
    "    password_list.append(random.choice(simbol))\n",
    "\n",
    "random.shuffle(password_list)\n",
    "\n",
    "password = ''\n",
    "\n",
    "for char in password_list:\n",
    "    password += char\n",
    "print(f\"Password Anda : {password}\")     "
   ]
  },
  {
   "cell_type": "markdown",
   "metadata": {},
   "source": [
    "### Mencari Nilai terbesar dalam sebuah list"
   ]
  },
  {
   "cell_type": "code",
   "execution_count": 34,
   "metadata": {},
   "outputs": [
    {
     "name": "stdout",
     "output_type": "stream",
     "text": [
      "Masukkan daftar nilai siswa:  90 100 87 78\n",
      "[90, 100, 87, 78]\n",
      "Nilai Terbesar = 100\n"
     ]
    }
   ],
   "source": [
    "Nilai_siswa = input(\"Masukkan daftar nilai siswa: \").split()\n",
    "for n in range(0, len(Nilai_siswa)):\n",
    "    Nilai_siswa[n] = int(Nilai_siswa[n])\n",
    "print(Nilai_siswa)\n",
    "\n",
    "nilai_terbesar = Nilai_siswa[n]\n",
    "\n",
    "for angka in Nilai_siswa:\n",
    "    if angka > nilai_terbesar:\n",
    "        nilai_terbesar = angka\n",
    "\n",
    "print(f'Nilai Terbesar = {nilai_terbesar}')"
   ]
  },
  {
   "cell_type": "markdown",
   "metadata": {},
   "source": [
    "### Mencari tinggi rata-rata"
   ]
  },
  {
   "cell_type": "code",
   "execution_count": 35,
   "metadata": {},
   "outputs": [
    {
     "name": "stdout",
     "output_type": "stream",
     "text": [
      "Masukkan daftar tinggi badan siswa:  180 179 176 168 174\n",
      "Tinggi rata-rata siswa: 175\n"
     ]
    }
   ],
   "source": [
    "n_tinggi_badan = input(\"Masukkan daftar tinggi badan siswa: \").split()\n",
    "for n in range(0, len(n_tinggi_badan)):\n",
    "    n_tinggi_badan[n] = int(n_tinggi_badan[n])\n",
    "\n",
    "total_tinggi = 0\n",
    "for i in n_tinggi_badan:\n",
    "    total_tinggi += i\n",
    "\n",
    "\n",
    "jumlah = 0\n",
    "for i in n_tinggi_badan:\n",
    "    jumlah += 1\n",
    "\n",
    "\n",
    "avg = total_tinggi/jumlah\n",
    "print(f'Tinggi rata-rata siswa: {round(avg)}')"
   ]
  },
  {
   "cell_type": "markdown",
   "metadata": {},
   "source": [
    "# Python Function"
   ]
  },
  {
   "cell_type": "markdown",
   "metadata": {},
   "source": [
    "Fungsi adalah blok kode yang hanya berjalan ketika dipanggil.\n",
    "\n",
    "Anda dapat memasukkan data, yang dikenal sebagai parameter, ke dalam suatu fungsi.\n",
    "\n",
    "Sebuah fungsi dapat mengembalikan data sebagai hasilnya."
   ]
  },
  {
   "cell_type": "markdown",
   "metadata": {},
   "source": [
    "Dalam Python, sebuah fungsi didefinisikan menggunakan kata kunci def:"
   ]
  },
  {
   "cell_type": "code",
   "execution_count": 4,
   "metadata": {},
   "outputs": [],
   "source": [
    "def fun():\n",
    "    print(\"Halo\")"
   ]
  },
  {
   "cell_type": "code",
   "execution_count": 3,
   "metadata": {},
   "outputs": [
    {
     "name": "stdout",
     "output_type": "stream",
     "text": [
      "Halo\n"
     ]
    }
   ],
   "source": [
    "fun() # memmanggil sebuah function."
   ]
  },
  {
   "cell_type": "markdown",
   "metadata": {},
   "source": [
    "### Argumen  \n",
    "Informasi dapat diteruskan ke fungsi sebagai argumen.\n",
    "\n",
    "Argumen ditentukan setelah nama fungsi, di dalam tanda kurung. Kita dapat menambahkan argumen sebanyak yang Anda inginkan, cukup pisahkan dengan koma.\n",
    "\n",
    "Contoh berikut memiliki fungsi dengan satu argumen (fname). Saat fungsi dipanggil, saya memberikan nama depan, yang digunakan di dalam fungsi untuk mencetak nama lengkap:"
   ]
  },
  {
   "cell_type": "code",
   "execution_count": 7,
   "metadata": {},
   "outputs": [
    {
     "name": "stdout",
     "output_type": "stream",
     "text": [
      "Jason Xaverius\n",
      "Rob Xaverius\n",
      "Michael Xaverius\n"
     ]
    }
   ],
   "source": [
    "def fun(fname):\n",
    "    print(fname + \" Xaverius\")\n",
    "\n",
    "fun(\"Jason\")\n",
    "fun(\"Rob\")\n",
    "fun(\"Michael\")"
   ]
  },
  {
   "cell_type": "markdown",
   "metadata": {},
   "source": [
    "### Jumlah Argumen  \n",
    "Secara default, suatu fungsi harus dipanggil dengan jumlah argumen yang benar. Artinya jika fungsi Anda mengekspetasikan 2 argumen, Anda harus memanggil fungsi dengan 2 argumen, tidak lebih, dan tidak kurang."
   ]
  },
  {
   "cell_type": "code",
   "execution_count": 9,
   "metadata": {},
   "outputs": [],
   "source": [
    "def fun(fname, lname):\n",
    "    print(fname + \" \" + lname)"
   ]
  },
  {
   "cell_type": "code",
   "execution_count": 10,
   "metadata": {},
   "outputs": [
    {
     "name": "stdout",
     "output_type": "stream",
     "text": [
      "Rafli Dewanto\n"
     ]
    }
   ],
   "source": [
    "fun(\"Rafli\", \"Dewanto\")"
   ]
  },
  {
   "cell_type": "code",
   "execution_count": 11,
   "metadata": {},
   "outputs": [
    {
     "ename": "TypeError",
     "evalue": "fun() missing 1 required positional argument: 'lname'",
     "output_type": "error",
     "traceback": [
      "\u001b[0;31m---------------------------------------------------------------------------\u001b[0m",
      "\u001b[0;31mTypeError\u001b[0m                                 Traceback (most recent call last)",
      "\u001b[0;32m/var/folders/vq/5zyclt6n1mn8qjx5k2gd86580000gn/T/ipykernel_4203/3693968582.py\u001b[0m in \u001b[0;36m<module>\u001b[0;34m\u001b[0m\n\u001b[0;32m----> 1\u001b[0;31m \u001b[0mfun\u001b[0m\u001b[0;34m(\u001b[0m\u001b[0;34m\"Rafli\"\u001b[0m\u001b[0;34m)\u001b[0m \u001b[0;31m# akan error karena program mengekspetasikan 2 argumen tetapi hanya ad 1.\u001b[0m\u001b[0;34m\u001b[0m\u001b[0;34m\u001b[0m\u001b[0m\n\u001b[0m",
      "\u001b[0;31mTypeError\u001b[0m: fun() missing 1 required positional argument: 'lname'"
     ]
    }
   ],
   "source": [
    "fun(\"Rafli\") # akan error karena program mengekspetasikan 2 argumen tetapi hanya ad 1."
   ]
  },
  {
   "cell_type": "markdown",
   "metadata": {},
   "source": [
    "### Argumen arbitrary, *args  \n",
    "Jika kita tidak tahu berapa banyak argumen yang akan diteruskan ke fungsi Anda, tambahkan * sebelum nama parameter dalam definisi fungsi.\n",
    "\n",
    "Dengan cara ini fungsi akan menerima argumen tuple, dan dapat mengakses item yang sesuai:"
   ]
  },
  {
   "cell_type": "code",
   "execution_count": 26,
   "metadata": {},
   "outputs": [
    {
     "name": "stdout",
     "output_type": "stream",
     "text": [
      "Elon\n"
     ]
    }
   ],
   "source": [
    "def fun(*orang):\n",
    "    print(orang[2])\n",
    "\n",
    "fun(\"Jeff\", \"Bill\", \"Elon\")"
   ]
  },
  {
   "cell_type": "markdown",
   "metadata": {},
   "source": [
    "### Keyword Arguments \n",
    "Kita juga dapat mengirim argumen dengan sintaks key = value.\n",
    "\n",
    "Dengan cara ini urutan argumen tidak menjadi masalah."
   ]
  },
  {
   "cell_type": "code",
   "execution_count": 16,
   "metadata": {},
   "outputs": [
    {
     "name": "stdout",
     "output_type": "stream",
     "text": [
      "87\n"
     ]
    }
   ],
   "source": [
    "def fun(nilai3, nilai2, nilai1):\n",
    "    print(nilai2)\n",
    "\n",
    "fun(nilai1 = 90, nilai2 = 87, nilai3 = 96)"
   ]
  },
  {
   "cell_type": "markdown",
   "metadata": {},
   "source": [
    "### Arbitrary Keyword Arguments, **kwargs  \n",
    "Jika Anda tidak tahu berapa banyak argumen kata kunci yang akan diteruskan ke fungsi Anda, tambahkan dua tanda bintang: ** sebelum nama parameter dalam definisi fungsi.\n",
    "\n",
    "Dengan cara ini fungsi akan menerima kamus argumen, dan dapat mengakses item yang sesuai:"
   ]
  },
  {
   "cell_type": "code",
   "execution_count": 17,
   "metadata": {},
   "outputs": [
    {
     "name": "stdout",
     "output_type": "stream",
     "text": [
      "90\n"
     ]
    }
   ],
   "source": [
    "def fun(**nilai):\n",
    "    print(nilai[\"nilai1\"])\n",
    "\n",
    "fun(nilai1 = 90, nilai2 = 95)"
   ]
  },
  {
   "cell_type": "markdown",
   "metadata": {},
   "source": [
    "### Nilai Parameter Default  \n",
    "Contoh berikut menunjukkan cara menggunakan nilai parameter default.\n",
    "\n",
    "Jika kita memanggil fungsi tanpa argumen, ia menggunakan nilai default:"
   ]
  },
  {
   "cell_type": "code",
   "execution_count": 18,
   "metadata": {},
   "outputs": [
    {
     "name": "stdout",
     "output_type": "stream",
     "text": [
      "Saya warga negara Swedia\n",
      "Saya warga negara India\n",
      "Saya warga negara Indonesia\n",
      "Saya warga negara Brazil\n"
     ]
    }
   ],
   "source": [
    "def fun(Negara = \"Indonesia\"):\n",
    "    print(\"Saya warga negara \" + Negara)\n",
    "\n",
    "fun(\"Swedia\")\n",
    "fun(\"India\")\n",
    "fun()\n",
    "fun(\"Brazil\")"
   ]
  },
  {
   "cell_type": "code",
   "execution_count": 36,
   "metadata": {},
   "outputs": [
    {
     "name": "stdout",
     "output_type": "stream",
     "text": [
      "6, 2\n"
     ]
    }
   ],
   "source": [
    "def tambah_kurang(a,b):\n",
    "    return a+b, a-b\n",
    "\n",
    "tambah, kurang = tambah_kurang(4,2)\n",
    "print(f\"{tambah}, {kurang}\")"
   ]
  },
  {
   "cell_type": "code",
   "execution_count": 37,
   "metadata": {
    "scrolled": true
   },
   "outputs": [
    {
     "name": "stdout",
     "output_type": "stream",
     "text": [
      "Halo\n"
     ]
    }
   ],
   "source": [
    "def pos_arg(kata, frekuensi = 1, jumlah = 0): # <- optional argument\n",
    "    print(kata * (frekuensi + jumlah))\n",
    "    \n",
    "pos_arg(\"Halo\")"
   ]
  },
  {
   "cell_type": "code",
   "execution_count": 38,
   "metadata": {
    "scrolled": true
   },
   "outputs": [
    {
     "name": "stdout",
     "output_type": "stream",
     "text": [
      "6\n"
     ]
    }
   ],
   "source": [
    "def jumlah(*args):\n",
    "    hasil = 0\n",
    "    for i in args:\n",
    "        hasil += i\n",
    "    return hasil\n",
    "\n",
    "print(jumlah(1, 2, 3))"
   ]
  },
  {
   "cell_type": "code",
   "execution_count": 39,
   "metadata": {},
   "outputs": [
    {
     "name": "stdout",
     "output_type": "stream",
     "text": [
      "[7, 8, 9]\n"
     ]
    }
   ],
   "source": [
    "def jumlah(*bilangan):\n",
    "    jumlah = [hasil+5 for hasil in bilangan]\n",
    "    return jumlah\n",
    "\n",
    "print(jumlah(2,3,4))"
   ]
  },
  {
   "cell_type": "code",
   "execution_count": 25,
   "metadata": {},
   "outputs": [
    {
     "name": "stdout",
     "output_type": "stream",
     "text": [
      "laptop\n",
      "pensil\n",
      "tas\n"
     ]
    }
   ],
   "source": [
    "def fun(barang):\n",
    "    for x in barang:\n",
    "        print(x)\n",
    "\n",
    "barang = [\"laptop\", \"pensil\", \"tas\"]\n",
    "\n",
    "fun(barang) # passing argumen dalam bentuk list"
   ]
  },
  {
   "cell_type": "code",
   "execution_count": 22,
   "metadata": {},
   "outputs": [
    {
     "name": "stdout",
     "output_type": "stream",
     "text": [
      "15\n"
     ]
    }
   ],
   "source": [
    "def fungsi(a, b, c):\n",
    "    print(a + b * c)\n",
    "\n",
    "lst = [3, 4, 3]\n",
    "# unpack list\n",
    "fungsi(*lst)"
   ]
  },
  {
   "cell_type": "code",
   "execution_count": 40,
   "metadata": {},
   "outputs": [
    {
     "name": "stdout",
     "output_type": "stream",
     "text": [
      "3 1 2\n"
     ]
    }
   ],
   "source": [
    "def fungsi(arg1=None, arg2=None, arg3=None):\n",
    "    print(arg1, arg2, arg3)\n",
    "    \n",
    "kwargs = {\"arg2\":1, \"arg3\":2, \"arg1\":3}\n",
    "fungsi(**kwargs)"
   ]
  },
  {
   "cell_type": "code",
   "execution_count": 41,
   "metadata": {
    "scrolled": true
   },
   "outputs": [
    {
     "name": "stdout",
     "output_type": "stream",
     "text": [
      "Nama : Rafli\n",
      "NPM : 51421208\n",
      "Jurusan : Teknik Informatika\n"
     ]
    }
   ],
   "source": [
    "def biodata(**data):\n",
    "    for key,value in data.items():\n",
    "        print(key,value)\n",
    "\n",
    "biodata(Nama=\": Rafli\", NPM=\": 51421208\", Jurusan=\": Teknik Informatika\")"
   ]
  },
  {
   "cell_type": "code",
   "execution_count": 42,
   "metadata": {},
   "outputs": [
    {
     "name": "stdout",
     "output_type": "stream",
     "text": [
      "Nama: Ucup\n",
      "Posisi: Product Manager\n",
      "Gaji: Rp 9,000,000.00\n"
     ]
    }
   ],
   "source": [
    "def karyawan(Nama, Posisi, Gaji): \n",
    "    return Nama, Posisi, Gaji\n",
    "\n",
    "Nama, Posisi, Gaji = karyawan(\"Ucup\",\"Product Manager\", 9000000)\n",
    "\n",
    "print(f\"Nama: {Nama}\\nPosisi: {Posisi}\\nGaji: Rp {Gaji:,.2f}\")"
   ]
  },
  {
   "cell_type": "code",
   "execution_count": 43,
   "metadata": {},
   "outputs": [
    {
     "name": "stdout",
     "output_type": "stream",
     "text": [
      "masukkan angka pertama :  234\n",
      "masukkan angka kedua :  5345\n",
      "masukkan angka ketiga :  -22\n",
      "angka terbesar = 5345\n"
     ]
    }
   ],
   "source": [
    "def max_num(num1, num2, num3):\n",
    "    if num1 > num2 and num1 > num3:\n",
    "        return num1\n",
    "    elif num1 < num2 and num2 > num3:\n",
    "        return num2\n",
    "    else:\n",
    "        return num3\n",
    "\n",
    "def main():\n",
    "    num1 = int(input(\"masukkan angka pertama : \"))\n",
    "    num2 = int(input(\"masukkan angka kedua : \"))\n",
    "    num3 = int(input(\"masukkan angka ketiga : \"))\n",
    "    angka_terbesar = max_num(num1, num2, num3)\n",
    "    print(f'angka terbesar = {angka_terbesar}')\n",
    "main()"
   ]
  },
  {
   "cell_type": "markdown",
   "metadata": {
    "tags": []
   },
   "source": [
    "### <Font color=\"\">Recursive Function</font>\n",
    "\n",
    "<font color=\"DeepPink\">Recursive</font> adalah ketika suatu fungsi memanggil dirinya sendiri dalam bloknya, sehingga berulang kali mengeksekusi instruksi yang ada di dalamnya.   \n",
    "\n",
    "<font color=\"Indigo\">Iterative</font> adalah ketika sebuah loop berulang kali mengeksekusi set instruksi seperti loop \"for\" dan loop \"while\"."
   ]
  },
  {
   "cell_type": "code",
   "execution_count": 44,
   "metadata": {},
   "outputs": [
    {
     "name": "stdout",
     "output_type": "stream",
     "text": [
      "➤  6\n",
      "jumlah seluruh bilangan sampai 6 adalah 21\n"
     ]
    }
   ],
   "source": [
    "# iterative\n",
    "def sum():\n",
    "    user_input = int(input(\"➤ \"))\n",
    "    jumlah = 0\n",
    "    for i in range(1,1 + user_input):\n",
    "        jumlah += i\n",
    "    print(f'jumlah seluruh bilangan sampai {user_input} adalah {jumlah}')\n",
    "sum()"
   ]
  },
  {
   "cell_type": "code",
   "execution_count": 45,
   "metadata": {
    "scrolled": true
   },
   "outputs": [
    {
     "name": "stdout",
     "output_type": "stream",
     "text": [
      "➤  3\n",
      "Jumlah seluruh bilangan sampai 3 adalah 6\n"
     ]
    }
   ],
   "source": [
    "# recursive\n",
    "def jumlah(angka):\n",
    "    if angka < 0:\n",
    "        raise ValueError(\"Bilangan harus positif\")\n",
    "    elif angka:\n",
    "        return angka + jumlah(angka-1)\n",
    "    else:\n",
    "        return 0\n",
    "\n",
    "input_angka = int(input(\"➤ \"))   \n",
    "print(f\"Jumlah seluruh bilangan sampai {input_angka} adalah {jumlah(input_angka)}\")"
   ]
  },
  {
   "cell_type": "markdown",
   "metadata": {},
   "source": [
    "angka + jumlah ( angka - 1 )    \n",
    "\n",
    "3 + jumlah ( 3 - 1 )    \n",
    "\n",
    "3 + 2 + jumlah ( 2 - 1 )   \n",
    "\n",
    "3 + 2 + 1 jumlah ( 1 - 1 )    \n",
    "\n",
    "3 + 2 + 1 + 0"
   ]
  },
  {
   "cell_type": "code",
   "execution_count": 47,
   "metadata": {},
   "outputs": [
    {
     "name": "stdout",
     "output_type": "stream",
     "text": [
      "➤  3\n",
      " Faktorial dari 3 = 6\n"
     ]
    }
   ],
   "source": [
    "def faktorial(angka):\n",
    "    if angka < 0:\n",
    "        raise ValueError(\"Bilangan harus positif!\")\n",
    "    elif angka == 0 or angka == 1:\n",
    "        return 1\n",
    "    else:\n",
    "        return angka * faktorial(angka - 1)\n",
    "    \n",
    "    \n",
    "input_angka = int(input(\"➤ \"))   \n",
    "print(f\" Faktorial dari {input_angka} = {faktorial(input_angka)}\")"
   ]
  },
  {
   "cell_type": "markdown",
   "metadata": {},
   "source": [
    "3  *  faktorial ( 3 - 1 )  \n",
    "\n",
    "3  *  2  *  faktorial ( 2 - 1 )  \n",
    "\n",
    "3 *  2  *  1 = 6"
   ]
  },
  {
   "cell_type": "code",
   "execution_count": 1,
   "metadata": {
    "scrolled": true
   },
   "outputs": [
    {
     "name": "stdout",
     "output_type": "stream",
     "text": [
      "bilangan fibonacci ke-1 = 1\n",
      "bilangan fibonacci ke-2 = 1\n",
      "bilangan fibonacci ke-3 = 2\n",
      "bilangan fibonacci ke-4 = 3\n",
      "bilangan fibonacci ke-5 = 5\n",
      "bilangan fibonacci ke-6 = 8\n",
      "bilangan fibonacci ke-7 = 13\n",
      "bilangan fibonacci ke-8 = 21\n",
      "bilangan fibonacci ke-9 = 34\n",
      "bilangan fibonacci ke-10 = 55\n",
      "Waktu yang diperlukan = 0.00 detik\n"
     ]
    }
   ],
   "source": [
    "import time\n",
    "\n",
    "mulai = time.time()\n",
    "def fibonacci(n):\n",
    "    if n == 1 or n == 2:\n",
    "        return 1\n",
    "    elif n > 2:\n",
    "        return fibonacci(n-1) + fibonacci(n-2)\n",
    "\n",
    "for n in range (1,11):\n",
    "    print(f\"bilangan fibonacci ke-{n} = {fibonacci(n)}\")\n",
    "\n",
    "akhir = time.time()\n",
    "print(f\"Waktu yang diperlukan = {akhir-mulai:.2f} detik\") "
   ]
  },
  {
   "cell_type": "markdown",
   "metadata": {},
   "source": [
    "fibonacci ( n - 1 ) + fibonacci ( n - 2 )  \n",
    "fibonacci ( 4 )    \n",
    "fibonacci ( 3 ) + fibonacci ( 2 )      \n",
    "fibonacci ( 2 ) + fibonacci ( 1 ) + 1  \n",
    "1 + 1 + 1   \n",
    "3"
   ]
  },
  {
   "cell_type": "markdown",
   "metadata": {},
   "source": [
    "### <font color=\"#8479E1\">Memoisasi</font>\n",
    "Memoisasi adalah metode yang digunakan untuk menyimpan hasil pemanggilan fungsi sebelumnya untuk mempercepat perhitungan di masa mendatang. Jika panggilan fungsi berulang dilakukan dengan parameter yang sama, kita dapat menyimpan nilai sebelumnya alih-alih mengulangi perhitungan yang tidak perlu."
   ]
  },
  {
   "cell_type": "code",
   "execution_count": 48,
   "metadata": {},
   "outputs": [
    {
     "name": "stdout",
     "output_type": "stream",
     "text": [
      "Menghitung kuadrat dari 4...\n",
      "16\n",
      "16\n",
      "16\n",
      "16\n",
      "16\n",
      "16\n",
      "16\n",
      "Waktu yang diperlukan = 1.01 detik\n"
     ]
    }
   ],
   "source": [
    "import time\n",
    "from functools import lru_cache\n",
    "\n",
    "mulai = time.time()\n",
    "\n",
    "@lru_cache(maxsize=10)    # lru -> least recenly used cache\n",
    "def expensive_func(n):    # Expensive function -> pemanggilan suatu fungsi dalam jumlah besar\n",
    "    print(f\"Menghitung kuadrat dari {n}...\")\n",
    "    time.sleep(1)\n",
    "    hasil = n * n\n",
    "    return hasil\n",
    "\n",
    "print(expensive_func(4))#1\n",
    "print(expensive_func(4))#2\n",
    "print(expensive_func(4))#3\n",
    "print(expensive_func(4))#4\n",
    "print(expensive_func(4))#5\n",
    "print(expensive_func(4))#6\n",
    "print(expensive_func(4))#7\n",
    "akhir = time.time()\n",
    "print(f\"Waktu yang diperlukan = {akhir-mulai:.2f} detik\") "
   ]
  },
  {
   "cell_type": "code",
   "execution_count": 52,
   "metadata": {},
   "outputs": [
    {
     "name": "stdout",
     "output_type": "stream",
     "text": [
      "bilangan fibonacci ke-1 = 1\n",
      "bilangan fibonacci ke-2 = 1\n",
      "bilangan fibonacci ke-3 = 2\n",
      "bilangan fibonacci ke-4 = 3\n",
      "bilangan fibonacci ke-5 = 5\n",
      "bilangan fibonacci ke-6 = 8\n",
      "bilangan fibonacci ke-7 = 13\n",
      "bilangan fibonacci ke-8 = 21\n",
      "bilangan fibonacci ke-9 = 34\n",
      "bilangan fibonacci ke-10 = 55\n",
      "bilangan fibonacci ke-11 = 89\n",
      "bilangan fibonacci ke-12 = 144\n",
      "bilangan fibonacci ke-13 = 233\n",
      "bilangan fibonacci ke-14 = 377\n",
      "bilangan fibonacci ke-15 = 610\n",
      "bilangan fibonacci ke-16 = 987\n",
      "bilangan fibonacci ke-17 = 1597\n",
      "bilangan fibonacci ke-18 = 2584\n",
      "bilangan fibonacci ke-19 = 4181\n",
      "bilangan fibonacci ke-20 = 6765\n",
      "bilangan fibonacci ke-21 = 10946\n",
      "bilangan fibonacci ke-22 = 17711\n",
      "bilangan fibonacci ke-23 = 28657\n",
      "bilangan fibonacci ke-24 = 46368\n",
      "bilangan fibonacci ke-25 = 75025\n",
      "bilangan fibonacci ke-26 = 121393\n",
      "bilangan fibonacci ke-27 = 196418\n",
      "bilangan fibonacci ke-28 = 317811\n",
      "bilangan fibonacci ke-29 = 514229\n",
      "bilangan fibonacci ke-30 = 832040\n",
      "bilangan fibonacci ke-31 = 1346269\n",
      "bilangan fibonacci ke-32 = 2178309\n",
      "bilangan fibonacci ke-33 = 3524578\n",
      "bilangan fibonacci ke-34 = 5702887\n",
      "bilangan fibonacci ke-35 = 9227465\n",
      "bilangan fibonacci ke-36 = 14930352\n",
      "bilangan fibonacci ke-37 = 24157817\n",
      "bilangan fibonacci ke-38 = 39088169\n",
      "bilangan fibonacci ke-39 = 63245986\n",
      "bilangan fibonacci ke-40 = 102334155\n",
      "bilangan fibonacci ke-41 = 165580141\n",
      "bilangan fibonacci ke-42 = 267914296\n",
      "bilangan fibonacci ke-43 = 433494437\n",
      "bilangan fibonacci ke-44 = 701408733\n",
      "bilangan fibonacci ke-45 = 1134903170\n",
      "bilangan fibonacci ke-46 = 1836311903\n",
      "bilangan fibonacci ke-47 = 2971215073\n",
      "bilangan fibonacci ke-48 = 4807526976\n",
      "bilangan fibonacci ke-49 = 7778742049\n",
      "bilangan fibonacci ke-50 = 12586269025\n",
      "bilangan fibonacci ke-51 = 20365011074\n",
      "bilangan fibonacci ke-52 = 32951280099\n",
      "bilangan fibonacci ke-53 = 53316291173\n",
      "bilangan fibonacci ke-54 = 86267571272\n",
      "bilangan fibonacci ke-55 = 139583862445\n",
      "bilangan fibonacci ke-56 = 225851433717\n",
      "bilangan fibonacci ke-57 = 365435296162\n",
      "bilangan fibonacci ke-58 = 591286729879\n",
      "bilangan fibonacci ke-59 = 956722026041\n",
      "bilangan fibonacci ke-60 = 1548008755920\n",
      "bilangan fibonacci ke-61 = 2504730781961\n",
      "bilangan fibonacci ke-62 = 4052739537881\n",
      "bilangan fibonacci ke-63 = 6557470319842\n",
      "bilangan fibonacci ke-64 = 10610209857723\n",
      "bilangan fibonacci ke-65 = 17167680177565\n",
      "bilangan fibonacci ke-66 = 27777890035288\n",
      "bilangan fibonacci ke-67 = 44945570212853\n",
      "bilangan fibonacci ke-68 = 72723460248141\n",
      "bilangan fibonacci ke-69 = 117669030460994\n",
      "bilangan fibonacci ke-70 = 190392490709135\n",
      "bilangan fibonacci ke-71 = 308061521170129\n",
      "bilangan fibonacci ke-72 = 498454011879264\n",
      "bilangan fibonacci ke-73 = 806515533049393\n",
      "bilangan fibonacci ke-74 = 1304969544928657\n",
      "bilangan fibonacci ke-75 = 2111485077978050\n",
      "bilangan fibonacci ke-76 = 3416454622906707\n",
      "bilangan fibonacci ke-77 = 5527939700884757\n",
      "bilangan fibonacci ke-78 = 8944394323791464\n",
      "bilangan fibonacci ke-79 = 14472334024676221\n",
      "bilangan fibonacci ke-80 = 23416728348467685\n",
      "bilangan fibonacci ke-81 = 37889062373143906\n",
      "bilangan fibonacci ke-82 = 61305790721611591\n",
      "bilangan fibonacci ke-83 = 99194853094755497\n",
      "bilangan fibonacci ke-84 = 160500643816367088\n",
      "bilangan fibonacci ke-85 = 259695496911122585\n",
      "bilangan fibonacci ke-86 = 420196140727489673\n",
      "bilangan fibonacci ke-87 = 679891637638612258\n",
      "bilangan fibonacci ke-88 = 1100087778366101931\n",
      "bilangan fibonacci ke-89 = 1779979416004714189\n",
      "bilangan fibonacci ke-90 = 2880067194370816120\n",
      "bilangan fibonacci ke-91 = 4660046610375530309\n",
      "bilangan fibonacci ke-92 = 7540113804746346429\n",
      "bilangan fibonacci ke-93 = 12200160415121876738\n",
      "bilangan fibonacci ke-94 = 19740274219868223167\n",
      "bilangan fibonacci ke-95 = 31940434634990099905\n",
      "bilangan fibonacci ke-96 = 51680708854858323072\n",
      "bilangan fibonacci ke-97 = 83621143489848422977\n",
      "bilangan fibonacci ke-98 = 135301852344706746049\n",
      "bilangan fibonacci ke-99 = 218922995834555169026\n",
      "bilangan fibonacci ke-100 = 354224848179261915075\n",
      "bilangan fibonacci ke-101 = 573147844013817084101\n",
      "bilangan fibonacci ke-102 = 927372692193078999176\n",
      "bilangan fibonacci ke-103 = 1500520536206896083277\n",
      "bilangan fibonacci ke-104 = 2427893228399975082453\n",
      "bilangan fibonacci ke-105 = 3928413764606871165730\n",
      "bilangan fibonacci ke-106 = 6356306993006846248183\n",
      "bilangan fibonacci ke-107 = 10284720757613717413913\n",
      "bilangan fibonacci ke-108 = 16641027750620563662096\n",
      "bilangan fibonacci ke-109 = 26925748508234281076009\n",
      "bilangan fibonacci ke-110 = 43566776258854844738105\n",
      "bilangan fibonacci ke-111 = 70492524767089125814114\n",
      "bilangan fibonacci ke-112 = 114059301025943970552219\n",
      "bilangan fibonacci ke-113 = 184551825793033096366333\n",
      "bilangan fibonacci ke-114 = 298611126818977066918552\n",
      "bilangan fibonacci ke-115 = 483162952612010163284885\n",
      "bilangan fibonacci ke-116 = 781774079430987230203437\n",
      "bilangan fibonacci ke-117 = 1264937032042997393488322\n",
      "bilangan fibonacci ke-118 = 2046711111473984623691759\n",
      "bilangan fibonacci ke-119 = 3311648143516982017180081\n",
      "bilangan fibonacci ke-120 = 5358359254990966640871840\n",
      "bilangan fibonacci ke-121 = 8670007398507948658051921\n",
      "bilangan fibonacci ke-122 = 14028366653498915298923761\n",
      "bilangan fibonacci ke-123 = 22698374052006863956975682\n",
      "bilangan fibonacci ke-124 = 36726740705505779255899443\n",
      "bilangan fibonacci ke-125 = 59425114757512643212875125\n",
      "bilangan fibonacci ke-126 = 96151855463018422468774568\n",
      "bilangan fibonacci ke-127 = 155576970220531065681649693\n",
      "bilangan fibonacci ke-128 = 251728825683549488150424261\n",
      "bilangan fibonacci ke-129 = 407305795904080553832073954\n",
      "bilangan fibonacci ke-130 = 659034621587630041982498215\n",
      "bilangan fibonacci ke-131 = 1066340417491710595814572169\n",
      "bilangan fibonacci ke-132 = 1725375039079340637797070384\n",
      "bilangan fibonacci ke-133 = 2791715456571051233611642553\n",
      "bilangan fibonacci ke-134 = 4517090495650391871408712937\n",
      "bilangan fibonacci ke-135 = 7308805952221443105020355490\n",
      "bilangan fibonacci ke-136 = 11825896447871834976429068427\n",
      "bilangan fibonacci ke-137 = 19134702400093278081449423917\n",
      "bilangan fibonacci ke-138 = 30960598847965113057878492344\n",
      "bilangan fibonacci ke-139 = 50095301248058391139327916261\n",
      "bilangan fibonacci ke-140 = 81055900096023504197206408605\n",
      "bilangan fibonacci ke-141 = 131151201344081895336534324866\n",
      "bilangan fibonacci ke-142 = 212207101440105399533740733471\n",
      "bilangan fibonacci ke-143 = 343358302784187294870275058337\n",
      "bilangan fibonacci ke-144 = 555565404224292694404015791808\n",
      "bilangan fibonacci ke-145 = 898923707008479989274290850145\n",
      "bilangan fibonacci ke-146 = 1454489111232772683678306641953\n",
      "bilangan fibonacci ke-147 = 2353412818241252672952597492098\n",
      "bilangan fibonacci ke-148 = 3807901929474025356630904134051\n",
      "bilangan fibonacci ke-149 = 6161314747715278029583501626149\n",
      "bilangan fibonacci ke-150 = 9969216677189303386214405760200\n",
      "bilangan fibonacci ke-151 = 16130531424904581415797907386349\n",
      "bilangan fibonacci ke-152 = 26099748102093884802012313146549\n",
      "bilangan fibonacci ke-153 = 42230279526998466217810220532898\n",
      "bilangan fibonacci ke-154 = 68330027629092351019822533679447\n",
      "bilangan fibonacci ke-155 = 110560307156090817237632754212345\n",
      "bilangan fibonacci ke-156 = 178890334785183168257455287891792\n",
      "bilangan fibonacci ke-157 = 289450641941273985495088042104137\n",
      "bilangan fibonacci ke-158 = 468340976726457153752543329995929\n",
      "bilangan fibonacci ke-159 = 757791618667731139247631372100066\n",
      "bilangan fibonacci ke-160 = 1226132595394188293000174702095995\n",
      "bilangan fibonacci ke-161 = 1983924214061919432247806074196061\n",
      "bilangan fibonacci ke-162 = 3210056809456107725247980776292056\n",
      "bilangan fibonacci ke-163 = 5193981023518027157495786850488117\n",
      "bilangan fibonacci ke-164 = 8404037832974134882743767626780173\n",
      "bilangan fibonacci ke-165 = 13598018856492162040239554477268290\n",
      "bilangan fibonacci ke-166 = 22002056689466296922983322104048463\n",
      "bilangan fibonacci ke-167 = 35600075545958458963222876581316753\n",
      "bilangan fibonacci ke-168 = 57602132235424755886206198685365216\n",
      "bilangan fibonacci ke-169 = 93202207781383214849429075266681969\n",
      "bilangan fibonacci ke-170 = 150804340016807970735635273952047185\n",
      "bilangan fibonacci ke-171 = 244006547798191185585064349218729154\n",
      "bilangan fibonacci ke-172 = 394810887814999156320699623170776339\n",
      "bilangan fibonacci ke-173 = 638817435613190341905763972389505493\n",
      "bilangan fibonacci ke-174 = 1033628323428189498226463595560281832\n",
      "bilangan fibonacci ke-175 = 1672445759041379840132227567949787325\n",
      "bilangan fibonacci ke-176 = 2706074082469569338358691163510069157\n",
      "bilangan fibonacci ke-177 = 4378519841510949178490918731459856482\n",
      "bilangan fibonacci ke-178 = 7084593923980518516849609894969925639\n",
      "bilangan fibonacci ke-179 = 11463113765491467695340528626429782121\n",
      "bilangan fibonacci ke-180 = 18547707689471986212190138521399707760\n",
      "bilangan fibonacci ke-181 = 30010821454963453907530667147829489881\n",
      "bilangan fibonacci ke-182 = 48558529144435440119720805669229197641\n",
      "bilangan fibonacci ke-183 = 78569350599398894027251472817058687522\n",
      "bilangan fibonacci ke-184 = 127127879743834334146972278486287885163\n",
      "bilangan fibonacci ke-185 = 205697230343233228174223751303346572685\n",
      "bilangan fibonacci ke-186 = 332825110087067562321196029789634457848\n",
      "bilangan fibonacci ke-187 = 538522340430300790495419781092981030533\n",
      "bilangan fibonacci ke-188 = 871347450517368352816615810882615488381\n",
      "bilangan fibonacci ke-189 = 1409869790947669143312035591975596518914\n",
      "bilangan fibonacci ke-190 = 2281217241465037496128651402858212007295\n",
      "bilangan fibonacci ke-191 = 3691087032412706639440686994833808526209\n",
      "bilangan fibonacci ke-192 = 5972304273877744135569338397692020533504\n",
      "bilangan fibonacci ke-193 = 9663391306290450775010025392525829059713\n",
      "bilangan fibonacci ke-194 = 15635695580168194910579363790217849593217\n",
      "bilangan fibonacci ke-195 = 25299086886458645685589389182743678652930\n",
      "bilangan fibonacci ke-196 = 40934782466626840596168752972961528246147\n",
      "bilangan fibonacci ke-197 = 66233869353085486281758142155705206899077\n",
      "bilangan fibonacci ke-198 = 107168651819712326877926895128666735145224\n",
      "bilangan fibonacci ke-199 = 173402521172797813159685037284371942044301\n",
      "bilangan fibonacci ke-200 = 280571172992510140037611932413038677189525\n",
      "Waktu yang diperlukan = 0.0082051754 detik\n"
     ]
    }
   ],
   "source": [
    "import time\n",
    "from functools import lru_cache\n",
    "\n",
    "mulai = time.time()\n",
    "@lru_cache(maxsize = 50)     \n",
    "def fibo(n):    \n",
    "    if n == 1 or n == 2:\n",
    "        return 1\n",
    "    elif n > 2:\n",
    "        return fibo(n-1) + fibo(n-2)\n",
    "        \n",
    "\n",
    "for n in range (1,201):\n",
    "    print(f\"bilangan fibonacci ke-{n} = {fibo(n)}\")\n",
    "\n",
    "\n",
    "akhir = time.time()\n",
    "print(f\"Waktu yang diperlukan = {akhir-mulai:.10f} detik\")"
   ]
  },
  {
   "cell_type": "code",
   "execution_count": 59,
   "metadata": {
    "scrolled": true
   },
   "outputs": [
    {
     "name": "stdout",
     "output_type": "stream",
     "text": [
      "halo 1\n",
      "halo 2\n",
      "halo 3\n",
      "halo 4\n",
      "halo 5\n",
      "halo 6\n",
      "halo 7\n",
      "halo 8\n",
      "halo 9\n",
      "halo 10\n",
      "halo 11\n",
      "halo 12\n",
      "halo 13\n",
      "halo 14\n",
      "halo 15\n",
      "halo 16\n",
      "halo 17\n",
      "halo 18\n",
      "halo 19\n",
      "halo 20\n",
      "halo 21\n",
      "halo 22\n",
      "halo 23\n",
      "halo 24\n",
      "halo 25\n",
      "halo 26\n",
      "halo 27\n",
      "halo 28\n",
      "halo 29\n",
      "halo 30\n",
      "halo 31\n",
      "halo 32\n",
      "halo 33\n",
      "halo 34\n",
      "halo 35\n",
      "halo 36\n",
      "halo 37\n",
      "halo 38\n",
      "halo 39\n",
      "halo 40\n",
      "halo 41\n",
      "halo 42\n",
      "halo 43\n",
      "halo 44\n",
      "halo 45\n",
      "halo 46\n",
      "halo 47\n",
      "halo 48\n",
      "halo 49\n",
      "halo 50\n",
      "halo 51\n",
      "halo 52\n",
      "halo 53\n",
      "halo 54\n",
      "halo 55\n",
      "halo 56\n",
      "halo 57\n",
      "halo 58\n",
      "halo 59\n",
      "halo 60\n",
      "halo 61\n",
      "halo 62\n",
      "halo 63\n",
      "halo 64\n",
      "halo 65\n",
      "halo 66\n",
      "halo 67\n",
      "loop rekursif melebihi batas!\n",
      "\n",
      "Batas loop rekursif adalah 100\n"
     ]
    }
   ],
   "source": [
    "import sys\n",
    "\n",
    "sys.setrecursionlimit(100)\n",
    "batas = sys.getrecursionlimit()\n",
    "\n",
    "try:\n",
    "    counter = 0\n",
    "    def halo():\n",
    "        global counter\n",
    "        counter += 1\n",
    "        print(\"halo\", counter)\n",
    "        halo()\n",
    "    halo()\n",
    "except RecursionError:\n",
    "    print(\"loop rekursif melebihi batas!\\n\")\n",
    "\n",
    "print(f\"Batas loop rekursif adalah {batas}\")"
   ]
  },
  {
   "cell_type": "markdown",
   "metadata": {},
   "source": [
    "## Anonymous Function / Lambda"
   ]
  },
  {
   "cell_type": "markdown",
   "metadata": {},
   "source": [
    "Anonymous function adalah fungsi yang didefinisikan tanpa nama.\n",
    "\n",
    "Fungsi normal didefinisikan menggunakan kata kunci <font color='LightSeaGreen'>def</font> dalam Python,   \n",
    "sedangkan anonymous function didefinisikan menggunakan kata kunci <font color='MediumPurple'>lambda</font>\n",
    "\n",
    "Oleh karena itu, anonymous function juga disebut lambda."
   ]
  },
  {
   "cell_type": "code",
   "execution_count": 60,
   "metadata": {},
   "outputs": [
    {
     "data": {
      "text/plain": [
       "2"
      ]
     },
     "execution_count": 60,
     "metadata": {},
     "output_type": "execute_result"
    }
   ],
   "source": [
    "(lambda x: x + 1)(1)"
   ]
  },
  {
   "cell_type": "code",
   "execution_count": 61,
   "metadata": {},
   "outputs": [
    {
     "data": {
      "text/plain": [
       "2"
      ]
     },
     "execution_count": 61,
     "metadata": {},
     "output_type": "execute_result"
    }
   ],
   "source": [
    "hasil = lambda x : x + 1\n",
    "hasil(1)"
   ]
  },
  {
   "cell_type": "code",
   "execution_count": 62,
   "metadata": {},
   "outputs": [
    {
     "name": "stdout",
     "output_type": "stream",
     "text": [
      "8\n"
     ]
    }
   ],
   "source": [
    "def nilai(y):\n",
    "    return lambda x : x + y\n",
    "\n",
    "jumlah = nilai(3)\n",
    "print(jumlah(5)) # 5 menyimpan nilai pada variable x"
   ]
  },
  {
   "cell_type": "code",
   "execution_count": 63,
   "metadata": {},
   "outputs": [
    {
     "data": {
      "text/plain": [
       "29"
      ]
     },
     "execution_count": 63,
     "metadata": {},
     "output_type": "execute_result"
    }
   ],
   "source": [
    "(lambda x, y, z: x + y * z)(2, 3, 9)"
   ]
  },
  {
   "cell_type": "code",
   "execution_count": 64,
   "metadata": {},
   "outputs": [
    {
     "data": {
      "text/plain": [
       "'Nama: Rafli Dewanto'"
      ]
     },
     "execution_count": 64,
     "metadata": {},
     "output_type": "execute_result"
    }
   ],
   "source": [
    "(lambda nama_depan, nama_belakang: f'Nama: {nama_depan.capitalize()} {nama_belakang.capitalize()}')('rafli', 'dewanto')\n"
   ]
  },
  {
   "cell_type": "code",
   "execution_count": 65,
   "metadata": {
    "scrolled": true
   },
   "outputs": [
    {
     "data": {
      "text/plain": [
       "5"
      ]
     },
     "execution_count": 65,
     "metadata": {},
     "output_type": "execute_result"
    }
   ],
   "source": [
    "(lambda x, y: x if x > y else y)(4,5)"
   ]
  },
  {
   "cell_type": "code",
   "execution_count": 66,
   "metadata": {},
   "outputs": [
    {
     "name": "stdout",
     "output_type": "stream",
     "text": [
      "[1, 4, 9, 16, 25, 36, 49, 64, 81]\n"
     ]
    }
   ],
   "source": [
    "daftar = [1,2,3,4,5,6,7,8,9]\n",
    "daftar_bilangan = map(lambda x: x * x, daftar)\n",
    "print(list(daftar_bilangan))\n",
    "# iterable = [a1,a2,a3.....an]\n",
    "# map(function,iterable)\n",
    "# function(a1)\n",
    "# function(a2)\n",
    "# function(a3)....function(an)"
   ]
  },
  {
   "cell_type": "code",
   "execution_count": 67,
   "metadata": {
    "scrolled": true
   },
   "outputs": [
    {
     "name": "stdout",
     "output_type": "stream",
     "text": [
      "(2, 4, 6, 8)\n"
     ]
    }
   ],
   "source": [
    "daftar = [1,2,3,4,5,6,7,8,9]\n",
    "print(tuple(filter(lambda x: x % 2 == 0, daftar)))"
   ]
  },
  {
   "cell_type": "code",
   "execution_count": 68,
   "metadata": {},
   "outputs": [
    {
     "name": "stdout",
     "output_type": "stream",
     "text": [
      "Rata-rata = 76.17\n",
      "Nilai yang kurang dari rata-rata: [74, 60, 50, 40, 67, 32, 56]\n",
      "Modus dari list nilai = 87\n",
      "Median dari list nilai = 82.0\n"
     ]
    }
   ],
   "source": [
    "import statistics as st\n",
    "\n",
    "list_nilai = [97,80,87,84,74,93,100,60,87,50,80,40,100,97,87,67,32,56]\n",
    "rata_rata = st.mean(list_nilai)\n",
    "print(f\"Rata-rata = {round(rata_rata,2)}\")\n",
    "print(\"Nilai yang kurang dari rata-rata: \",end=\"\")\n",
    "print(list(filter(lambda x: x < rata_rata, list_nilai)))\n",
    "\n",
    "modus = st.mode(list_nilai)\n",
    "median = st.median(list_nilai)\n",
    "print(f\"Modus dari list nilai = {modus}\")\n",
    "print(f\"Median dari list nilai = {median}\")"
   ]
  },
  {
   "cell_type": "code",
   "execution_count": 69,
   "metadata": {},
   "outputs": [
    {
     "name": "stdout",
     "output_type": "stream",
     "text": [
      "8\n"
     ]
    }
   ],
   "source": [
    "fungsi_tingkat_tinggi = lambda konstanta, fungsi: konstanta + fungsi(konstanta)\n",
    "fungsi = fungsi_tingkat_tinggi(2, lambda x: x * 3)\n",
    "# 2 + 2 * 3\n",
    "print(f'{fungsi}')"
   ]
  },
  {
   "cell_type": "code",
   "execution_count": null,
   "metadata": {},
   "outputs": [],
   "source": [
    "class Orang:\n",
    "    # ! __init__ merupakan constructor yang akan meng-inisialisasi sebuah method/fungsi\n",
    "    def __init__(self, nama_depan, nama_belekang, npm, jurusan): \n",
    "        self.nama_depan = nama_depan\n",
    "        self.nama_belakang = nama_belekang\n",
    "        self.npm = npm\n",
    "        self.jurusan = jurusan\n",
    "    \n",
    "    def print_nama(self):\n",
    "        print(f\"Nama : {self.nama_depan} {self.nama_belakang}\")\n",
    "        print(f\"NPM : {self.npm}\")\n",
    "        print(f\"Jurusan : {self.jurusan}\")\n",
    "    \n",
    "class Mahasiswa (Orang):\n",
    "    def belajar(self):\n",
    "        print(f\"{self.nama_depan} sedang belajar fungsi python🤓\")\n",
    "\n",
    "# // ini 👇🏻 namanya objek, \"x\" merupakan instance dari class Mahasiswa \\\\ #\n",
    "x = Mahasiswa('Rafli', 'Dewanto', 51421208, \"Informatika\") \n",
    "# // ini 👇🏻 namanya field karena sebuah data terikat pada sebuah objek \\\\ #\n",
    "x.print_nama()\n",
    "x.belajar()"
   ]
  },
  {
   "cell_type": "code",
   "execution_count": 1,
   "metadata": {},
   "outputs": [],
   "source": [
    "import pandas as pd "
   ]
  },
  {
   "cell_type": "markdown",
   "metadata": {},
   "source": [
    "# File Handling"
   ]
  },
  {
   "cell_type": "markdown",
   "metadata": {},
   "source": [
    "Fungsi utama untuk bekerja dengan file dalam Python adalah fungsi open().\n",
    "\n",
    "Fungsi open() mengambil dua parameter; nama file, dan modus."
   ]
  },
  {
   "cell_type": "markdown",
   "metadata": {},
   "source": [
    "Ada empat metode (modus) yang berbeda untuk membuka file:\n",
    "\n",
    "\"r\" - read - Nilai default. Membuka file untuk membaca, kesalahan jika file tidak ada\n",
    "\n",
    "\"a\" - append - Membuka file untuk ditambahkan, membuat file jika tidak ada\n",
    "\n",
    "\"w\" - write - Membuka file untuk ditulis, membuat file jika tidak ada\n",
    "\n",
    "\"x\" - create - Membuat file yang ditentukan, mengembalikan kesalahan jika file ada"
   ]
  },
  {
   "cell_type": "code",
   "execution_count": 93,
   "metadata": {},
   "outputs": [
    {
     "name": "stdout",
     "output_type": "stream",
     "text": [
      "Input nama file yang ingin dibuka: test.txt\n",
      "Isi file \"test.txt\":\n",
      "Halo! nama saya Rafli\n",
      "Mode file: r\n"
     ]
    }
   ],
   "source": [
    "nama_file = input(\"Input nama file yang ingin dibuka: \")\n",
    "f = open(f\"/Users/raflidewanto/Desktop/{nama_file}\", \"r\") \n",
    "print(f\"Isi file \\\"test.txt\\\":\\n{f.read()}\")\n",
    "print(f\"Mode file: {f.mode}\")\n",
    "f.close()"
   ]
  },
  {
   "cell_type": "code",
   "execution_count": 23,
   "metadata": {},
   "outputs": [
    {
     "name": "stdout",
     "output_type": "stream",
     "text": [
      "Input nama file yang ingin dibuka: test.txt\n",
      "Halo! nama saya Rafli\n"
     ]
    }
   ],
   "source": [
    "nama_file = input(\"Input nama file yang ingin dibuka: \")\n",
    "try:\n",
    "    f = open(f\"/Users/raflidewanto/Desktop/{nama_file}\", \"r\")\n",
    "    print(f.readline())\n",
    "except FileNotFoundError:\n",
    "    print(\"File tidak ada/ada kesalahan penulisan file\")"
   ]
  },
  {
   "cell_type": "code",
   "execution_count": 22,
   "metadata": {
    "scrolled": true
   },
   "outputs": [
    {
     "name": "stdout",
     "output_type": "stream",
     "text": [
      "Date,Open,High,Low,Close,Volume,Adj Close\n",
      "8/19/2014,585.002622,587.342658,584.002627,586.862643,978600,586.862643\n",
      "8/18/2014,576.11258,584.512631,576.002598,582.162619,1284100,582.162619\n",
      "8/15/2014,577.862619,579.382595,570.522603,573.482626,1519100,573.482626\n",
      "8/14/2014,576.182596,577.902645,570.882599,574.652582,985400,574.652582\n",
      "8/13/2014,567.312567,575.002602,565.752564,574.782577,1439200,574.782577\n",
      "8/12/2014,564.522567,565.902572,560.882518,562.732562,1542000,562.732562\n",
      "8/11/2014,569.992585,570.492553,566.002578,567.882551,1214700,567.882551\n",
      "8/8/2014,563.562536,570.252576,560.352561,568.772565,1494700,568.772565\n",
      "8/7/2014,568.00257,569.89258,561.102543,563.362525,1110900,563.362525\n",
      "8/6/2014,561.782569,570.702601,560.002541,566.376589,1334300,566.376589\n",
      "8/5/2014,570.052564,571.982601,562.612543,565.072537,1551200,565.072537\n",
      "8/4/2014,569.042592,575.352622,564.102531,573.152619,1427300,573.152619\n",
      "8/1/2014,570.402584,575.962633,562.85252,566.072533,1955200,566.072533\n",
      "7/31/2014,580.602616,583.652668,570.002561,571.602592,2102700,571.602592\n",
      "7/30/2014,586.55265,589.502696,584.002627,587.42265,1016400,587.42265\n",
      "7/29/2014,588.752653,589.702646,583.517654,585.612633,1349800,585.612633\n",
      "7/28/2014,588.072688,592.502683,584.755668,590.602697,986800,590.602697\n",
      "7/25/2014,590.402686,591.862684,587.032665,589.022681,932400,589.022681\n",
      "7/24/2014,596.452725,599.502716,591.772654,593.352671,1035100,593.352671\n",
      "7/23/2014,593.232713,597.852683,592.502683,595.982686,1233100,595.982686\n",
      "\n"
     ]
    }
   ],
   "source": [
    "file = open('/Users/raflidewanto/Downloads/Google Stock Market Data.csv', 'r')\n",
    "print (file.read(1485))"
   ]
  },
  {
   "cell_type": "code",
   "execution_count": 69,
   "metadata": {},
   "outputs": [
    {
     "data": {
      "text/html": [
       "<div>\n",
       "<style scoped>\n",
       "    .dataframe tbody tr th:only-of-type {\n",
       "        vertical-align: middle;\n",
       "    }\n",
       "\n",
       "    .dataframe tbody tr th {\n",
       "        vertical-align: top;\n",
       "    }\n",
       "\n",
       "    .dataframe thead th {\n",
       "        text-align: right;\n",
       "    }\n",
       "</style>\n",
       "<table border=\"1\" class=\"dataframe\">\n",
       "  <thead>\n",
       "    <tr style=\"text-align: right;\">\n",
       "      <th></th>\n",
       "      <th>NPM</th>\n",
       "      <th>Nama</th>\n",
       "      <th>Kelas</th>\n",
       "      <th>Jurusan</th>\n",
       "    </tr>\n",
       "  </thead>\n",
       "  <tbody>\n",
       "    <tr>\n",
       "      <th>0</th>\n",
       "      <td>50420482</td>\n",
       "      <td>Abdul Rifai Natanegara</td>\n",
       "      <td>2IA08</td>\n",
       "      <td>S1 - Teknik Informatika</td>\n",
       "    </tr>\n",
       "    <tr>\n",
       "      <th>1</th>\n",
       "      <td>11521492</td>\n",
       "      <td>Nurdin Hasjim Johanes</td>\n",
       "      <td>1PA23</td>\n",
       "      <td>S1 - Psikologi</td>\n",
       "    </tr>\n",
       "    <tr>\n",
       "      <th>2</th>\n",
       "      <td>39119382</td>\n",
       "      <td>Amelia Kurniawan</td>\n",
       "      <td>3MI01</td>\n",
       "      <td>D3 - Manajemen Informatika</td>\n",
       "    </tr>\n",
       "    <tr>\n",
       "      <th>3</th>\n",
       "      <td>46920482</td>\n",
       "      <td>Eddy Handoko</td>\n",
       "      <td>2KD03</td>\n",
       "      <td>S1 - Kedokteran</td>\n",
       "    </tr>\n",
       "    <tr>\n",
       "      <th>4</th>\n",
       "      <td>52812103</td>\n",
       "      <td>Farhan Zainal Ramadan</td>\n",
       "      <td>1IK01</td>\n",
       "      <td>S1 - Ilmu Komputer</td>\n",
       "    </tr>\n",
       "    <tr>\n",
       "      <th>5</th>\n",
       "      <td>51419202</td>\n",
       "      <td>Giovani Maria Ekaputra Suhari</td>\n",
       "      <td>4IA02</td>\n",
       "      <td>S1 - Teknik Informatika</td>\n",
       "    </tr>\n",
       "    <tr>\n",
       "      <th>6</th>\n",
       "      <td>29219492</td>\n",
       "      <td>Christian Iskandar</td>\n",
       "      <td>4TM03</td>\n",
       "      <td>S1 - Teknik Mesin</td>\n",
       "    </tr>\n",
       "    <tr>\n",
       "      <th>7</th>\n",
       "      <td>49219314</td>\n",
       "      <td>Brian Prasetyo</td>\n",
       "      <td>3DB16</td>\n",
       "      <td>S1 - Teknik Industri</td>\n",
       "    </tr>\n",
       "    <tr>\n",
       "      <th>8</th>\n",
       "      <td>11249302</td>\n",
       "      <td>Cassandra Elly Lestari</td>\n",
       "      <td>1KA22</td>\n",
       "      <td>S2 - Sistem Informasi</td>\n",
       "    </tr>\n",
       "    <tr>\n",
       "      <th>9</th>\n",
       "      <td>29421390</td>\n",
       "      <td>Arif Setiawan</td>\n",
       "      <td>2MT10</td>\n",
       "      <td>S1 - Matematika</td>\n",
       "    </tr>\n",
       "  </tbody>\n",
       "</table>\n",
       "</div>"
      ],
      "text/plain": [
       "        NPM                           Nama  Kelas                     Jurusan\n",
       "0  50420482         Abdul Rifai Natanegara  2IA08     S1 - Teknik Informatika\n",
       "1  11521492          Nurdin Hasjim Johanes  1PA23              S1 - Psikologi\n",
       "2  39119382               Amelia Kurniawan  3MI01  D3 - Manajemen Informatika\n",
       "3  46920482                   Eddy Handoko  2KD03             S1 - Kedokteran\n",
       "4  52812103          Farhan Zainal Ramadan  1IK01          S1 - Ilmu Komputer\n",
       "5  51419202  Giovani Maria Ekaputra Suhari  4IA02     S1 - Teknik Informatika\n",
       "6  29219492             Christian Iskandar  4TM03           S1 - Teknik Mesin\n",
       "7  49219314                 Brian Prasetyo  3DB16        S1 - Teknik Industri\n",
       "8  11249302         Cassandra Elly Lestari  1KA22       S2 - Sistem Informasi\n",
       "9  29421390                  Arif Setiawan  2MT10             S1 - Matematika"
      ]
     },
     "execution_count": 69,
     "metadata": {},
     "output_type": "execute_result"
    }
   ],
   "source": [
    "filename = \"/Users/raflidewanto/Downloads/Data mahasiswa.xlsx\"\n",
    "df = pd.read_excel(filename, sheet_name = \"Sheet1\", engine='openpyxl')\n",
    "df.head(10)"
   ]
  },
  {
   "cell_type": "code",
   "execution_count": 30,
   "metadata": {},
   "outputs": [],
   "source": [
    "df = pd.read_excel (r'/Users/raflidewanto/Downloads/gajikaryawan.xlsx')"
   ]
  },
  {
   "cell_type": "code",
   "execution_count": 34,
   "metadata": {},
   "outputs": [
    {
     "data": {
      "text/html": [
       "<div>\n",
       "<style scoped>\n",
       "    .dataframe tbody tr th:only-of-type {\n",
       "        vertical-align: middle;\n",
       "    }\n",
       "\n",
       "    .dataframe tbody tr th {\n",
       "        vertical-align: top;\n",
       "    }\n",
       "\n",
       "    .dataframe thead th {\n",
       "        text-align: right;\n",
       "    }\n",
       "</style>\n",
       "<table border=\"1\" class=\"dataframe\">\n",
       "  <thead>\n",
       "    <tr style=\"text-align: right;\">\n",
       "      <th></th>\n",
       "      <th>No</th>\n",
       "      <th>Nama</th>\n",
       "      <th>Golongan</th>\n",
       "      <th>Masa Kerja (Tahun)</th>\n",
       "      <th>Status Pernikahan</th>\n",
       "      <th>Gaji Pokok</th>\n",
       "    </tr>\n",
       "  </thead>\n",
       "  <tbody>\n",
       "    <tr>\n",
       "      <th>0</th>\n",
       "      <td>1</td>\n",
       "      <td>Agustinus Wibowo</td>\n",
       "      <td>A</td>\n",
       "      <td>10</td>\n",
       "      <td>Menikah</td>\n",
       "      <td>7000000</td>\n",
       "    </tr>\n",
       "    <tr>\n",
       "      <th>1</th>\n",
       "      <td>2</td>\n",
       "      <td>Rahmat Effendi</td>\n",
       "      <td>A</td>\n",
       "      <td>8</td>\n",
       "      <td>Menikah</td>\n",
       "      <td>7000000</td>\n",
       "    </tr>\n",
       "    <tr>\n",
       "      <th>2</th>\n",
       "      <td>3</td>\n",
       "      <td>Faisal Agung</td>\n",
       "      <td>A</td>\n",
       "      <td>9</td>\n",
       "      <td>Belum Menikah</td>\n",
       "      <td>7000000</td>\n",
       "    </tr>\n",
       "    <tr>\n",
       "      <th>3</th>\n",
       "      <td>4</td>\n",
       "      <td>Meidina Silfia</td>\n",
       "      <td>B</td>\n",
       "      <td>5</td>\n",
       "      <td>Menikah</td>\n",
       "      <td>5000000</td>\n",
       "    </tr>\n",
       "    <tr>\n",
       "      <th>4</th>\n",
       "      <td>5</td>\n",
       "      <td>Cantika Wardani</td>\n",
       "      <td>B</td>\n",
       "      <td>6</td>\n",
       "      <td>Menikah</td>\n",
       "      <td>5000000</td>\n",
       "    </tr>\n",
       "    <tr>\n",
       "      <th>5</th>\n",
       "      <td>6</td>\n",
       "      <td>Dita Saraswati</td>\n",
       "      <td>B</td>\n",
       "      <td>5</td>\n",
       "      <td>Belum Menikah</td>\n",
       "      <td>5000000</td>\n",
       "    </tr>\n",
       "    <tr>\n",
       "      <th>6</th>\n",
       "      <td>7</td>\n",
       "      <td>Denis Juliasari</td>\n",
       "      <td>B</td>\n",
       "      <td>4</td>\n",
       "      <td>Belum Menikah</td>\n",
       "      <td>5000000</td>\n",
       "    </tr>\n",
       "    <tr>\n",
       "      <th>7</th>\n",
       "      <td>8</td>\n",
       "      <td>Fajar Sentoro</td>\n",
       "      <td>B</td>\n",
       "      <td>6</td>\n",
       "      <td>Menikah</td>\n",
       "      <td>5000000</td>\n",
       "    </tr>\n",
       "    <tr>\n",
       "      <th>8</th>\n",
       "      <td>9</td>\n",
       "      <td>Hermawan Wijayanto</td>\n",
       "      <td>C</td>\n",
       "      <td>2</td>\n",
       "      <td>Belum Menikah</td>\n",
       "      <td>4500000</td>\n",
       "    </tr>\n",
       "    <tr>\n",
       "      <th>9</th>\n",
       "      <td>10</td>\n",
       "      <td>Berliana Wahyuni</td>\n",
       "      <td>C</td>\n",
       "      <td>3</td>\n",
       "      <td>Belum Menikah</td>\n",
       "      <td>4500000</td>\n",
       "    </tr>\n",
       "    <tr>\n",
       "      <th>10</th>\n",
       "      <td>11</td>\n",
       "      <td>Nur Faisal</td>\n",
       "      <td>C</td>\n",
       "      <td>1</td>\n",
       "      <td>Menikah</td>\n",
       "      <td>4500000</td>\n",
       "    </tr>\n",
       "    <tr>\n",
       "      <th>11</th>\n",
       "      <td>12</td>\n",
       "      <td>Fajriani Arif</td>\n",
       "      <td>C</td>\n",
       "      <td>2</td>\n",
       "      <td>Belum Menikah</td>\n",
       "      <td>4500000</td>\n",
       "    </tr>\n",
       "    <tr>\n",
       "      <th>12</th>\n",
       "      <td>13</td>\n",
       "      <td>Maya Larasati</td>\n",
       "      <td>C</td>\n",
       "      <td>3</td>\n",
       "      <td>Menikah</td>\n",
       "      <td>4500000</td>\n",
       "    </tr>\n",
       "    <tr>\n",
       "      <th>13</th>\n",
       "      <td>14</td>\n",
       "      <td>Muhammad Adnan</td>\n",
       "      <td>C</td>\n",
       "      <td>1</td>\n",
       "      <td>Belum Menikah</td>\n",
       "      <td>4500000</td>\n",
       "    </tr>\n",
       "    <tr>\n",
       "      <th>14</th>\n",
       "      <td>15</td>\n",
       "      <td>Ahmad Agung</td>\n",
       "      <td>C</td>\n",
       "      <td>2</td>\n",
       "      <td>Belum Menikah</td>\n",
       "      <td>4500000</td>\n",
       "    </tr>\n",
       "  </tbody>\n",
       "</table>\n",
       "</div>"
      ],
      "text/plain": [
       "    No                Nama Golongan  Masa Kerja (Tahun) Status Pernikahan  \\\n",
       "0    1    Agustinus Wibowo        A                  10           Menikah   \n",
       "1    2      Rahmat Effendi        A                   8           Menikah   \n",
       "2    3        Faisal Agung        A                   9     Belum Menikah   \n",
       "3    4      Meidina Silfia        B                   5           Menikah   \n",
       "4    5     Cantika Wardani        B                   6           Menikah   \n",
       "5    6      Dita Saraswati        B                   5     Belum Menikah   \n",
       "6    7     Denis Juliasari        B                   4     Belum Menikah   \n",
       "7    8       Fajar Sentoro        B                   6           Menikah   \n",
       "8    9  Hermawan Wijayanto        C                   2     Belum Menikah   \n",
       "9   10    Berliana Wahyuni        C                   3     Belum Menikah   \n",
       "10  11          Nur Faisal        C                   1           Menikah   \n",
       "11  12       Fajriani Arif        C                   2     Belum Menikah   \n",
       "12  13       Maya Larasati        C                   3           Menikah   \n",
       "13  14      Muhammad Adnan        C                   1     Belum Menikah   \n",
       "14  15         Ahmad Agung        C                   2     Belum Menikah   \n",
       "\n",
       "    Gaji Pokok  \n",
       "0      7000000  \n",
       "1      7000000  \n",
       "2      7000000  \n",
       "3      5000000  \n",
       "4      5000000  \n",
       "5      5000000  \n",
       "6      5000000  \n",
       "7      5000000  \n",
       "8      4500000  \n",
       "9      4500000  \n",
       "10     4500000  \n",
       "11     4500000  \n",
       "12     4500000  \n",
       "13     4500000  \n",
       "14     4500000  "
      ]
     },
     "execution_count": 34,
     "metadata": {},
     "output_type": "execute_result"
    }
   ],
   "source": [
    "df.head(15)"
   ]
  },
  {
   "cell_type": "code",
   "execution_count": 92,
   "metadata": {
    "scrolled": true
   },
   "outputs": [
    {
     "name": "stdout",
     "output_type": "stream",
     "text": [
      "Halo! nama saya Rafli\n"
     ]
    }
   ],
   "source": [
    "with open(f\"/Users/raflidewanto/Desktop/test.txt\", \"r\") as f:\n",
    "    print(f.read())    "
   ]
  },
  {
   "cell_type": "code",
   "execution_count": 36,
   "metadata": {
    "scrolled": true
   },
   "outputs": [
    {
     "name": "stdout",
     "output_type": "stream",
     "text": [
      "Rafli sedang belajar.\n"
     ]
    }
   ],
   "source": [
    "f = open('/Users/raflidewanto/Desktop/test2.txt', 'r')\n",
    "print(f.read())"
   ]
  },
  {
   "cell_type": "markdown",
   "metadata": {},
   "source": [
    "### Menggunakan modus \"a\" untuk menambahkan data pada file"
   ]
  },
  {
   "cell_type": "code",
   "execution_count": 3,
   "metadata": {},
   "outputs": [
    {
     "name": "stdout",
     "output_type": "stream",
     "text": [
      "File handling.\n"
     ]
    }
   ],
   "source": [
    "# Membuat file baru dengan ekstensi .txt\n",
    "f = open(\"/Users/raflidewanto/Desktop/test3.txt\", \"a\")\n",
    "f.write(\"File handling.\")\n",
    "f.close()\n",
    "\n",
    "f = open('/Users/raflidewanto/Desktop/test3.txt', 'r')\n",
    "print(f.read())"
   ]
  },
  {
   "cell_type": "code",
   "execution_count": 4,
   "metadata": {},
   "outputs": [
    {
     "name": "stdout",
     "output_type": "stream",
     "text": [
      "Rafli sedang belajar. file handling python.\n"
     ]
    }
   ],
   "source": [
    "f = open(\"/Users/raflidewanto/Desktop/test2.txt\", \"a\")\n",
    "f.write(\" file handling python.\") # menambahakan text pada file text2.txt\n",
    "f.close()\n",
    "\n",
    "f = open(\"/Users/raflidewanto/Desktop/test2.txt\", \"r\")\n",
    "print(f.read())"
   ]
  },
  {
   "cell_type": "markdown",
   "metadata": {},
   "source": [
    "### Modus \"w\" untuk overwrite data pada file"
   ]
  },
  {
   "cell_type": "code",
   "execution_count": 9,
   "metadata": {},
   "outputs": [
    {
     "name": "stdout",
     "output_type": "stream",
     "text": [
      "test overwrite file.txt\n"
     ]
    }
   ],
   "source": [
    "f = open(\"/Users/raflidewanto/Desktop/demofile.txt\", \"w\") # akan membuat file baru karena file dengan nama tersebut\n",
    "f.write(\"test overwrite file.txt\")                        # tidak ada.\n",
    "f.close()\n",
    "\n",
    "#open and read the file after the appending:\n",
    "f = open(\"/Users/raflidewanto/Desktop/demofile.txt\", \"r\")\n",
    "print(f.read())"
   ]
  },
  {
   "cell_type": "code",
   "execution_count": 4,
   "metadata": {},
   "outputs": [],
   "source": [
    "f = open(\"/Users/raflidewanto/Desktop/demofile2.txt\", \"x\") # membuat file .txt dengan isi kosong."
   ]
  },
  {
   "cell_type": "markdown",
   "metadata": {},
   "source": [
    "### Menghapus file"
   ]
  },
  {
   "cell_type": "code",
   "execution_count": 8,
   "metadata": {},
   "outputs": [
    {
     "ename": "FileNotFoundError",
     "evalue": "[Errno 2] No such file or directory: 'jupyter.txt'",
     "output_type": "error",
     "traceback": [
      "\u001b[0;31m---------------------------------------------------------------------------\u001b[0m",
      "\u001b[0;31mFileNotFoundError\u001b[0m                         Traceback (most recent call last)",
      "\u001b[0;32m/var/folders/vq/5zyclt6n1mn8qjx5k2gd86580000gn/T/ipykernel_4182/1569132912.py\u001b[0m in \u001b[0;36m<module>\u001b[0;34m\u001b[0m\n\u001b[1;32m      1\u001b[0m \u001b[0;32mimport\u001b[0m \u001b[0mos\u001b[0m\u001b[0;34m\u001b[0m\u001b[0;34m\u001b[0m\u001b[0m\n\u001b[0;32m----> 2\u001b[0;31m \u001b[0mos\u001b[0m\u001b[0;34m.\u001b[0m\u001b[0mremove\u001b[0m\u001b[0;34m(\u001b[0m\u001b[0;34m\"jupyter.txt\"\u001b[0m\u001b[0;34m)\u001b[0m\u001b[0;34m\u001b[0m\u001b[0;34m\u001b[0m\u001b[0m\n\u001b[0m",
      "\u001b[0;31mFileNotFoundError\u001b[0m: [Errno 2] No such file or directory: 'jupyter.txt'"
     ]
    }
   ],
   "source": [
    "import os\n",
    "os.remove(\"jupyter.txt\") # akan muncul FileNotFoundError karena file pada directory ini tidak ada."
   ]
  },
  {
   "cell_type": "code",
   "execution_count": 7,
   "metadata": {},
   "outputs": [
    {
     "name": "stdout",
     "output_type": "stream",
     "text": [
      "File tidak ditemukan.\n"
     ]
    }
   ],
   "source": [
    "import os\n",
    "if os.path.exists(\"python.txt\"):\n",
    "    os.remove(\"python.txt\")\n",
    "else:\n",
    "    print(\"File tidak ditemukan.\")"
   ]
  },
  {
   "cell_type": "markdown",
   "metadata": {},
   "source": [
    "# Exception Handling\n",
    "memungkinkan untuk menulis program yang menangani eksepsi yang dipilih. "
   ]
  },
  {
   "cell_type": "markdown",
   "metadata": {},
   "source": [
    "Blok __\"try\"__ memungkinkan Anda menguji blok kode untuk kesalahan.\n",
    "\n",
    "Blok __\"except\"__ memungkinkan Anda menangani kesalahan.\n",
    "\n",
    "Blok __\"else\"__ memungkinkan Anda mengeksekusi kode ketika tidak ada kesalahan.\n",
    "\n",
    "Blok __\"finally\"__ memungkinkan Anda mengeksekusi kode, terlepas dari hasil blok coba-dan-kecuali."
   ]
  },
  {
   "cell_type": "code",
   "execution_count": 3,
   "metadata": {},
   "outputs": [
    {
     "name": "stdout",
     "output_type": "stream",
     "text": [
      "Terjadi error\n"
     ]
    }
   ],
   "source": [
    "try:\n",
    "    print(x)\n",
    "except:\n",
    "    print(\"Terjadi error\") # akan terjadi error karena \"x\" tidak dideklarasi"
   ]
  },
  {
   "cell_type": "code",
   "execution_count": 4,
   "metadata": {},
   "outputs": [
    {
     "name": "stdout",
     "output_type": "stream",
     "text": [
      "Variabel x tidak dideklarasi\n"
     ]
    }
   ],
   "source": [
    "try:\n",
    "    print(x)\n",
    "except NameError:\n",
    "    print(\"Variabel x tidak dideklarasi\")\n",
    "except:\n",
    "    print(\"ada error yang lain\")"
   ]
  },
  {
   "cell_type": "code",
   "execution_count": 9,
   "metadata": {},
   "outputs": [
    {
     "name": "stdout",
     "output_type": "stream",
     "text": [
      "Hai\n",
      "Program selesai\n"
     ]
    }
   ],
   "source": [
    "try:\n",
    "    print(\"Hai\")\n",
    "except:\n",
    "    print(\"Ada error\")\n",
    "else:\n",
    "    print(\"Program selesai\")"
   ]
  },
  {
   "cell_type": "code",
   "execution_count": 6,
   "metadata": {},
   "outputs": [
    {
     "name": "stdout",
     "output_type": "stream",
     "text": [
      "Variabel x tidak dideklarasi\n",
      "Program selesai\n"
     ]
    }
   ],
   "source": [
    "try:\n",
    "    print(x)\n",
    "except:\n",
    "    print(\"Variabel x tidak dideklarasi\")\n",
    "finally: # blok finally akan tereksekusi walaupun terjadi error\n",
    "    print(\"Program selesai\")"
   ]
  },
  {
   "cell_type": "markdown",
   "metadata": {
    "tags": []
   },
   "source": [
    "### Raise an exception\n",
    "Kita dapat memilih untuk melempar eksepsi jika suatu kondisi terjadi.\n",
    "\n",
    "Untuk melempar (atau menaikkan) eksepsi, gunakan kata kunci _**raise**_."
   ]
  },
  {
   "cell_type": "code",
   "execution_count": 7,
   "metadata": {},
   "outputs": [
    {
     "ename": "Exception",
     "evalue": "bilangan harus positif!",
     "output_type": "error",
     "traceback": [
      "\u001b[0;31m---------------------------------------------------------------------------\u001b[0m",
      "\u001b[0;31mException\u001b[0m                                 Traceback (most recent call last)",
      "\u001b[0;32m/var/folders/vq/5zyclt6n1mn8qjx5k2gd86580000gn/T/ipykernel_1051/3815228640.py\u001b[0m in \u001b[0;36m<module>\u001b[0;34m\u001b[0m\n\u001b[1;32m      2\u001b[0m \u001b[0;34m\u001b[0m\u001b[0m\n\u001b[1;32m      3\u001b[0m \u001b[0;32mif\u001b[0m \u001b[0mx\u001b[0m \u001b[0;34m<\u001b[0m \u001b[0;36m0\u001b[0m\u001b[0;34m:\u001b[0m\u001b[0;34m\u001b[0m\u001b[0;34m\u001b[0m\u001b[0m\n\u001b[0;32m----> 4\u001b[0;31m     \u001b[0;32mraise\u001b[0m \u001b[0mException\u001b[0m\u001b[0;34m(\u001b[0m\u001b[0;34m\"bilangan harus positif!\"\u001b[0m\u001b[0;34m)\u001b[0m\u001b[0;34m\u001b[0m\u001b[0;34m\u001b[0m\u001b[0m\n\u001b[0m",
      "\u001b[0;31mException\u001b[0m: bilangan harus positif!"
     ]
    }
   ],
   "source": [
    "x = -1\n",
    "\n",
    "if x < 0:\n",
    "    raise Exception(\"bilangan harus positif!\")"
   ]
  },
  {
   "cell_type": "code",
   "execution_count": null,
   "metadata": {},
   "outputs": [],
   "source": [
    "while True:\n",
    "    try:\n",
    "        x = int(input(\"Masukkan bilangan bulat: \"))\n",
    "        break\n",
    "    except ValueError:\n",
    "        print(\"Input invalid.\")"
   ]
  },
  {
   "cell_type": "code",
   "execution_count": 55,
   "metadata": {},
   "outputs": [
    {
     "name": "stdout",
     "output_type": "stream",
     "text": [
      "Masukkan bilangan positif: -1\n"
     ]
    },
    {
     "ename": "ValueError",
     "evalue": "Bilangan harus positif!",
     "output_type": "error",
     "traceback": [
      "\u001b[0;31m---------------------------------------------------------------------------\u001b[0m",
      "\u001b[0;31mValueError\u001b[0m                                Traceback (most recent call last)",
      "\u001b[0;32m/var/folders/vq/5zyclt6n1mn8qjx5k2gd86580000gn/T/ipykernel_63408/408151937.py\u001b[0m in \u001b[0;36m<module>\u001b[0;34m\u001b[0m\n\u001b[1;32m      2\u001b[0m \u001b[0;34m\u001b[0m\u001b[0m\n\u001b[1;32m      3\u001b[0m \u001b[0;32mif\u001b[0m \u001b[0mbil_user\u001b[0m \u001b[0;34m<\u001b[0m \u001b[0;36m0\u001b[0m\u001b[0;34m:\u001b[0m\u001b[0;34m\u001b[0m\u001b[0;34m\u001b[0m\u001b[0m\n\u001b[0;32m----> 4\u001b[0;31m     \u001b[0;32mraise\u001b[0m \u001b[0mValueError\u001b[0m\u001b[0;34m(\u001b[0m\u001b[0;34m\"Bilangan harus positif!\"\u001b[0m\u001b[0;34m)\u001b[0m\u001b[0;34m\u001b[0m\u001b[0;34m\u001b[0m\u001b[0m\n\u001b[0m\u001b[1;32m      5\u001b[0m \u001b[0;32melse\u001b[0m\u001b[0;34m:\u001b[0m\u001b[0;34m\u001b[0m\u001b[0;34m\u001b[0m\u001b[0m\n\u001b[1;32m      6\u001b[0m     \u001b[0mprint\u001b[0m\u001b[0;34m(\u001b[0m\u001b[0mbil_user\u001b[0m\u001b[0;34m)\u001b[0m\u001b[0;34m\u001b[0m\u001b[0;34m\u001b[0m\u001b[0m\n",
      "\u001b[0;31mValueError\u001b[0m: Bilangan harus positif!"
     ]
    }
   ],
   "source": [
    "bil_user = int(input(\"Masukkan bilangan positif: \"))\n",
    "\n",
    "if bil_user < 0:\n",
    "    raise ValueError(\"Bilangan harus positif!\")\n",
    "else:\n",
    "    print(bil_user)"
   ]
  },
  {
   "cell_type": "code",
   "execution_count": 4,
   "metadata": {},
   "outputs": [
    {
     "name": "stdout",
     "output_type": "stream",
     "text": [
      "Input bilangan yang ingin dikuadratkan ☞-1\n"
     ]
    },
    {
     "ename": "AssertionError",
     "evalue": "Input harus bilangan positif!",
     "output_type": "error",
     "traceback": [
      "\u001b[0;31m---------------------------------------------------------------------------\u001b[0m",
      "\u001b[0;31mAssertionError\u001b[0m                            Traceback (most recent call last)",
      "\u001b[0;32m/var/folders/vq/5zyclt6n1mn8qjx5k2gd86580000gn/T/ipykernel_2100/3755258635.py\u001b[0m in \u001b[0;36m<module>\u001b[0;34m\u001b[0m\n\u001b[1;32m      4\u001b[0m \u001b[0;34m\u001b[0m\u001b[0m\n\u001b[1;32m      5\u001b[0m \u001b[0mevaluate\u001b[0m \u001b[0;34m=\u001b[0m \u001b[0mfloat\u001b[0m\u001b[0;34m(\u001b[0m\u001b[0minput\u001b[0m\u001b[0;34m(\u001b[0m\u001b[0;34m\"Input bilangan yang ingin dikuadratkan ☞\"\u001b[0m\u001b[0;34m)\u001b[0m\u001b[0;34m)\u001b[0m\u001b[0;34m\u001b[0m\u001b[0;34m\u001b[0m\u001b[0m\n\u001b[0;32m----> 6\u001b[0;31m \u001b[0mprint\u001b[0m\u001b[0;34m(\u001b[0m\u001b[0mkuadrat\u001b[0m\u001b[0;34m(\u001b[0m\u001b[0mevaluate\u001b[0m\u001b[0;34m)\u001b[0m\u001b[0;34m)\u001b[0m\u001b[0;34m\u001b[0m\u001b[0;34m\u001b[0m\u001b[0m\n\u001b[0m",
      "\u001b[0;32m/var/folders/vq/5zyclt6n1mn8qjx5k2gd86580000gn/T/ipykernel_2100/3755258635.py\u001b[0m in \u001b[0;36mkuadrat\u001b[0;34m(x)\u001b[0m\n\u001b[1;32m      1\u001b[0m \u001b[0;32mdef\u001b[0m \u001b[0mkuadrat\u001b[0m\u001b[0;34m(\u001b[0m\u001b[0mx\u001b[0m\u001b[0;34m)\u001b[0m\u001b[0;34m:\u001b[0m\u001b[0;34m\u001b[0m\u001b[0;34m\u001b[0m\u001b[0m\n\u001b[0;32m----> 2\u001b[0;31m     \u001b[0;32massert\u001b[0m \u001b[0mx\u001b[0m\u001b[0;34m>=\u001b[0m\u001b[0;36m0\u001b[0m\u001b[0;34m,\u001b[0m \u001b[0;34m'Input harus bilangan positif!'\u001b[0m \u001b[0;31m# mengecek apakah x>=0 jika false akan raise AssertionError\u001b[0m\u001b[0;34m\u001b[0m\u001b[0;34m\u001b[0m\u001b[0m\n\u001b[0m\u001b[1;32m      3\u001b[0m     \u001b[0;32mreturn\u001b[0m \u001b[0mx\u001b[0m\u001b[0;34m*\u001b[0m\u001b[0mx\u001b[0m\u001b[0;34m\u001b[0m\u001b[0;34m\u001b[0m\u001b[0m\n\u001b[1;32m      4\u001b[0m \u001b[0;34m\u001b[0m\u001b[0m\n\u001b[1;32m      5\u001b[0m \u001b[0mevaluate\u001b[0m \u001b[0;34m=\u001b[0m \u001b[0mfloat\u001b[0m\u001b[0;34m(\u001b[0m\u001b[0minput\u001b[0m\u001b[0;34m(\u001b[0m\u001b[0;34m\"Input bilangan yang ingin dikuadratkan ☞\"\u001b[0m\u001b[0;34m)\u001b[0m\u001b[0;34m)\u001b[0m\u001b[0;34m\u001b[0m\u001b[0;34m\u001b[0m\u001b[0m\n",
      "\u001b[0;31mAssertionError\u001b[0m: Input harus bilangan positif!"
     ]
    }
   ],
   "source": [
    "def kuadrat(x):\n",
    "    assert x >= 0, 'Input harus bilangan positif!' # mengecek apakah x >= 0 jika false akan raise AssertionError\n",
    "    return x * x\n",
    "\n",
    "evaluate = float(input(\"Input bilangan yang ingin dikuadratkan ☞\"))\n",
    "print(kuadrat(evaluate))"
   ]
  },
  {
   "cell_type": "markdown",
   "metadata": {},
   "source": [
    "# Kalkulator sederhana"
   ]
  },
  {
   "cell_type": "code",
   "execution_count": null,
   "metadata": {},
   "outputs": [],
   "source": [
    "import math\n",
    "from IPython.display import clear_output\n",
    "import os\n",
    "\n",
    "def hitung(a):\n",
    "    return eval(a)\n",
    "\n",
    "def akar_kuadrat(a):\n",
    "    return math.sqrt(a)\n",
    "\n",
    "def akar_pangkat_tiga(a):\n",
    "    return round(math.pow(a,1/3))\n",
    "\n",
    "def faktorial(a):\n",
    "    return math.factorial(a)\n",
    "\n",
    "def permutasi(a,b):\n",
    "    return math.perm(a,b)\n",
    "\n",
    "def kombinasi(a,b):\n",
    "    return math.comb(a,b)\n",
    "\n",
    "def sinus(a):\n",
    "# python mengasumsikan nilai yang kita input ke math.sin() merupakan dalam bentuk radian, \n",
    "# jadi harus kita konversi nilai derajat ke dalam bentuk radian begitu juga dengan fungsi cos dan tan.\n",
    "    return math.sin(math.radians(a))\n",
    "\n",
    "def cosinus(a):\n",
    "    return math.cos(math.radians(a)) \n",
    "\n",
    "def tangen(a):\n",
    "    return math.tan(math.radians(a)) \n",
    "\n",
    "def ulang():\n",
    "        lanjut = input(\"\\nLakukan perhitungan kembali? (y/n): \").lower().strip()\n",
    "        if lanjut == \"y\":\n",
    "            os.system('clear')\n",
    "            kalkulator()\n",
    "        elif lanjut == \"n\":\n",
    "            quit()\n",
    "        else:\n",
    "            print(\"Invalid input!\")\n",
    "            ulang()\n",
    "\n",
    "def cek_ganjil_genap(a):\n",
    "    if a % 2 == 0:\n",
    "        return f\"{a} merupakan angka genap.\"\n",
    "    else:\n",
    "        return f\"{a} merupakan angka ganjil.\"\n",
    "\n",
    "\n",
    "\n",
    "def kalkulator():\n",
    "    print(\"\"\"➕✖️➖➗ PROGRAM KALKULATOR ➗➖✖️➕\n",
    " _____________________\n",
    "|  _________________  |\n",
    "| |     WELCOME     | |\n",
    "| |_________________| |\n",
    "|  ___ ___ ___   ___  |\n",
    "| | 7 | 8 | 9 | | + | |\n",
    "| |___|___|___| |___| |\n",
    "| | 4 | 5 | 6 | | - | |\n",
    "| |___|___|___| |___| |\n",
    "| | 1 | 2 | 3 | | x | |\n",
    "| |___|___|___| |___| |\n",
    "| | . | 0 | = | | / | |\n",
    "| |___|___|___| |___| |\n",
    "|_____________________|\n",
    "\"\"\")\n",
    "    print(\"\"\"\n",
    "Pilih operasi matematika:\n",
    "1. Kalkulasi sederhana(+-x÷^)\n",
    "2. Akar Kuadrat\n",
    "3. Akar Pangkat 3\n",
    "4. Faktorial\n",
    "5. Permutasi\n",
    "6. Kombinasi\n",
    "7. Nilai sin dari suatu derajat\n",
    "8. Nilai cos dari suatu derajat\n",
    "9. Nilai tan dari suatu derajat\n",
    "    \"\"\")\n",
    "    pilih = input(\"Operasi apa yang Anda ingin lakukan?(1/2/3/4/5/6/7/8):\")\n",
    "    print()\n",
    "    if pilih == \"1\":\n",
    "        print(\"KALKULASI SEDERHANA\")\n",
    "        kalkulasi = input(\"Masukkan angka yang ingin dihitung:\\n\")\n",
    "        print(f\"\\nHasil = {hitung(kalkulasi)}\")\n",
    "        print(cek_ganjil_genap(hitung(kalkulasi)))\n",
    "        \n",
    "    elif pilih == \"2\":\n",
    "        print(\"AKAR PANGKAT\")\n",
    "        angka1 = int(input(\"Masukkan angka: \"))\n",
    "        print(f\"\\nHasil akar kuadrat dari {angka1} = {akar_kuadrat(angka1)}\")\n",
    "        print(cek_ganjil_genap(akar_kuadrat(angka1)))\n",
    "        \n",
    "    elif pilih == \"3\":\n",
    "        print(\"AKAR PANGKAT TIGA\")\n",
    "        angka1 = int(input(\"Masukkan angka: \"))\n",
    "        print(f\"\\nHasil akar pangkat tiga dari {angka1} = {akar_pangkat_tiga(angka1)}\")\n",
    "        print(cek_ganjil_genap(akar_pangkat_tiga(angka1)))\n",
    "        \n",
    "    elif pilih == \"4\":\n",
    "        print(\"FAKTORIAL\")\n",
    "        angka1 = int(input(\"Masukkan angka yang Anda ingin cari faktorialnya: \"))\n",
    "        print(f\"\\nFaktorial dari {angka1} = {faktorial(angka1)}\")\n",
    "        print(cek_ganjil_genap(faktorial(angka1)))\n",
    "        \n",
    "    elif pilih == \"5\":\n",
    "        print(\"PERMUTASI\")\n",
    "        angka1 = int(input(\"Masukkan angka pertama: \"))\n",
    "        angka2 = int(input(\"Masukkan angka kedua: \"))\n",
    "        print(f\"\\nHasil permutasi {angka1}P{angka2} = {permutasi(angka1, angka2)}\")\n",
    "        print(cek_ganjil_genap(permutasi(angka1, angka2)))\n",
    "        \n",
    "    elif pilih == \"6\":\n",
    "        print(\"KOMBINASI\")\n",
    "        angka1 = int(input(\"Masukkan angka pertama: \"))\n",
    "        angka2 = int(input(\"Masukkan angka kedua: \"))\n",
    "        print(f\"\\nHasil kombinasi {angka1}C{angka2} = {kombinasi(angka1, angka2)}\")\n",
    "        print(cek_ganjil_genap(kombinasi(angka1, angka2)))\n",
    "        \n",
    "    elif pilih == \"7\":\n",
    "        print(\"NILAI SIN X˚\")\n",
    "        angka1 = int(input(\"Masukkan derajat: \"))\n",
    "        print(f\"\\nsin {angka1}˚ = {sinus(angka1)}\")\n",
    "        \n",
    "    elif pilih == \"8\":\n",
    "        print(\"NILAI COS X˚\")\n",
    "        angka1 = int(input(\"Masukkan derajat: \"))\n",
    "        print(f\"\\ncos {angka1}˚ = {cosinus(angka1)}\")\n",
    "        \n",
    "    elif pilih == \"9\":\n",
    "        print(\"NILAI TAN X˚\")\n",
    "        angka1 = int(input(\"Masukkan derajat: \"))\n",
    "        if angka1 == 90 or angka1 == 270:\n",
    "            print(f\"\\ntan {angka1}˚ = Tidak terdefinisi💀\")\n",
    "        else:\n",
    "            print(f\"\\ntan {angka1}˚ = {tangen(angka1)}\")\n",
    "    else:\n",
    "        print(\"pilihan yang Anda input tidak ada.\")\n",
    "         \n",
    "    ulang()\n",
    "     \n",
    "kalkulator()"
   ]
  },
  {
   "cell_type": "markdown",
   "metadata": {},
   "source": [
    "# Ganjil Genap"
   ]
  },
  {
   "cell_type": "code",
   "execution_count": 70,
   "metadata": {},
   "outputs": [
    {
     "name": "stdout",
     "output_type": "stream",
     "text": [
      "\n",
      "Masukkan angka yang ingin dicek ganjil/genap🤔:  4\n",
      "4 merupakan angka genap.\n",
      "Lakukan pengecekan kembali?(y/n):  n\n"
     ]
    }
   ],
   "source": [
    "from IPython.display import clear_output as clear\n",
    "\n",
    "def cek_ganjil_genap(a):\n",
    "    if a % 2 == 0:\n",
    "        return f\"{a} merupakan angka genap.\"\n",
    "    else:\n",
    "        return f\"{a} merupakan angka ganjil.\"\n",
    "\n",
    "def main():\n",
    "    try:\n",
    "        bil = int(input(\"\\nMasukkan angka yang ingin dicek ganjil/genap🤔: \"))\n",
    "        print(cek_ganjil_genap(bil))\n",
    "        lanjut = input(\"Lakukan pengecekan kembali?(y/n): \").lower().strip()\n",
    "        while lanjut == 'y':\n",
    "            clear()\n",
    "            main()\n",
    "            breakb\n",
    "\n",
    "    except ValueError:\n",
    "        print(\"Tidak bisa cek ganjil genap pada floating point/yang Anda input bukan bilangan bulat.\")\n",
    "        lanjut = input(\"Lakukan pengecekan kembali?(y/n): \").lower().strip()\n",
    "        while lanjut == 'y':\n",
    "            clear()\n",
    "            main()\n",
    "            break\n",
    "main()"
   ]
  },
  {
   "cell_type": "markdown",
   "metadata": {},
   "source": [
    "# Object Oriented Programming\n",
    "Python adalah bahasa pemrograman berorientasi objek.<br>\n",
    "Hampir semua yang ada di Python adalah objek, dengan properti dan metodenya.<br>\n",
    "Kelas seperti konstruktor objek, atau **\"blueprint\"** untuk membuat objek.<br>"
   ]
  },
  {
   "cell_type": "markdown",
   "metadata": {},
   "source": [
    "## Membuat kelas"
   ]
  },
  {
   "cell_type": "code",
   "execution_count": 6,
   "metadata": {
    "tags": []
   },
   "outputs": [],
   "source": [
    "class Kelas_baru:\n",
    "    pass    # kata kunci pass digunakan ketika kita tidak ingin memberi isi dari kelas tersebut"
   ]
  },
  {
   "cell_type": "markdown",
   "metadata": {},
   "source": [
    "## Getter dan setter<br>"
   ]
  },
  {
   "cell_type": "code",
   "execution_count": 5,
   "metadata": {},
   "outputs": [
    {
     "name": "stdout",
     "output_type": "stream",
     "text": [
      "\u001b[H\u001b[2J\u001b[32m\u001b[1mInstance dari kelas Mahasiswa telah terbuat \u001b[0m\n",
      "Jumlah instance dari kelas Mahasiswa: 1\n",
      "\n",
      "\u001b[32m\u001b[1mInstance dari kelas Mahasiswa telah terbuat \u001b[0m\n",
      "Jumlah instance dari kelas Mahasiswa: 2\n",
      "\n",
      "=====================================================================\n",
      "\u001b[4m\u001b[1m\n",
      "Data yang telah dibuat melalui instance dari kelas Mahasiswa pertama\u001b[0m\n",
      "Nama mahasiswa: ucup siucup\n",
      "IPK: 3.70\n",
      "\u001b[4m\u001b[1m\n",
      "Data setelah diubah dengan method setter pada instance pertama\u001b[0m\n",
      "Nama mahasiswa: dadang sidadang\n",
      "IPK: 3.90\n",
      "\u001b[31m\u001b[1m\n",
      "Semua attribute telah terhapus\u001b[0m\n"
     ]
    }
   ],
   "source": [
    "from os import system\n",
    "\n",
    "\n",
    "class Mahasiswa:\n",
    "\n",
    "    jumlah_mahasiswa = 0\n",
    "\n",
    "    def __init__(self, fname: str, lname: str, ipk: float) -> None:\n",
    "        self.__fname = fname\n",
    "        self.__lname = lname\n",
    "        self.__ipk = ipk\n",
    "        Mahasiswa.tambah_jumlah_mhs()\n",
    "\n",
    "    def full_name(self) -> str:\n",
    "        \"\"\"Mengembalikan konkatenasi nama depan dan nama belakang\n",
    "\n",
    "        Returns:\n",
    "            str: Nama depan, nama belakang\n",
    "        \"\"\"\n",
    "        return f\"{self.__fname} {self.__lname}\"\n",
    "\n",
    "    @property\n",
    "    def fname(self) -> str:\n",
    "        \"\"\"Method getter untuk mengembalikan nama depan\n",
    "\n",
    "        Returns:\n",
    "            str: Nama depan\n",
    "        \"\"\"\n",
    "        return self.__fname\n",
    "\n",
    "    @fname.setter\n",
    "    def fname(self, new_fname: str) -> None:\n",
    "        \"\"\"Set nama baru pada objek yang telah dibuat\n",
    "\n",
    "        Args:\n",
    "            new__fname (str): Nama depan\n",
    "        \"\"\"\n",
    "        self.__fname = new_fname\n",
    "\n",
    "    @fname.deleter\n",
    "    def fname(self):\n",
    "        \"\"\"Menghapus nama depan\n",
    "        \"\"\"\n",
    "        del self.__fname\n",
    "\n",
    "    @property\n",
    "    def lname(self) -> str:\n",
    "        \"\"\"Method getter untuk mengembalikan nama belakang\n",
    "\n",
    "        Returns:\n",
    "            str: Nama Belakang\n",
    "        \"\"\"\n",
    "        return self.__lname\n",
    "\n",
    "    @lname.setter\n",
    "    def lname(self, new_lname: str) -> None:\n",
    "        \"\"\"Method setter nama belakang pada objek yang telah dibuat\n",
    "\n",
    "        Args:\n",
    "            new_lname (str): Nama belakang\n",
    "        \"\"\"\n",
    "        self.__lname = new_lname\n",
    "\n",
    "    @lname.deleter\n",
    "    def lname(self):\n",
    "        \"\"\"Menghapus nama belakang\n",
    "        \"\"\"\n",
    "        del self.__lname\n",
    "\n",
    "    @property\n",
    "    def ipk(self) -> float:\n",
    "        \"\"\"Method getter untuk mengembalikan ipk\n",
    "\n",
    "        Returns:\n",
    "            float: ipk\n",
    "        \"\"\"\n",
    "        return self.__ipk\n",
    "\n",
    "    @ipk.setter\n",
    "    def ipk(self, new_ipk: float) -> None:\n",
    "        \"\"\"Method setter untuk ipk pada objek yang telah dibuat\n",
    "\n",
    "        Args:\n",
    "            ipk (float): ipk\n",
    "        \"\"\"\n",
    "        self.__ipk = new_ipk\n",
    "\n",
    "    @ipk.deleter\n",
    "    def ipk(self):\n",
    "        \"\"\"Menghapus ipk\n",
    "        \"\"\"\n",
    "        del self.__ipk\n",
    "\n",
    "    # Gunakan classmethod jika kita perlu mengakses attribute dari sebuah kelas\n",
    "    @classmethod\n",
    "    def jumlah_mhs(cls) -> int:\n",
    "        return cls.jumlah_mahasiswa\n",
    "\n",
    "    @classmethod\n",
    "    def tambah_jumlah_mhs(cls):\n",
    "        \"\"\"Menambah jumlah n -> (int) dari attribute jumlah mahasiswa\n",
    "        \"\"\"\n",
    "        cls.jumlah_mahasiswa += 1\n",
    "\n",
    "    def show(self):\n",
    "        \"\"\"Menampilkan nama dan ipk mahasiswa\n",
    "        \"\"\"\n",
    "        print(f\"Nama mahasiswa: {self.full_name()}\")\n",
    "        print(f\"IPK: {self.ipk:.2f}\")\n",
    "\n",
    "    # gunakan static method jika sebuah method tidak memerlukan instance dari sebuah kelas\n",
    "    @staticmethod\n",
    "    def halo():\n",
    "        print(\"Halo\")\n",
    "\n",
    "\n",
    "def main():\n",
    "    system(\"clear\")\n",
    "\n",
    "    m1 = Mahasiswa(fname=\"ucup\", lname=\"siucup\", ipk=3.70)\n",
    "    print(f\"\\u001b[32m\\033[1mInstance dari kelas Mahasiswa telah terbuat \\033[0m\")\n",
    "    print(f\"Jumlah instance dari kelas Mahasiswa: {Mahasiswa.jumlah_mhs()}\\n\")\n",
    "\n",
    "    print(f\"\\u001b[32m\\033[1mInstance dari kelas Mahasiswa telah terbuat \\033[0m\")\n",
    "    \n",
    "    _ = Mahasiswa(fname=\"budi\", lname=\"sibudi\", ipk=3.65)\n",
    "    print(f\"Jumlah instance dari kelas Mahasiswa: {Mahasiswa.jumlah_mhs()}\\n\")\n",
    "\n",
    "    print('=====================================================================')\n",
    "    print('\\u001b[4m' + '\\033[1m' + '\\nData yang telah dibuat melalui instance dari kelas Mahasiswa pertama' + '\\033[0m')\n",
    "\n",
    "    m1.show()\n",
    "\n",
    "    # Mengubah data pada instance pertama yang sudah dibuat\n",
    "    m1.fname = \"dadang\"\n",
    "    m1.lname = \"sidadang\"\n",
    "    m1.ipk = 3.90\n",
    "\n",
    "    print('\\u001b[4m' + '\\033[1m' + '\\nData setelah diubah dengan method setter pada instance pertama' + '\\033[0m')\n",
    "    m1.show()\n",
    "\n",
    "    try:\n",
    "        del m1.fname\n",
    "        del m1.lname\n",
    "        del m1.ipk\n",
    "        m1.show()\n",
    "    except AttributeError:\n",
    "        print('\\u001b[31m' + '\\033[1m' + '\\nSemua attribute telah terhapus' + '\\033[0m')\n",
    "\n",
    "\n",
    "if __name__ == '__main__':\n",
    "    main()\n"
   ]
  },
  {
   "cell_type": "markdown",
   "metadata": {},
   "source": [
    "## Dataclass"
   ]
  },
  {
   "cell_type": "code",
   "execution_count": 1,
   "metadata": {},
   "outputs": [
    {
     "name": "stdout",
     "output_type": "stream",
     "text": [
      "Nama customer: Rafli \n",
      "id: 2435798\n"
     ]
    }
   ],
   "source": [
    "from dataclasses import dataclass\n",
    "\n",
    "@dataclass\n",
    "class Customer:\n",
    "    __id: str\n",
    "    __nama: str\n",
    "    \n",
    "    def show(self):\n",
    "        print(f\"Nama customer: {self.__nama} \\nid: {self.__id}\")\n",
    "    \n",
    "c = Customer(\"2435798\", \"Rafli\")\n",
    "c.show()"
   ]
  }
 ],
 "metadata": {
  "interpreter": {
   "hash": "7c9d4ade6c3e5e99252528834a7724ba2e404e9c17e17b1d8238b458bb8cce14"
  },
  "kernelspec": {
   "display_name": "Python 3.9.7 ('base')",
   "language": "python",
   "name": "python3"
  },
  "language_info": {
   "codemirror_mode": {
    "name": "ipython",
    "version": 3
   },
   "file_extension": ".py",
   "mimetype": "text/x-python",
   "name": "python",
   "nbconvert_exporter": "python",
   "pygments_lexer": "ipython3",
   "version": "3.9.7"
  },
  "toc-autonumbering": false,
  "toc-showcode": true,
  "toc-showmarkdowntxt": false
 },
 "nbformat": 4,
 "nbformat_minor": 4
}
